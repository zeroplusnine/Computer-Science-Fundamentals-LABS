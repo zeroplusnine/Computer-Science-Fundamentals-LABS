{
 "cells": [
  {
   "cell_type": "markdown",
   "id": "032f9fc5",
   "metadata": {
    "id": "b6e13eef3f5d",
    "papermill": {
     "duration": 0.012086,
     "end_time": "2024-11-14T07:25:50.746980",
     "exception": false,
     "start_time": "2024-11-14T07:25:50.734894",
     "status": "completed"
    },
    "tags": []
   },
   "source": [
    "##### Copyright 2024 Google LLC."
   ]
  },
  {
   "cell_type": "code",
   "execution_count": 1,
   "id": "52c48d44",
   "metadata": {
    "cellView": "form",
    "execution": {
     "iopub.execute_input": "2024-11-14T07:25:50.767951Z",
     "iopub.status.busy": "2024-11-14T07:25:50.767526Z",
     "iopub.status.idle": "2024-11-14T07:25:50.773613Z",
     "shell.execute_reply": "2024-11-14T07:25:50.772509Z"
    },
    "id": "d6597b11df14",
    "jupyter": {
     "source_hidden": true
    },
    "papermill": {
     "duration": 0.019027,
     "end_time": "2024-11-14T07:25:50.775988",
     "exception": false,
     "start_time": "2024-11-14T07:25:50.756961",
     "status": "completed"
    },
    "tags": []
   },
   "outputs": [],
   "source": [
    "# @title Licensed under the Apache License, Version 2.0 (the \"License\");\n",
    "# you may not use this file except in compliance with the License.\n",
    "# You may obtain a copy of the License at\n",
    "#\n",
    "# https://www.apache.org/licenses/LICENSE-2.0\n",
    "#\n",
    "# Unless required by applicable law or agreed to in writing, software\n",
    "# distributed under the License is distributed on an \"AS IS\" BASIS,\n",
    "# WITHOUT WARRANTIES OR CONDITIONS OF ANY KIND, either express or implied.\n",
    "# See the License for the specific language governing permissions and\n",
    "# limitations under the License."
   ]
  },
  {
   "cell_type": "markdown",
   "id": "34c90695",
   "metadata": {
    "id": "4KDIFPAL2EnL",
    "papermill": {
     "duration": 0.009241,
     "end_time": "2024-11-14T07:25:50.795655",
     "exception": false,
     "start_time": "2024-11-14T07:25:50.786414",
     "status": "completed"
    },
    "tags": []
   },
   "source": [
    "# Day 4 - Fine tuning a custom model\n",
    "\n",
    "Welcome back to the Kaggle 5-day Generative AI course!\n",
    "\n",
    "In this notebook you will use the Gemini API to fine-tune a custom, task-specific model. Fine-tuning can be used for a variety of tasks from classic NLP problems like entity extraction or summarisation, to creative tasks like stylised generation. You will fine-tune a model to classify the category a piece of text (a newsgroup post) into the category it belongs to (the newsgroup name).\n",
    "\n",
    "This codelab walks you tuning a model with the API. [AI Studio](https://aistudio.google.com/app/tune) also supports creating new tuned models directly in the web UI, allowing you to quickly create and monitor models using data from Google Sheets, Drive or your own files."
   ]
  },
  {
   "cell_type": "code",
   "execution_count": 2,
   "id": "f444a7c0",
   "metadata": {
    "execution": {
     "iopub.execute_input": "2024-11-14T07:25:50.816255Z",
     "iopub.status.busy": "2024-11-14T07:25:50.815802Z",
     "iopub.status.idle": "2024-11-14T07:26:25.782074Z",
     "shell.execute_reply": "2024-11-14T07:26:25.780704Z"
    },
    "id": "9wafTyEH1_xF",
    "papermill": {
     "duration": 34.987682,
     "end_time": "2024-11-14T07:26:25.792677",
     "exception": false,
     "start_time": "2024-11-14T07:25:50.804995",
     "status": "completed"
    },
    "tags": []
   },
   "outputs": [
    {
     "name": "stdout",
     "output_type": "stream",
     "text": [
      "Note: you may need to restart the kernel to use updated packages.\n"
     ]
    }
   ],
   "source": [
    "%pip install -U -q 'google-generativeai>=0.8.3'"
   ]
  },
  {
   "cell_type": "markdown",
   "id": "23574a91",
   "metadata": {
    "papermill": {
     "duration": 0.009024,
     "end_time": "2024-11-14T07:26:25.810977",
     "exception": false,
     "start_time": "2024-11-14T07:26:25.801953",
     "status": "completed"
    },
    "tags": []
   },
   "source": [
    "Note that you do not have to restart the kernel."
   ]
  },
  {
   "cell_type": "code",
   "execution_count": 3,
   "id": "061079de",
   "metadata": {
    "execution": {
     "iopub.execute_input": "2024-11-14T07:26:25.831905Z",
     "iopub.status.busy": "2024-11-14T07:26:25.831465Z",
     "iopub.status.idle": "2024-11-14T07:26:27.187748Z",
     "shell.execute_reply": "2024-11-14T07:26:27.186563Z"
    },
    "id": "T0CBG9xL2PvT",
    "papermill": {
     "duration": 1.370524,
     "end_time": "2024-11-14T07:26:27.190933",
     "exception": false,
     "start_time": "2024-11-14T07:26:25.820409",
     "status": "completed"
    },
    "tags": []
   },
   "outputs": [],
   "source": [
    "import google.generativeai as genai"
   ]
  },
  {
   "cell_type": "markdown",
   "id": "d4bbbb65",
   "metadata": {
    "id": "P4bYX2T72ScK",
    "papermill": {
     "duration": 0.009172,
     "end_time": "2024-11-14T07:26:27.209955",
     "exception": false,
     "start_time": "2024-11-14T07:26:27.200783",
     "status": "completed"
    },
    "tags": []
   },
   "source": [
    "### Set up your API key\n",
    "\n",
    "To run the following cell, your API key must be stored it in a [Kaggle secret](https://www.kaggle.com/discussions/product-feedback/114053) named `GOOGLE_API_KEY`.\n",
    "\n",
    "If you don't already have an API key, you can grab one from [AI Studio](https://aistudio.google.com/app/apikey). You can find [detailed instructions in the docs](https://ai.google.dev/gemini-api/docs/api-key).\n",
    "\n",
    "To make the key available through Kaggle secrets, choose `Secrets` from the `Add-ons` menu and follow the instructions to add your key or enable it for this notebook."
   ]
  },
  {
   "cell_type": "code",
   "execution_count": 4,
   "id": "2f424fa3",
   "metadata": {
    "execution": {
     "iopub.execute_input": "2024-11-14T07:26:27.232875Z",
     "iopub.status.busy": "2024-11-14T07:26:27.231384Z",
     "iopub.status.idle": "2024-11-14T07:26:27.524896Z",
     "shell.execute_reply": "2024-11-14T07:26:27.523614Z"
    },
    "id": "VuJPY3GK2SLZ",
    "papermill": {
     "duration": 0.307511,
     "end_time": "2024-11-14T07:26:27.527755",
     "exception": false,
     "start_time": "2024-11-14T07:26:27.220244",
     "status": "completed"
    },
    "tags": []
   },
   "outputs": [],
   "source": [
    "from kaggle_secrets import UserSecretsClient\n",
    "\n",
    "GOOGLE_API_KEY = UserSecretsClient().get_secret(\"GOOGLE_API_KEY\")\n",
    "genai.configure(api_key=GOOGLE_API_KEY)"
   ]
  },
  {
   "attachments": {
    "53e1d527-de81-497e-bfac-58df458e750b.png": {
     "image/png": "[encoded data removed]"
    }
   },
   "cell_type": "markdown",
   "id": "d8f55120",
   "metadata": {
    "id": "25b2127c2052",
    "papermill": {
     "duration": 0.009391,
     "end_time": "2024-11-14T07:26:27.547010",
     "exception": false,
     "start_time": "2024-11-14T07:26:27.537619",
     "status": "completed"
    },
    "tags": []
   },
   "source": [
    "If you received an error response along the lines of `No user secrets exist for kernel id ...`, then you need to add your API key via `Add-ons`, `Secrets` **and** enable it.\n",
    "\n",
    "![Screenshot of the checkbox to enable GOOGLE_API_KEY secret](https://storage.googleapis.com/kaggle-media/Images/5gdai_sc_3.png)"
   ]
  },
  {
   "cell_type": "markdown",
   "id": "33ca1a09",
   "metadata": {
    "id": "CqVA5QFO6n4z",
    "papermill": {
     "duration": 0.009105,
     "end_time": "2024-11-14T07:26:27.566868",
     "exception": false,
     "start_time": "2024-11-14T07:26:27.557763",
     "status": "completed"
    },
    "tags": []
   },
   "source": [
    "### Explore available models\n",
    "\n",
    "You will be using the [`TunedModel.create`](https://ai.google.dev/api/tuning#method:-tunedmodels.create) API method to start the fine-tuning job and create your custom model. Find a model that supports it through the [`models.list`](https://ai.google.dev/api/models#method:-models.list) endpoint. You can also find more information about tuning models in [the model tuning docs](https://ai.google.dev/gemini-api/docs/model-tuning/tutorial?lang=python)."
   ]
  },
  {
   "cell_type": "code",
   "execution_count": 5,
   "id": "d0f2096b",
   "metadata": {
    "execution": {
     "iopub.execute_input": "2024-11-14T07:26:27.588653Z",
     "iopub.status.busy": "2024-11-14T07:26:27.587896Z",
     "iopub.status.idle": "2024-11-14T07:26:28.499586Z",
     "shell.execute_reply": "2024-11-14T07:26:28.497981Z"
    },
    "id": "coEacWAB6o0G",
    "papermill": {
     "duration": 0.925446,
     "end_time": "2024-11-14T07:26:28.502181",
     "exception": false,
     "start_time": "2024-11-14T07:26:27.576735",
     "status": "completed"
    },
    "tags": []
   },
   "outputs": [
    {
     "name": "stdout",
     "output_type": "stream",
     "text": [
      "models/gemini-1.0-pro-001\n",
      "models/gemini-1.5-flash-001-tuning\n"
     ]
    }
   ],
   "source": [
    "for model in genai.list_models():\n",
    "    if \"createTunedModel\" in model.supported_generation_methods:\n",
    "        print(model.name)"
   ]
  },
  {
   "cell_type": "markdown",
   "id": "356ffd2d",
   "metadata": {
    "id": "peFm0w_0c1CO",
    "papermill": {
     "duration": 0.008948,
     "end_time": "2024-11-14T07:26:28.521000",
     "exception": false,
     "start_time": "2024-11-14T07:26:28.512052",
     "status": "completed"
    },
    "tags": []
   },
   "source": [
    "## Download the dataset\n",
    "\n",
    "In this activity, you will use the same newsgroups dataset that you used to train a classifier in Keras. In this example you will use a fine-tuned Gemini model to achieve the same goal.\n",
    "\n",
    "The [20 Newsgroups Text Dataset](https://scikit-learn.org/0.19/datasets/twenty_newsgroups.html) contains 18,000 newsgroups posts on 20 topics divided into training and test sets."
   ]
  },
  {
   "cell_type": "code",
   "execution_count": 6,
   "id": "f87a5deb",
   "metadata": {
    "execution": {
     "iopub.execute_input": "2024-11-14T07:26:28.541978Z",
     "iopub.status.busy": "2024-11-14T07:26:28.541546Z",
     "iopub.status.idle": "2024-11-14T07:26:53.673632Z",
     "shell.execute_reply": "2024-11-14T07:26:53.672349Z"
    },
    "id": "bX_kpgnQ9b-Z",
    "papermill": {
     "duration": 25.145752,
     "end_time": "2024-11-14T07:26:53.676079",
     "exception": false,
     "start_time": "2024-11-14T07:26:28.530327",
     "status": "completed"
    },
    "tags": []
   },
   "outputs": [
    {
     "data": {
      "text/plain": [
       "['alt.atheism',\n",
       " 'comp.graphics',\n",
       " 'comp.os.ms-windows.misc',\n",
       " 'comp.sys.ibm.pc.hardware',\n",
       " 'comp.sys.mac.hardware',\n",
       " 'comp.windows.x',\n",
       " 'misc.forsale',\n",
       " 'rec.autos',\n",
       " 'rec.motorcycles',\n",
       " 'rec.sport.baseball',\n",
       " 'rec.sport.hockey',\n",
       " 'sci.crypt',\n",
       " 'sci.electronics',\n",
       " 'sci.med',\n",
       " 'sci.space',\n",
       " 'soc.religion.christian',\n",
       " 'talk.politics.guns',\n",
       " 'talk.politics.mideast',\n",
       " 'talk.politics.misc',\n",
       " 'talk.religion.misc']"
      ]
     },
     "execution_count": 6,
     "metadata": {},
     "output_type": "execute_result"
    }
   ],
   "source": [
    "from sklearn.datasets import fetch_20newsgroups\n",
    "\n",
    "newsgroups_train = fetch_20newsgroups(subset=\"train\")\n",
    "newsgroups_test = fetch_20newsgroups(subset=\"test\")\n",
    "\n",
    "# View list of class names for dataset\n",
    "newsgroups_train.target_names"
   ]
  },
  {
   "cell_type": "markdown",
   "id": "cc3e6e7e",
   "metadata": {
    "id": "ipafe6ptZFjt",
    "papermill": {
     "duration": 0.009437,
     "end_time": "2024-11-14T07:26:53.695367",
     "exception": false,
     "start_time": "2024-11-14T07:26:53.685930",
     "status": "completed"
    },
    "tags": []
   },
   "source": [
    "Here's what a single row looks like."
   ]
  },
  {
   "cell_type": "code",
   "execution_count": 7,
   "id": "1e0ea8f6",
   "metadata": {
    "execution": {
     "iopub.execute_input": "2024-11-14T07:26:53.715983Z",
     "iopub.status.busy": "2024-11-14T07:26:53.715531Z",
     "iopub.status.idle": "2024-11-14T07:26:53.721499Z",
     "shell.execute_reply": "2024-11-14T07:26:53.720230Z"
    },
    "id": "EtEXcdT39hCB",
    "papermill": {
     "duration": 0.019592,
     "end_time": "2024-11-14T07:26:53.724444",
     "exception": false,
     "start_time": "2024-11-14T07:26:53.704852",
     "status": "completed"
    },
    "tags": []
   },
   "outputs": [
    {
     "name": "stdout",
     "output_type": "stream",
     "text": [
      "From: lerxst@wam.umd.edu (where's my thing)\n",
      "Subject: WHAT car is this!?\n",
      "Nntp-Posting-Host: rac3.wam.umd.edu\n",
      "Organization: University of Maryland, College Park\n",
      "Lines: 15\n",
      "\n",
      " I was wondering if anyone out there could enlighten me on this car I saw\n",
      "the other day. It was a 2-door sports car, looked to be from the late 60s/\n",
      "early 70s. It was called a Bricklin. The doors were really small. In addition,\n",
      "the front bumper was separate from the rest of the body. This is \n",
      "all I know. If anyone can tellme a model name, engine specs, years\n",
      "of production, where this car is made, history, or whatever info you\n",
      "have on this funky looking car, please e-mail.\n",
      "\n",
      "Thanks,\n",
      "- IL\n",
      "   ---- brought to you by your neighborhood Lerxst ----\n",
      "\n",
      "\n",
      "\n",
      "\n",
      "\n"
     ]
    }
   ],
   "source": [
    "print(newsgroups_train.data[0])"
   ]
  },
  {
   "cell_type": "markdown",
   "id": "26db4757",
   "metadata": {
    "id": "03lDs1O4ZQ0-",
    "papermill": {
     "duration": 0.009541,
     "end_time": "2024-11-14T07:26:53.743911",
     "exception": false,
     "start_time": "2024-11-14T07:26:53.734370",
     "status": "completed"
    },
    "tags": []
   },
   "source": [
    "## Prepare the dataset\n",
    "\n",
    "You'll use the same pre-processing code you used for the custom model on day 2. This pre-processing removes personal information, which can be used to \"shortcut\" to known users of a forum, and formats the text to appear a bit more like regular text and less like a newsgroup post (e.g. by removing the mail headers). This normalisation allows the model to generalise to regular text and not over-depend on specific fields. If your input data is always going to be newsgroup posts, it may be helpful to leave this structure in place if they provide genuine signals."
   ]
  },
  {
   "cell_type": "code",
   "execution_count": 8,
   "id": "55246eaf",
   "metadata": {
    "execution": {
     "iopub.execute_input": "2024-11-14T07:26:53.765251Z",
     "iopub.status.busy": "2024-11-14T07:26:53.764786Z",
     "iopub.status.idle": "2024-11-14T07:26:54.769046Z",
     "shell.execute_reply": "2024-11-14T07:26:54.767910Z"
    },
    "id": "IoNYTxpoZgB0",
    "papermill": {
     "duration": 1.017943,
     "end_time": "2024-11-14T07:26:54.771655",
     "exception": false,
     "start_time": "2024-11-14T07:26:53.753712",
     "status": "completed"
    },
    "tags": []
   },
   "outputs": [],
   "source": [
    "import email\n",
    "import re\n",
    "\n",
    "import pandas as pd\n",
    "\n",
    "\n",
    "def preprocess_newsgroup_row(data):\n",
    "    # Extract only the subject and body\n",
    "    msg = email.message_from_string(data)\n",
    "    text = f\"{msg['Subject']}\\n\\n{msg.get_payload()}\"\n",
    "    # Strip any remaining email addresses\n",
    "    text = re.sub(r\"[\\w\\.-]+@[\\w\\.-]+\", \"\", text)\n",
    "    # Truncate the text to fit within the input limits\n",
    "    text = text[:40000]\n",
    "\n",
    "    return text\n",
    "\n",
    "\n",
    "def preprocess_newsgroup_data(newsgroup_dataset):\n",
    "    # Put data points into dataframe\n",
    "    df = pd.DataFrame(\n",
    "        {\"Text\": newsgroup_dataset.data, \"Label\": newsgroup_dataset.target}\n",
    "    )\n",
    "    # Clean up the text\n",
    "    df[\"Text\"] = df[\"Text\"].apply(preprocess_newsgroup_row)\n",
    "    # Match label to target name index\n",
    "    df[\"Class Name\"] = df[\"Label\"].map(lambda l: newsgroup_dataset.target_names[l])\n",
    "\n",
    "    return df"
   ]
  },
  {
   "cell_type": "code",
   "execution_count": 9,
   "id": "5c809a3d",
   "metadata": {
    "execution": {
     "iopub.execute_input": "2024-11-14T07:26:54.793034Z",
     "iopub.status.busy": "2024-11-14T07:26:54.792385Z",
     "iopub.status.idle": "2024-11-14T07:26:58.978627Z",
     "shell.execute_reply": "2024-11-14T07:26:58.977264Z"
    },
    "id": "kvOsUSRWaW4g",
    "papermill": {
     "duration": 4.199962,
     "end_time": "2024-11-14T07:26:58.981370",
     "exception": false,
     "start_time": "2024-11-14T07:26:54.781408",
     "status": "completed"
    },
    "tags": []
   },
   "outputs": [
    {
     "data": {
      "text/html": [
       "<div>\n",
       "<style scoped>\n",
       "    .dataframe tbody tr th:only-of-type {\n",
       "        vertical-align: middle;\n",
       "    }\n",
       "\n",
       "    .dataframe tbody tr th {\n",
       "        vertical-align: top;\n",
       "    }\n",
       "\n",
       "    .dataframe thead th {\n",
       "        text-align: right;\n",
       "    }\n",
       "</style>\n",
       "<table border=\"1\" class=\"dataframe\">\n",
       "  <thead>\n",
       "    <tr style=\"text-align: right;\">\n",
       "      <th></th>\n",
       "      <th>Text</th>\n",
       "      <th>Label</th>\n",
       "      <th>Class Name</th>\n",
       "    </tr>\n",
       "  </thead>\n",
       "  <tbody>\n",
       "    <tr>\n",
       "      <th>0</th>\n",
       "      <td>WHAT car is this!?\\n\\n I was wondering if anyo...</td>\n",
       "      <td>7</td>\n",
       "      <td>rec.autos</td>\n",
       "    </tr>\n",
       "    <tr>\n",
       "      <th>1</th>\n",
       "      <td>SI Clock Poll - Final Call\\n\\nA fair number of...</td>\n",
       "      <td>4</td>\n",
       "      <td>comp.sys.mac.hardware</td>\n",
       "    </tr>\n",
       "    <tr>\n",
       "      <th>2</th>\n",
       "      <td>PB questions...\\n\\nwell folks, my mac plus fin...</td>\n",
       "      <td>4</td>\n",
       "      <td>comp.sys.mac.hardware</td>\n",
       "    </tr>\n",
       "    <tr>\n",
       "      <th>3</th>\n",
       "      <td>Re: Weitek P9000 ?\\n\\nRobert J.C. Kyanko () wr...</td>\n",
       "      <td>1</td>\n",
       "      <td>comp.graphics</td>\n",
       "    </tr>\n",
       "    <tr>\n",
       "      <th>4</th>\n",
       "      <td>Re: Shuttle Launch Question\\n\\nFrom article &lt;&gt;...</td>\n",
       "      <td>14</td>\n",
       "      <td>sci.space</td>\n",
       "    </tr>\n",
       "  </tbody>\n",
       "</table>\n",
       "</div>"
      ],
      "text/plain": [
       "                                                Text  Label  \\\n",
       "0  WHAT car is this!?\\n\\n I was wondering if anyo...      7   \n",
       "1  SI Clock Poll - Final Call\\n\\nA fair number of...      4   \n",
       "2  PB questions...\\n\\nwell folks, my mac plus fin...      4   \n",
       "3  Re: Weitek P9000 ?\\n\\nRobert J.C. Kyanko () wr...      1   \n",
       "4  Re: Shuttle Launch Question\\n\\nFrom article <>...     14   \n",
       "\n",
       "              Class Name  \n",
       "0              rec.autos  \n",
       "1  comp.sys.mac.hardware  \n",
       "2  comp.sys.mac.hardware  \n",
       "3          comp.graphics  \n",
       "4              sci.space  "
      ]
     },
     "execution_count": 9,
     "metadata": {},
     "output_type": "execute_result"
    }
   ],
   "source": [
    "# Apply preprocessing to training and test datasets\n",
    "df_train = preprocess_newsgroup_data(newsgroups_train)\n",
    "df_test = preprocess_newsgroup_data(newsgroups_test)\n",
    "\n",
    "df_train.head()"
   ]
  },
  {
   "cell_type": "markdown",
   "id": "dc9452b3",
   "metadata": {
    "id": "XSKcj5WtadaR",
    "papermill": {
     "duration": 0.010477,
     "end_time": "2024-11-14T07:26:59.002581",
     "exception": false,
     "start_time": "2024-11-14T07:26:58.992104",
     "status": "completed"
    },
    "tags": []
   },
   "source": [
    "Now sample the data. You will keep 50 rows for each category for training. Note that this is even fewer than the Keras example, as this technique (parameter-efficient fine-tuning, or PEFT) updates a relatively small number of parameters and does not require training a new model or updating the large model."
   ]
  },
  {
   "cell_type": "code",
   "execution_count": 10,
   "id": "91d3ef81",
   "metadata": {
    "execution": {
     "iopub.execute_input": "2024-11-14T07:26:59.026989Z",
     "iopub.status.busy": "2024-11-14T07:26:59.026437Z",
     "iopub.status.idle": "2024-11-14T07:26:59.084469Z",
     "shell.execute_reply": "2024-11-14T07:26:59.083273Z"
    },
    "id": "0t9Xu6X5akkt",
    "papermill": {
     "duration": 0.074818,
     "end_time": "2024-11-14T07:26:59.087649",
     "exception": false,
     "start_time": "2024-11-14T07:26:59.012831",
     "status": "completed"
    },
    "tags": []
   },
   "outputs": [],
   "source": [
    "def sample_data(df, num_samples, classes_to_keep):\n",
    "    # Sample rows, selecting num_samples of each Label.\n",
    "    df = (\n",
    "        df.groupby(\"Label\")[df.columns]\n",
    "        .apply(lambda x: x.sample(num_samples))\n",
    "        .reset_index(drop=True)\n",
    "    )\n",
    "\n",
    "    df = df[df[\"Class Name\"].str.contains(classes_to_keep)]\n",
    "    df[\"Class Name\"] = df[\"Class Name\"].astype(\"category\")\n",
    "\n",
    "    return df\n",
    "\n",
    "\n",
    "TRAIN_NUM_SAMPLES = 50\n",
    "TEST_NUM_SAMPLES = 10\n",
    "# Keep rec.* and sci.*\n",
    "CLASSES_TO_KEEP = \"^rec|^sci\"\n",
    "\n",
    "df_train = sample_data(df_train, TRAIN_NUM_SAMPLES, CLASSES_TO_KEEP)\n",
    "df_test = sample_data(df_test, TEST_NUM_SAMPLES, CLASSES_TO_KEEP)"
   ]
  },
  {
   "cell_type": "markdown",
   "id": "d34d9d24",
   "metadata": {
    "papermill": {
     "duration": 0.015098,
     "end_time": "2024-11-14T07:26:59.118299",
     "exception": false,
     "start_time": "2024-11-14T07:26:59.103201",
     "status": "completed"
    },
    "tags": []
   },
   "source": [
    "## Evaluate baseline performance\n",
    "\n",
    "Before you start tuning a model, it's good practice to perform an evaluation on the available models to ensure you can measure how much the tuning helps.\n",
    "\n",
    "First identify a single sample row to use for visual inspection."
   ]
  },
  {
   "cell_type": "code",
   "execution_count": 11,
   "id": "a401e177",
   "metadata": {
    "execution": {
     "iopub.execute_input": "2024-11-14T07:26:59.139966Z",
     "iopub.status.busy": "2024-11-14T07:26:59.139533Z",
     "iopub.status.idle": "2024-11-14T07:26:59.146892Z",
     "shell.execute_reply": "2024-11-14T07:26:59.145635Z"
    },
    "papermill": {
     "duration": 0.021142,
     "end_time": "2024-11-14T07:26:59.149469",
     "exception": false,
     "start_time": "2024-11-14T07:26:59.128327",
     "status": "completed"
    },
    "tags": []
   },
   "outputs": [
    {
     "name": "stdout",
     "output_type": "stream",
     "text": [
      "Need info on 88-89 Bonneville\n",
      "\n",
      "\n",
      " I am a little confused on all of the models of the 88-89 bonnevilles.\n",
      "I have heard of the LE SE LSE SSE SSEI. Could someone tell me the\n",
      "differences are far as features or performance. I am also curious to\n",
      "know what the book value is for prefereably the 89 model. And how much\n",
      "less than book value can you usually get them for. In other words how\n",
      "much are they in demand this time of year. I have heard that the mid-spring\n",
      "early summer is the best time to buy.\n",
      "\n",
      "\t\t\tNeil Gandler\n",
      "\n",
      "---\n",
      "Label: rec.autos\n"
     ]
    }
   ],
   "source": [
    "sample_idx = 0\n",
    "sample_row = preprocess_newsgroup_row(newsgroups_test.data[sample_idx])\n",
    "sample_label = newsgroups_test.target_names[newsgroups_test.target[sample_idx]]\n",
    "\n",
    "print(sample_row)\n",
    "print('---')\n",
    "print('Label:', sample_label)"
   ]
  },
  {
   "cell_type": "markdown",
   "id": "fcf3f52f",
   "metadata": {
    "papermill": {
     "duration": 0.009986,
     "end_time": "2024-11-14T07:26:59.169525",
     "exception": false,
     "start_time": "2024-11-14T07:26:59.159539",
     "status": "completed"
    },
    "tags": []
   },
   "source": [
    "Passing the text directly in as a prompt does not yield the desired results. The model will attempt to respond to the message."
   ]
  },
  {
   "cell_type": "code",
   "execution_count": 12,
   "id": "290a6766",
   "metadata": {
    "execution": {
     "iopub.execute_input": "2024-11-14T07:26:59.191249Z",
     "iopub.status.busy": "2024-11-14T07:26:59.190709Z",
     "iopub.status.idle": "2024-11-14T07:27:03.214713Z",
     "shell.execute_reply": "2024-11-14T07:27:03.213086Z"
    },
    "papermill": {
     "duration": 4.038075,
     "end_time": "2024-11-14T07:27:03.217461",
     "exception": false,
     "start_time": "2024-11-14T07:26:59.179386",
     "status": "completed"
    },
    "tags": []
   },
   "outputs": [
    {
     "name": "stdout",
     "output_type": "stream",
     "text": [
      "## 1988-1989 Pontiac Bonnevilles: A Guide to the Models\n",
      "\n",
      "You're right, the 1988-1989 Bonneville lineup can be confusing with all the different trim levels. Here's a breakdown:\n",
      "\n",
      "**1. Base Model:** The standard Bonneville offered a 3.8L V6 engine (135 hp) or a 5.0L V8 (170 hp). It came with basic amenities like cloth upholstery, AM/FM radio, and manual windows/locks. \n",
      "\n",
      "**2. LE (Luxury Edition):** The LE added power windows, locks, and mirrors, as well as plusher interior materials and a more luxurious look. \n",
      "\n",
      "**3. SE (Special Edition):** The SE focused on sportiness. It featured a slightly tuned engine, a sport suspension, and distinctive exterior styling. \n",
      "\n",
      "**4. LSE (Luxury Special Edition):**  The LSE combined the luxury of the LE with the sporty elements of the SE. \n",
      "\n",
      "**5. SSE (Sport Sedan Edition):**  The SSE was the top-of-the-line model, featuring a more powerful 3.8L V6 (165 hp), a sport-tuned suspension, and a unique exterior design.\n",
      "\n",
      "**6. SSEi (Sport Sedan Edition - Injection):** The SSEi was only available in 1989. It replaced the standard 3.8L V6 with a fuel-injected version that boosted horsepower to 170.  \n",
      "\n",
      "**Book Values and Market Demand:**\n",
      "\n",
      "* **Book Value:** The actual book value for a 1989 Bonneville will vary greatly depending on condition, mileage, and trim level. Resources like Kelley Blue Book (KBB) or Edmunds can give you a general estimate.\n",
      "* **Market Demand:** The demand for these older cars is typically low, meaning you might be able to negotiate below book value. Spring and summer are usually considered the best times to buy, but the market can fluctuate. \n",
      "\n",
      "**Tips for Finding a Good Deal:**\n",
      "\n",
      "* **Research thoroughly:** Check out online resources like KBB and Edmunds for price comparisons.\n",
      "* **Inspect the car carefully:** Look for rust, damage, and worn-out parts. Get a pre-purchase inspection from a trusted mechanic.\n",
      "* **Negotiate:** Be prepared to haggle. Research comparable cars and use that information to make a fair offer.\n",
      "* **Consider the overall cost:**  Factor in maintenance costs and potential repairs when budgeting. \n",
      "\n",
      "**Remember:** 1988-1989 Bonnevilles are relatively old cars. While they can offer classic styling and decent reliability, they might require more maintenance and repairs than newer models. \n",
      "\n",
      "**Ultimately, the best deal depends on finding a well-maintained car in good condition that fits your needs and budget.** \n",
      "\n"
     ]
    }
   ],
   "source": [
    "baseline_model = genai.GenerativeModel(\"gemini-1.5-flash-001\")\n",
    "response = baseline_model.generate_content(sample_row)\n",
    "print(response.text)"
   ]
  },
  {
   "cell_type": "markdown",
   "id": "1cf181a2",
   "metadata": {
    "papermill": {
     "duration": 0.009874,
     "end_time": "2024-11-14T07:27:03.237479",
     "exception": false,
     "start_time": "2024-11-14T07:27:03.227605",
     "status": "completed"
    },
    "tags": []
   },
   "source": [
    "You can use the prompt engineering techniques you have learned this week to induce the model to perform the desired task. Try some of your own ideas and see what is effective, or check out the following cells for different approaches. Note that they have different levels of effectiveness!"
   ]
  },
  {
   "cell_type": "code",
   "execution_count": 13,
   "id": "e65c05d0",
   "metadata": {
    "execution": {
     "iopub.execute_input": "2024-11-14T07:27:03.259693Z",
     "iopub.status.busy": "2024-11-14T07:27:03.258858Z",
     "iopub.status.idle": "2024-11-14T07:27:05.314087Z",
     "shell.execute_reply": "2024-11-14T07:27:05.312704Z"
    },
    "papermill": {
     "duration": 2.069209,
     "end_time": "2024-11-14T07:27:05.316665",
     "exception": false,
     "start_time": "2024-11-14T07:27:03.247456",
     "status": "completed"
    },
    "tags": []
   },
   "outputs": [
    {
     "name": "stdout",
     "output_type": "stream",
     "text": [
      "This message most likely originates from a **Buick-specific newsgroup**. \n",
      "\n",
      "Here's why:\n",
      "\n",
      "* **Subject matter:** The message focuses on specific details of a Buick Bonneville model year, suggesting an enthusiast community interested in that particular car.\n",
      "* **Specific model variations:** The message mentions various trim levels (LE, SE, LSE, SSE, SSEi) that are unique to Buick Bonneville models. \n",
      "* **Book value and pricing:** The discussion about book value and typical discounts indicates an interest in buying and selling these vehicles.\n",
      "\n",
      "Therefore, the most likely newsgroups are:\n",
      "\n",
      "* **alt.autos.buick:**  A general discussion group for all things Buick.\n",
      "* **rec.autos.buick:**  A similar newsgroup for Buick enthusiasts.\n",
      "\n",
      "There might be other more specific newsgroups dedicated to the Bonneville model, but these two are the most likely sources. \n",
      "\n"
     ]
    }
   ],
   "source": [
    "# Ask the model directly in a zero-shot prompt.\n",
    "\n",
    "prompt = \"From what newsgroup does the following message originate?\"\n",
    "baseline_response = baseline_model.generate_content([prompt, sample_row])\n",
    "print(baseline_response.text)"
   ]
  },
  {
   "cell_type": "markdown",
   "id": "655a383b",
   "metadata": {
    "papermill": {
     "duration": 0.010087,
     "end_time": "2024-11-14T07:27:05.336874",
     "exception": false,
     "start_time": "2024-11-14T07:27:05.326787",
     "status": "completed"
    },
    "tags": []
   },
   "source": [
    "That technique produces quite a verbose response. You could try and pick out the relevant text, or refine the prompt even further."
   ]
  },
  {
   "cell_type": "code",
   "execution_count": 14,
   "id": "3481e607",
   "metadata": {
    "execution": {
     "iopub.execute_input": "2024-11-14T07:27:05.358992Z",
     "iopub.status.busy": "2024-11-14T07:27:05.358565Z",
     "iopub.status.idle": "2024-11-14T07:27:05.900051Z",
     "shell.execute_reply": "2024-11-14T07:27:05.898691Z"
    },
    "papermill": {
     "duration": 0.555528,
     "end_time": "2024-11-14T07:27:05.902570",
     "exception": false,
     "start_time": "2024-11-14T07:27:05.347042",
     "status": "completed"
    },
    "tags": []
   },
   "outputs": [
    {
     "name": "stdout",
     "output_type": "stream",
     "text": [
      "rec.autos.misc\n",
      "\n",
      "Incorrect.\n"
     ]
    }
   ],
   "source": [
    "from google.api_core import retry\n",
    "\n",
    "# You can use a system instruction to do more direct prompting, and get a\n",
    "# more succinct answer.\n",
    "\n",
    "system_instruct = \"\"\"\n",
    "You are a classification service. You will be passed input that represents\n",
    "a newsgroup post and you must respond with the newsgroup from which the post\n",
    "originates.\n",
    "\"\"\"\n",
    "\n",
    "instructed_model = genai.GenerativeModel(\"gemini-1.5-flash-001\",\n",
    "                                         system_instruction=system_instruct)\n",
    "\n",
    "retry_policy = {\"retry\": retry.Retry(predicate=retry.if_transient_error)}\n",
    "\n",
    "# If you want to evaluate your own technique, replace this function with your\n",
    "# model, prompt and other code and return the predicted answer.\n",
    "def predict_label(post: str) -> str:\n",
    "    response = instructed_model.generate_content(post, request_options=retry_policy)\n",
    "    rc = response.candidates[0]\n",
    "\n",
    "    # Any errors, filters, recitation, etc we can mark as a general error\n",
    "    if rc.finish_reason.name != \"STOP\":\n",
    "        return \"(error)\"\n",
    "    else:\n",
    "        # Clean up the response.\n",
    "        return response.text.strip()\n",
    "\n",
    "\n",
    "prediction = predict_label(sample_row)\n",
    "\n",
    "print(prediction)\n",
    "print()\n",
    "print(\"Correct!\" if prediction == sample_label else \"Incorrect.\")"
   ]
  },
  {
   "cell_type": "markdown",
   "id": "0ef36870",
   "metadata": {
    "papermill": {
     "duration": 0.010175,
     "end_time": "2024-11-14T07:27:05.922911",
     "exception": false,
     "start_time": "2024-11-14T07:27:05.912736",
     "status": "completed"
    },
    "tags": []
   },
   "source": [
    "Now run a short evaluation using the function defined above. The test set is further sampled to ensure the experiment runs smoothly on the API's free tier. In practice you would evaluate over the whole set."
   ]
  },
  {
   "cell_type": "code",
   "execution_count": 15,
   "id": "5859fe19",
   "metadata": {
    "execution": {
     "iopub.execute_input": "2024-11-14T07:27:05.945302Z",
     "iopub.status.busy": "2024-11-14T07:27:05.944817Z",
     "iopub.status.idle": "2024-11-14T07:27:23.721285Z",
     "shell.execute_reply": "2024-11-14T07:27:23.720045Z"
    },
    "papermill": {
     "duration": 17.790718,
     "end_time": "2024-11-14T07:27:23.723840",
     "exception": false,
     "start_time": "2024-11-14T07:27:05.933122",
     "status": "completed"
    },
    "tags": []
   },
   "outputs": [
    {
     "data": {
      "application/vnd.jupyter.widget-view+json": {
       "model_id": "3a0d3b58c5224a96b767bb323660e292",
       "version_major": 2,
       "version_minor": 0
      },
      "text/plain": [
       "Output()"
      ]
     },
     "metadata": {},
     "output_type": "display_data"
    },
    {
     "name": "stderr",
     "output_type": "stream",
     "text": [
      "/opt/conda/lib/python3.10/site-packages/tqdm/std.py:885: TqdmExperimentalWarning: rich is experimental/alpha\n",
      "  t = cls(total=total, **tqdm_kwargs)\n"
     ]
    },
    {
     "data": {
      "text/html": [
       "<pre style=\"white-space:pre;overflow-x:auto;line-height:normal;font-family:Menlo,'DejaVu Sans Mono',consolas,'Courier New',monospace\"></pre>\n"
      ],
      "text/plain": []
     },
     "metadata": {},
     "output_type": "display_data"
    },
    {
     "data": {
      "text/html": [
       "<pre style=\"white-space:pre;overflow-x:auto;line-height:normal;font-family:Menlo,'DejaVu Sans Mono',consolas,'Courier New',monospace\">\n",
       "</pre>\n"
      ],
      "text/plain": [
       "\n"
      ]
     },
     "metadata": {},
     "output_type": "display_data"
    },
    {
     "name": "stdout",
     "output_type": "stream",
     "text": [
      "Accuracy: 6.25%\n"
     ]
    }
   ],
   "source": [
    "from tqdm.rich import tqdm\n",
    "\n",
    "tqdm.pandas()\n",
    "\n",
    "\n",
    "# Further sample the test data to be mindful of the free-tier quota.\n",
    "df_baseline_eval = sample_data(df_test, 2, '.*')\n",
    "\n",
    "# Make predictions using the sampled data.\n",
    "df_baseline_eval['Prediction'] = df_baseline_eval['Text'].progress_apply(predict_label)\n",
    "\n",
    "# And calculate the accuracy.\n",
    "accuracy = (df_baseline_eval[\"Class Name\"] == df_baseline_eval[\"Prediction\"]).sum() / len(df_baseline_eval)\n",
    "print(f\"Accuracy: {accuracy:.2%}\")"
   ]
  },
  {
   "cell_type": "markdown",
   "id": "2f0a4ed6",
   "metadata": {
    "papermill": {
     "duration": 0.011881,
     "end_time": "2024-11-14T07:27:23.749259",
     "exception": false,
     "start_time": "2024-11-14T07:27:23.737378",
     "status": "completed"
    },
    "tags": []
   },
   "source": [
    "Now take a look at the dataframe to compare the predictions with the labels."
   ]
  },
  {
   "cell_type": "code",
   "execution_count": 16,
   "id": "24250eb5",
   "metadata": {
    "execution": {
     "iopub.execute_input": "2024-11-14T07:27:24.349048Z",
     "iopub.status.busy": "2024-11-14T07:27:24.348661Z",
     "iopub.status.idle": "2024-11-14T07:27:24.364231Z",
     "shell.execute_reply": "2024-11-14T07:27:24.363078Z"
    },
    "papermill": {
     "duration": 0.603129,
     "end_time": "2024-11-14T07:27:24.366707",
     "exception": false,
     "start_time": "2024-11-14T07:27:23.763578",
     "status": "completed"
    },
    "tags": []
   },
   "outputs": [
    {
     "data": {
      "text/html": [
       "<div>\n",
       "<style scoped>\n",
       "    .dataframe tbody tr th:only-of-type {\n",
       "        vertical-align: middle;\n",
       "    }\n",
       "\n",
       "    .dataframe tbody tr th {\n",
       "        vertical-align: top;\n",
       "    }\n",
       "\n",
       "    .dataframe thead th {\n",
       "        text-align: right;\n",
       "    }\n",
       "</style>\n",
       "<table border=\"1\" class=\"dataframe\">\n",
       "  <thead>\n",
       "    <tr style=\"text-align: right;\">\n",
       "      <th></th>\n",
       "      <th>Text</th>\n",
       "      <th>Label</th>\n",
       "      <th>Class Name</th>\n",
       "      <th>Prediction</th>\n",
       "    </tr>\n",
       "  </thead>\n",
       "  <tbody>\n",
       "    <tr>\n",
       "      <th>0</th>\n",
       "      <td>Re: Waxes/Polishes\\n\\nIn article &lt;&gt;  (Bret D B...</td>\n",
       "      <td>7</td>\n",
       "      <td>rec.autos</td>\n",
       "      <td>rec.autos.maintenance</td>\n",
       "    </tr>\n",
       "    <tr>\n",
       "      <th>1</th>\n",
       "      <td>Re: It's a rush... (was Re: Too fast)\\n\\n\\n&gt;St...</td>\n",
       "      <td>7</td>\n",
       "      <td>rec.autos</td>\n",
       "      <td>rec.autos.sports.cars</td>\n",
       "    </tr>\n",
       "    <tr>\n",
       "      <th>2</th>\n",
       "      <td>Re: Well blow me down. yuk,yuk,yuk\\n\\nIvan D. ...</td>\n",
       "      <td>8</td>\n",
       "      <td>rec.motorcycles</td>\n",
       "      <td>rec.motorcycles</td>\n",
       "    </tr>\n",
       "    <tr>\n",
       "      <th>3</th>\n",
       "      <td>Re: Ok, So I was a little hasty...\\n\\nIn artic...</td>\n",
       "      <td>8</td>\n",
       "      <td>rec.motorcycles</td>\n",
       "      <td>talk.politics.guns</td>\n",
       "    </tr>\n",
       "    <tr>\n",
       "      <th>4</th>\n",
       "      <td>Re: Juggling Dodgers\\n\\nIn &lt;&gt;  (Mark Singer) w...</td>\n",
       "      <td>9</td>\n",
       "      <td>rec.sport.baseball</td>\n",
       "      <td>rec.sports.baseball</td>\n",
       "    </tr>\n",
       "    <tr>\n",
       "      <th>5</th>\n",
       "      <td>Re: Professional Sports on FM Radio\\n\\nIn arti...</td>\n",
       "      <td>9</td>\n",
       "      <td>rec.sport.baseball</td>\n",
       "      <td>rec.sport.hockey</td>\n",
       "    </tr>\n",
       "    <tr>\n",
       "      <th>6</th>\n",
       "      <td>Re: Trivia question\\n\\nIn article &lt;&gt;  (Valerie...</td>\n",
       "      <td>10</td>\n",
       "      <td>rec.sport.hockey</td>\n",
       "      <td>rec.sports.hockey</td>\n",
       "    </tr>\n",
       "    <tr>\n",
       "      <th>7</th>\n",
       "      <td>Sabre fans \\n\\nYes, Yes, I can see it now &gt;&gt;&gt;&gt;...</td>\n",
       "      <td>10</td>\n",
       "      <td>rec.sport.hockey</td>\n",
       "      <td>rec.sports.hockey</td>\n",
       "    </tr>\n",
       "    <tr>\n",
       "      <th>8</th>\n",
       "      <td>Source code for Substitution cipher\\n\\n  I was...</td>\n",
       "      <td>11</td>\n",
       "      <td>sci.crypt</td>\n",
       "      <td>(error)</td>\n",
       "    </tr>\n",
       "    <tr>\n",
       "      <th>9</th>\n",
       "      <td>Re: Suggestions for escrow agencies (was: Re: ...</td>\n",
       "      <td>11</td>\n",
       "      <td>sci.crypt</td>\n",
       "      <td>(error)</td>\n",
       "    </tr>\n",
       "    <tr>\n",
       "      <th>10</th>\n",
       "      <td>Re: WD-40 as moisture repellant (was Lead Acid...</td>\n",
       "      <td>12</td>\n",
       "      <td>sci.electronics</td>\n",
       "      <td>rec.autos.makers</td>\n",
       "    </tr>\n",
       "    <tr>\n",
       "      <th>11</th>\n",
       "      <td>Re: Cable TVI interference\\n\\nIn article &lt;&gt;,  ...</td>\n",
       "      <td>12</td>\n",
       "      <td>sci.electronics</td>\n",
       "      <td>rec.cable</td>\n",
       "    </tr>\n",
       "    <tr>\n",
       "      <th>12</th>\n",
       "      <td>Re: Can men get yeast infections?\\n\\nA woman o...</td>\n",
       "      <td>13</td>\n",
       "      <td>sci.med</td>\n",
       "      <td>(error)</td>\n",
       "    </tr>\n",
       "    <tr>\n",
       "      <th>13</th>\n",
       "      <td>Re: Patti Duke's Problem\\n\\nIn article &lt;&gt;  wri...</td>\n",
       "      <td>13</td>\n",
       "      <td>sci.med</td>\n",
       "      <td>alt.fan.patti-duke</td>\n",
       "    </tr>\n",
       "    <tr>\n",
       "      <th>14</th>\n",
       "      <td>Re: Surviving Large Accelerations?\\n\\n&gt;Amruth ...</td>\n",
       "      <td>14</td>\n",
       "      <td>sci.space</td>\n",
       "      <td>rec.autos.misc</td>\n",
       "    </tr>\n",
       "    <tr>\n",
       "      <th>15</th>\n",
       "      <td>Re: Space Marketing -- Boycott\\n\\nIn article &lt;...</td>\n",
       "      <td>14</td>\n",
       "      <td>sci.space</td>\n",
       "      <td>misc.invest</td>\n",
       "    </tr>\n",
       "  </tbody>\n",
       "</table>\n",
       "</div>"
      ],
      "text/plain": [
       "                                                 Text  Label  \\\n",
       "0   Re: Waxes/Polishes\\n\\nIn article <>  (Bret D B...      7   \n",
       "1   Re: It's a rush... (was Re: Too fast)\\n\\n\\n>St...      7   \n",
       "2   Re: Well blow me down. yuk,yuk,yuk\\n\\nIvan D. ...      8   \n",
       "3   Re: Ok, So I was a little hasty...\\n\\nIn artic...      8   \n",
       "4   Re: Juggling Dodgers\\n\\nIn <>  (Mark Singer) w...      9   \n",
       "5   Re: Professional Sports on FM Radio\\n\\nIn arti...      9   \n",
       "6   Re: Trivia question\\n\\nIn article <>  (Valerie...     10   \n",
       "7   Sabre fans \\n\\nYes, Yes, I can see it now >>>>...     10   \n",
       "8   Source code for Substitution cipher\\n\\n  I was...     11   \n",
       "9   Re: Suggestions for escrow agencies (was: Re: ...     11   \n",
       "10  Re: WD-40 as moisture repellant (was Lead Acid...     12   \n",
       "11  Re: Cable TVI interference\\n\\nIn article <>,  ...     12   \n",
       "12  Re: Can men get yeast infections?\\n\\nA woman o...     13   \n",
       "13  Re: Patti Duke's Problem\\n\\nIn article <>  wri...     13   \n",
       "14  Re: Surviving Large Accelerations?\\n\\n>Amruth ...     14   \n",
       "15  Re: Space Marketing -- Boycott\\n\\nIn article <...     14   \n",
       "\n",
       "            Class Name             Prediction  \n",
       "0            rec.autos  rec.autos.maintenance  \n",
       "1            rec.autos  rec.autos.sports.cars  \n",
       "2      rec.motorcycles        rec.motorcycles  \n",
       "3      rec.motorcycles     talk.politics.guns  \n",
       "4   rec.sport.baseball    rec.sports.baseball  \n",
       "5   rec.sport.baseball       rec.sport.hockey  \n",
       "6     rec.sport.hockey      rec.sports.hockey  \n",
       "7     rec.sport.hockey      rec.sports.hockey  \n",
       "8            sci.crypt                (error)  \n",
       "9            sci.crypt                (error)  \n",
       "10     sci.electronics       rec.autos.makers  \n",
       "11     sci.electronics              rec.cable  \n",
       "12             sci.med                (error)  \n",
       "13             sci.med     alt.fan.patti-duke  \n",
       "14           sci.space         rec.autos.misc  \n",
       "15           sci.space            misc.invest  "
      ]
     },
     "execution_count": 16,
     "metadata": {},
     "output_type": "execute_result"
    }
   ],
   "source": [
    "df_baseline_eval"
   ]
  },
  {
   "cell_type": "markdown",
   "id": "8ff15b6b",
   "metadata": {
    "id": "Ok7ugrLzcghX",
    "papermill": {
     "duration": 0.011006,
     "end_time": "2024-11-14T07:27:24.388998",
     "exception": false,
     "start_time": "2024-11-14T07:27:24.377992",
     "status": "completed"
    },
    "tags": []
   },
   "source": [
    "## Tune a custom model\n",
    "\n",
    "In this example you'll use tuning to help create a model that requires no prompting or system instructions and outputs succinct text from the classes you provide in the training data.\n",
    "\n",
    "The data contains both input text (the processed posts) and output text (the category, or newsgroup), which you can use to start tuning a model.\n",
    "\n",
    "The Python SDK for tuning supports Pandas dataframes as input, so you don't need any custom data generators or pipelines. Just specify the input and the relevant columns as the `input_key` and `output_key`.\n",
    "\n",
    "When calling `create_tuned_model`, you can specify model tuning hyperparameters too:\n",
    " - `epoch_count`: defines how many times to loop through the data,\n",
    " - `batch_size`: defines how many rows to process in a single step, and\n",
    " - `learning_rate`: defines the scaling factor for updating model weights at each step.\n",
    "\n",
    "You can also choose to omit them and use the defaults. [Learn more](https://developers.google.com/machine-learning/crash-course/linear-regression/hyperparameters) about these parameters and how they work. For this example these parameters were selected by running some tuning jobs and selecting parameters that were both effective and quick."
   ]
  },
  {
   "cell_type": "code",
   "execution_count": 17,
   "id": "243ee899",
   "metadata": {
    "execution": {
     "iopub.execute_input": "2024-11-14T07:27:24.414020Z",
     "iopub.status.busy": "2024-11-14T07:27:24.413029Z",
     "iopub.status.idle": "2024-11-14T07:27:26.610827Z",
     "shell.execute_reply": "2024-11-14T07:27:26.609674Z"
    },
    "id": "pWOZlspfY8dV",
    "papermill": {
     "duration": 2.212958,
     "end_time": "2024-11-14T07:27:26.613550",
     "exception": false,
     "start_time": "2024-11-14T07:27:24.400592",
     "status": "completed"
    },
    "tags": []
   },
   "outputs": [
    {
     "name": "stdout",
     "output_type": "stream",
     "text": [
      "newsgroup-classifier-15162\n"
     ]
    }
   ],
   "source": [
    "from collections.abc import Iterable\n",
    "import random\n",
    "\n",
    "\n",
    "# Append a random number to the model ID so you can re-run with a higher chance\n",
    "# of creating a unique model ID.\n",
    "model_id = f\"newsgroup-classifier-{random.randint(10000, 99999)}\"\n",
    "\n",
    "# Upload the training data and queue the tuning job.\n",
    "tuning_op = genai.create_tuned_model(\n",
    "    \"models/gemini-1.5-flash-001-tuning\",\n",
    "    training_data=df_train,\n",
    "    input_key=\"Text\",  # the column to use as input\n",
    "    output_key=\"Class Name\",  # the column to use as output\n",
    "    id=model_id,\n",
    "    display_name=\"Newsgroup classification model\",\n",
    "    batch_size=16,\n",
    "    epoch_count=2,\n",
    ")\n",
    "\n",
    "print(model_id)"
   ]
  },
  {
   "cell_type": "markdown",
   "id": "5687156f",
   "metadata": {
    "id": "NQ3YZ2MBubCY",
    "papermill": {
     "duration": 0.010983,
     "end_time": "2024-11-14T07:27:26.636031",
     "exception": false,
     "start_time": "2024-11-14T07:27:26.625048",
     "status": "completed"
    },
    "tags": []
   },
   "source": [
    "This has created a tuning job that will run in the background. To inspect the progress of the tuning job, run this cell to plot the current status and loss curve. Once the status reaches `ACTIVE`, tuning is complete and the model is ready to use.\n",
    "\n",
    "Tuning jobs are queued, so it may look like no training steps have been taken initially but it will progress. Tuning can take upwards of 20 minutes, depending on factors like your dataset size and how busy the tuning infrastrature is. Why not treat yourself to a nice cup of tea while you wait, or come and say \"Hi!\" to [yours truly](https://discord.com/users/132124213132787712) in the group [Discord](https://discord.com/invite/kaggle).\n",
    "\n",
    "It is safe to stop this cell at any point. It will not stop the tuning job."
   ]
  },
  {
   "cell_type": "code",
   "execution_count": 18,
   "id": "66138477",
   "metadata": {
    "execution": {
     "iopub.execute_input": "2024-11-14T07:27:26.661306Z",
     "iopub.status.busy": "2024-11-14T07:27:26.660300Z",
     "iopub.status.idle": "2024-11-14T07:51:38.237924Z",
     "shell.execute_reply": "2024-11-14T07:51:38.236645Z"
    },
    "id": "c4ef5f13692d",
    "papermill": {
     "duration": 1451.592754,
     "end_time": "2024-11-14T07:51:38.240415",
     "exception": false,
     "start_time": "2024-11-14T07:27:26.647661",
     "status": "completed"
    },
    "tags": []
   },
   "outputs": [
    {
     "name": "stdout",
     "output_type": "stream",
     "text": [
      "State.CREATING\n",
      "State.CREATING\n",
      "State.CREATING\n",
      "State.CREATING\n",
      "State.CREATING\n",
      "State.CREATING\n",
      "State.CREATING\n",
      "State.CREATING\n",
      "State.CREATING\n",
      "State.CREATING\n",
      "State.CREATING\n",
      "State.CREATING\n",
      "State.CREATING\n",
      "State.CREATING\n",
      "State.CREATING\n",
      "State.CREATING\n",
      "State.CREATING\n",
      "State.CREATING\n"
     ]
    },
    {
     "name": "stderr",
     "output_type": "stream",
     "text": [
      "/opt/conda/lib/python3.10/site-packages/seaborn/_oldcore.py:1119: FutureWarning: use_inf_as_na option is deprecated and will be removed in a future version. Convert inf values to NaN before operating instead.\n",
      "  with pd.option_context('mode.use_inf_as_na', True):\n",
      "/opt/conda/lib/python3.10/site-packages/seaborn/_oldcore.py:1119: FutureWarning: use_inf_as_na option is deprecated and will be removed in a future version. Convert inf values to NaN before operating instead.\n",
      "  with pd.option_context('mode.use_inf_as_na', True):\n"
     ]
    },
    {
     "name": "stdout",
     "output_type": "stream",
     "text": [
      "State.CREATING\n"
     ]
    },
    {
     "name": "stderr",
     "output_type": "stream",
     "text": [
      "/opt/conda/lib/python3.10/site-packages/seaborn/_oldcore.py:1119: FutureWarning: use_inf_as_na option is deprecated and will be removed in a future version. Convert inf values to NaN before operating instead.\n",
      "  with pd.option_context('mode.use_inf_as_na', True):\n",
      "/opt/conda/lib/python3.10/site-packages/seaborn/_oldcore.py:1119: FutureWarning: use_inf_as_na option is deprecated and will be removed in a future version. Convert inf values to NaN before operating instead.\n",
      "  with pd.option_context('mode.use_inf_as_na', True):\n"
     ]
    },
    {
     "name": "stdout",
     "output_type": "stream",
     "text": [
      "State.CREATING\n"
     ]
    },
    {
     "name": "stderr",
     "output_type": "stream",
     "text": [
      "/opt/conda/lib/python3.10/site-packages/seaborn/_oldcore.py:1119: FutureWarning: use_inf_as_na option is deprecated and will be removed in a future version. Convert inf values to NaN before operating instead.\n",
      "  with pd.option_context('mode.use_inf_as_na', True):\n",
      "/opt/conda/lib/python3.10/site-packages/seaborn/_oldcore.py:1119: FutureWarning: use_inf_as_na option is deprecated and will be removed in a future version. Convert inf values to NaN before operating instead.\n",
      "  with pd.option_context('mode.use_inf_as_na', True):\n"
     ]
    },
    {
     "name": "stdout",
     "output_type": "stream",
     "text": [
      "State.CREATING\n"
     ]
    },
    {
     "name": "stderr",
     "output_type": "stream",
     "text": [
      "/opt/conda/lib/python3.10/site-packages/seaborn/_oldcore.py:1119: FutureWarning: use_inf_as_na option is deprecated and will be removed in a future version. Convert inf values to NaN before operating instead.\n",
      "  with pd.option_context('mode.use_inf_as_na', True):\n",
      "/opt/conda/lib/python3.10/site-packages/seaborn/_oldcore.py:1119: FutureWarning: use_inf_as_na option is deprecated and will be removed in a future version. Convert inf values to NaN before operating instead.\n",
      "  with pd.option_context('mode.use_inf_as_na', True):\n"
     ]
    },
    {
     "name": "stdout",
     "output_type": "stream",
     "text": [
      "State.CREATING\n"
     ]
    },
    {
     "name": "stderr",
     "output_type": "stream",
     "text": [
      "/opt/conda/lib/python3.10/site-packages/seaborn/_oldcore.py:1119: FutureWarning: use_inf_as_na option is deprecated and will be removed in a future version. Convert inf values to NaN before operating instead.\n",
      "  with pd.option_context('mode.use_inf_as_na', True):\n",
      "/opt/conda/lib/python3.10/site-packages/seaborn/_oldcore.py:1119: FutureWarning: use_inf_as_na option is deprecated and will be removed in a future version. Convert inf values to NaN before operating instead.\n",
      "  with pd.option_context('mode.use_inf_as_na', True):\n"
     ]
    },
    {
     "name": "stdout",
     "output_type": "stream",
     "text": [
      "State.CREATING\n"
     ]
    },
    {
     "name": "stderr",
     "output_type": "stream",
     "text": [
      "/opt/conda/lib/python3.10/site-packages/seaborn/_oldcore.py:1119: FutureWarning: use_inf_as_na option is deprecated and will be removed in a future version. Convert inf values to NaN before operating instead.\n",
      "  with pd.option_context('mode.use_inf_as_na', True):\n",
      "/opt/conda/lib/python3.10/site-packages/seaborn/_oldcore.py:1119: FutureWarning: use_inf_as_na option is deprecated and will be removed in a future version. Convert inf values to NaN before operating instead.\n",
      "  with pd.option_context('mode.use_inf_as_na', True):\n"
     ]
    },
    {
     "name": "stdout",
     "output_type": "stream",
     "text": [
      "State.CREATING\n",
      "Done! The model is ACTIVE\n"
     ]
    },
    {
     "data": {
      "image/png": "[encoded data removed]",
      "text/plain": [
       "<Figure size 640x480 with 1 Axes>"
      ]
     },
     "metadata": {},
     "output_type": "display_data"
    }
   ],
   "source": [
    "import time\n",
    "import seaborn as sns\n",
    "\n",
    "\n",
    "while (tuned_model := genai.get_tuned_model(f\"tunedModels/{model_id}\")).state.name != 'ACTIVE':\n",
    "\n",
    "    if tuned_model.tuning_task.snapshots:\n",
    "        # If the tuning task has started, this will draw the loss so far.\n",
    "        snapshots = pd.DataFrame(tuned_model.tuning_task.snapshots)\n",
    "        sns.lineplot(data=snapshots, x=\"step\", y=\"mean_loss\")\n",
    "\n",
    "    print(tuned_model.state)\n",
    "\n",
    "    time.sleep(60)\n",
    "\n",
    "print(f\"Done! The model is {tuned_model.state.name}\")"
   ]
  },
  {
   "cell_type": "markdown",
   "id": "f357c707",
   "metadata": {
    "id": "9-qiIdK4u80z",
    "papermill": {
     "duration": 0.013668,
     "end_time": "2024-11-14T07:51:38.267720",
     "exception": false,
     "start_time": "2024-11-14T07:51:38.254052",
     "status": "completed"
    },
    "tags": []
   },
   "source": [
    "## Use the new model\n",
    "\n",
    "Now that you have a tuned model, try it out with custom data. You use the same API as a normal Gemini API interaction, but you specify your new model as the model name, using the `tunedModels/` prefix."
   ]
  },
  {
   "cell_type": "code",
   "execution_count": 19,
   "id": "9f9404ba",
   "metadata": {
    "execution": {
     "iopub.execute_input": "2024-11-14T07:51:38.298002Z",
     "iopub.status.busy": "2024-11-14T07:51:38.297276Z",
     "iopub.status.idle": "2024-11-14T07:51:48.315896Z",
     "shell.execute_reply": "2024-11-14T07:51:48.314718Z"
    },
    "id": "hyO2-MXLvM6a",
    "papermill": {
     "duration": 10.037067,
     "end_time": "2024-11-14T07:51:48.318370",
     "exception": false,
     "start_time": "2024-11-14T07:51:38.281303",
     "status": "completed"
    },
    "tags": []
   },
   "outputs": [
    {
     "name": "stdout",
     "output_type": "stream",
     "text": [
      "sci.space\n"
     ]
    }
   ],
   "source": [
    "your_model = genai.GenerativeModel(f\"tunedModels/{model_id}\")\n",
    "\n",
    "new_text = \"\"\"\n",
    "First-timer looking to get out of here.\n",
    "\n",
    "Hi, I'm writing about my interest in travelling to the outer limits!\n",
    "\n",
    "What kind of craft can I buy? What is easiest to access from this 3rd rock?\n",
    "\n",
    "Let me know how to do that please.\n",
    "\"\"\"\n",
    "\n",
    "response = your_model.generate_content(new_text)\n",
    "print(response.text)"
   ]
  },
  {
   "cell_type": "markdown",
   "id": "a1c62779",
   "metadata": {
    "id": "xajLek9DySH_",
    "papermill": {
     "duration": 0.013341,
     "end_time": "2024-11-14T07:51:48.345625",
     "exception": false,
     "start_time": "2024-11-14T07:51:48.332284",
     "status": "completed"
    },
    "tags": []
   },
   "source": [
    "### Evaluation\n",
    "\n",
    "You can see that the model outputs labels that correspond to those in the training data, and without any system instructions or prompting, which is already a great improvement. Now see how well it performs on the test set.\n",
    "\n",
    "Note that there is no parallelism in this example; classifying the test sub-set will take a few minutes."
   ]
  },
  {
   "cell_type": "code",
   "execution_count": 20,
   "id": "3bfad13d",
   "metadata": {
    "execution": {
     "iopub.execute_input": "2024-11-14T07:51:48.374858Z",
     "iopub.status.busy": "2024-11-14T07:51:48.374419Z",
     "iopub.status.idle": "2024-11-14T07:53:55.534573Z",
     "shell.execute_reply": "2024-11-14T07:53:55.533123Z"
    },
    "id": "6T2Y3ZApvbMw",
    "papermill": {
     "duration": 127.177599,
     "end_time": "2024-11-14T07:53:55.537135",
     "exception": false,
     "start_time": "2024-11-14T07:51:48.359536",
     "status": "completed"
    },
    "tags": []
   },
   "outputs": [
    {
     "data": {
      "application/vnd.jupyter.widget-view+json": {
       "model_id": "69dfdabd28b44bfa9dff6f193b69619c",
       "version_major": 2,
       "version_minor": 0
      },
      "text/plain": [
       "Output()"
      ]
     },
     "metadata": {},
     "output_type": "display_data"
    },
    {
     "name": "stderr",
     "output_type": "stream",
     "text": [
      "/opt/conda/lib/python3.10/site-packages/tqdm/std.py:885: TqdmExperimentalWarning: rich is experimental/alpha\n",
      "  t = cls(total=total, **tqdm_kwargs)\n"
     ]
    },
    {
     "data": {
      "text/html": [
       "<pre style=\"white-space:pre;overflow-x:auto;line-height:normal;font-family:Menlo,'DejaVu Sans Mono',consolas,'Courier New',monospace\"></pre>\n"
      ],
      "text/plain": []
     },
     "metadata": {},
     "output_type": "display_data"
    },
    {
     "data": {
      "text/html": [
       "<pre style=\"white-space:pre;overflow-x:auto;line-height:normal;font-family:Menlo,'DejaVu Sans Mono',consolas,'Courier New',monospace\">\n",
       "</pre>\n"
      ],
      "text/plain": [
       "\n"
      ]
     },
     "metadata": {},
     "output_type": "display_data"
    },
    {
     "name": "stdout",
     "output_type": "stream",
     "text": [
      "Accuracy: 84.38%\n"
     ]
    }
   ],
   "source": [
    "def classify_text(text: str) -> str:\n",
    "    \"\"\"Classify the provided text into a known newsgroup.\"\"\"\n",
    "    response = your_model.generate_content(text, request_options=retry_policy)\n",
    "    rc = response.candidates[0]\n",
    "\n",
    "    # Any errors, filters, recitation, etc we can mark as a general error\n",
    "    if rc.finish_reason.name != \"STOP\":\n",
    "        return \"(error)\"\n",
    "    else:\n",
    "        return rc.content.parts[0].text\n",
    "\n",
    "\n",
    "# The sampling here is just to minimise your quota usage. If you can, you should\n",
    "# evaluate the whole test set with `df_model_eval = df_test.copy()`.\n",
    "df_model_eval = sample_data(df_test, 4, '.*')\n",
    "\n",
    "\n",
    "df_model_eval[\"Prediction\"] = df_model_eval[\"Text\"].progress_apply(classify_text)\n",
    "\n",
    "accuracy = (df_model_eval[\"Class Name\"] == df_model_eval[\"Prediction\"]).sum() / len(df_model_eval)\n",
    "print(f\"Accuracy: {accuracy:.2%}\")"
   ]
  },
  {
   "cell_type": "markdown",
   "id": "513f56c0",
   "metadata": {
    "papermill": {
     "duration": 0.017447,
     "end_time": "2024-11-14T07:53:55.573971",
     "exception": false,
     "start_time": "2024-11-14T07:53:55.556524",
     "status": "completed"
    },
    "tags": []
   },
   "source": [
    "## Compare token usage\n",
    "\n",
    "AI Studio and the Gemini API provide model tuning at no cost, however normal limits and charges apply for *use* of a tuned model.\n",
    "\n",
    "The size of the input prompt and other generation config like system instructions, as well as the number of generated output tokens, all contribute to the overall cost of a request."
   ]
  },
  {
   "cell_type": "code",
   "execution_count": 21,
   "id": "fb89e2fc",
   "metadata": {
    "execution": {
     "iopub.execute_input": "2024-11-14T07:54:00.161600Z",
     "iopub.status.busy": "2024-11-14T07:54:00.161130Z",
     "iopub.status.idle": "2024-11-14T07:54:00.752712Z",
     "shell.execute_reply": "2024-11-14T07:54:00.751317Z"
    },
    "papermill": {
     "duration": 5.164013,
     "end_time": "2024-11-14T07:54:00.755428",
     "exception": false,
     "start_time": "2024-11-14T07:53:55.591415",
     "status": "completed"
    },
    "tags": []
   },
   "outputs": [
    {
     "name": "stdout",
     "output_type": "stream",
     "text": [
      "System instructed baseline model: 171 (input)\n",
      "Tuned model: 135 (input)\n",
      "Token savings: 26.67%\n"
     ]
    }
   ],
   "source": [
    "# Calculate the *input* cost of the baseline model with system instructions.\n",
    "sysint_tokens = instructed_model.count_tokens(sample_row).total_tokens\n",
    "print(f'System instructed baseline model: {sysint_tokens} (input)')\n",
    "\n",
    "# Calculate the input cost of the tuned model.\n",
    "tuned_tokens = your_model.count_tokens(sample_row).total_tokens\n",
    "print(f'Tuned model: {tuned_tokens} (input)')\n",
    "\n",
    "savings = (sysint_tokens - tuned_tokens) / tuned_tokens\n",
    "print(f'Token savings: {savings:.2%}')  # Note that this is only n=1."
   ]
  },
  {
   "cell_type": "markdown",
   "id": "0f6a8ddd",
   "metadata": {
    "papermill": {
     "duration": 0.014445,
     "end_time": "2024-11-14T07:54:00.785007",
     "exception": false,
     "start_time": "2024-11-14T07:54:00.770562",
     "status": "completed"
    },
    "tags": []
   },
   "source": [
    "The earlier verbose model also produced more output tokens than needed for this task."
   ]
  },
  {
   "cell_type": "code",
   "execution_count": 22,
   "id": "a2c13cb5",
   "metadata": {
    "execution": {
     "iopub.execute_input": "2024-11-14T07:54:00.816103Z",
     "iopub.status.busy": "2024-11-14T07:54:00.815650Z",
     "iopub.status.idle": "2024-11-14T07:54:01.800483Z",
     "shell.execute_reply": "2024-11-14T07:54:01.799061Z"
    },
    "papermill": {
     "duration": 1.002984,
     "end_time": "2024-11-14T07:54:01.802867",
     "exception": false,
     "start_time": "2024-11-14T07:54:00.799883",
     "status": "completed"
    },
    "tags": []
   },
   "outputs": [
    {
     "name": "stdout",
     "output_type": "stream",
     "text": [
      "Baseline (verbose) output tokens: 185\n",
      "Tuned output tokens: 3\n"
     ]
    }
   ],
   "source": [
    "baseline_token_output = baseline_response.usage_metadata.candidates_token_count\n",
    "print('Baseline (verbose) output tokens:', baseline_token_output)\n",
    "\n",
    "tuned_model_output = your_model.generate_content(sample_row)\n",
    "tuned_tokens_output = tuned_model_output.usage_metadata.candidates_token_count\n",
    "print('Tuned output tokens:', tuned_tokens_output)"
   ]
  },
  {
   "cell_type": "markdown",
   "id": "bdd0a377",
   "metadata": {
    "id": "6c1204a5d0ab",
    "papermill": {
     "duration": 0.015335,
     "end_time": "2024-11-14T07:54:01.834256",
     "exception": false,
     "start_time": "2024-11-14T07:54:01.818921",
     "status": "completed"
    },
    "tags": []
   },
   "source": [
    "## Next steps\n",
    "\n",
    "Now that you have tuned a classification model, try some other tasks, like tuning a model to respond with a specific tone or style using hand-written examples (or even generated examples!). Kaggle hosts [a number of datasets](https://www.kaggle.com/datasets) you can try out.\n",
    "\n",
    "Learn about [when supervised fine-tuning is most effective](https://cloud.google.com/blog/products/ai-machine-learning/supervised-fine-tuning-for-gemini-llm).\n",
    "\n",
    "And check out the [fine-tuning tutorial](https://ai.google.dev/gemini-api/docs/model-tuning/tutorial?hl=en&lang=python) for another example that shows a tuned model extending beyond the training data to new, unseen inputs."
   ]
  }
 ],
 "metadata": {
  "colab": {
   "name": "day-4-fine-tuning-a-custom-model.ipynb",
   "toc_visible": true
  },
  "kaggle": {
   "accelerator": "none",
   "dataSources": [],
   "dockerImageVersionId": 30786,
   "isGpuEnabled": false,
   "isInternetEnabled": true,
   "language": "python",
   "sourceType": "notebook"
  },
  "kernelspec": {
   "display_name": "Python 3",
   "language": "python",
   "name": "python3"
  },
  "language_info": {
   "codemirror_mode": {
    "name": "ipython",
    "version": 3
   },
   "file_extension": ".py",
   "mimetype": "text/x-python",
   "name": "python",
   "nbconvert_exporter": "python",
   "pygments_lexer": "ipython3",
   "version": "3.10.14"
  },
  "papermill": {
   "default_parameters": {},
   "duration": 1695.318794,
   "end_time": "2024-11-14T07:54:02.875877",
   "environment_variables": {},
   "exception": null,
   "input_path": "__notebook__.ipynb",
   "output_path": "__notebook__.ipynb",
   "parameters": {},
   "start_time": "2024-11-14T07:25:47.557083",
   "version": "2.6.0"
  },
  "widgets": {
   "application/vnd.jupyter.widget-state+json": {
    "state": {
     "0dfb20b0fcee43a29c8252ec816220ab": {
      "model_module": "@jupyter-widgets/base",
      "model_module_version": "1.2.0",
      "model_name": "LayoutModel",
      "state": {
       "_model_module": "@jupyter-widgets/base",
       "_model_module_version": "1.2.0",
       "_model_name": "LayoutModel",
       "_view_count": null,
       "_view_module": "@jupyter-widgets/base",
       "_view_module_version": "1.2.0",
       "_view_name": "LayoutView",
       "align_content": null,
       "align_items": null,
       "align_self": null,
       "border": null,
       "bottom": null,
       "display": null,
       "flex": null,
       "flex_flow": null,
       "grid_area": null,
       "grid_auto_columns": null,
       "grid_auto_flow": null,
       "grid_auto_rows": null,
       "grid_column": null,
       "grid_gap": null,
       "grid_row": null,
       "grid_template_areas": null,
       "grid_template_columns": null,
       "grid_template_rows": null,
       "height": null,
       "justify_content": null,
       "justify_items": null,
       "left": null,
       "margin": null,
       "max_height": null,
       "max_width": null,
       "min_height": null,
       "min_width": null,
       "object_fit": null,
       "object_position": null,
       "order": null,
       "overflow": null,
       "overflow_x": null,
       "overflow_y": null,
       "padding": null,
       "right": null,
       "top": null,
       "visibility": null,
       "width": null
      }
     },
     "3a0d3b58c5224a96b767bb323660e292": {
      "model_module": "@jupyter-widgets/output",
      "model_module_version": "1.0.0",
      "model_name": "OutputModel",
      "state": {
       "_dom_classes": [],
       "_model_module": "@jupyter-widgets/output",
       "_model_module_version": "1.0.0",
       "_model_name": "OutputModel",
       "_view_count": null,
       "_view_module": "@jupyter-widgets/output",
       "_view_module_version": "1.0.0",
       "_view_name": "OutputView",
       "layout": "IPY_MODEL_7933f840c6d9441f87af6f841c051cba",
       "msg_id": "",
       "outputs": [
        {
         "data": {
          "text/html": "<pre style=\"white-space:pre;overflow-x:auto;line-height:normal;font-family:Menlo,'DejaVu Sans Mono',consolas,'Courier New',monospace\"><span style=\"color: #800080; text-decoration-color: #800080\"> 100%</span> <span style=\"color: #729c1f; text-decoration-color: #729c1f\">━━━━━━━━━━━━━━━━━━━━━━━━━━━━━━━━━━━━━━━━━━━━━━━━━━━━━━━━━━━━━━━━━━━━━━━</span> <span style=\"color: #008000; text-decoration-color: #008000\">16/16 </span> [ <span style=\"color: #808000; text-decoration-color: #808000\">0:00:10</span> &lt; <span style=\"color: #008080; text-decoration-color: #008080\">0:00:00</span> , <span style=\"color: #800000; text-decoration-color: #800000\">1 it/s</span> ]\n</pre>\n",
          "text/plain": "\u001b[35m 100%\u001b[0m \u001b[38;2;114;156;31m━━━━━━━━━━━━━━━━━━━━━━━━━━━━━━━━━━━━━━━━━━━━━━━━━━━━━━━━━━━━━━━━━━━━━━━\u001b[0m \u001b[32m16/16 \u001b[0m [ \u001b[33m0:00:10\u001b[0m < \u001b[36m0:00:00\u001b[0m , \u001b[31m1 it/s\u001b[0m ]\n"
         },
         "metadata": {},
         "output_type": "display_data"
        }
       ]
      }
     },
     "69dfdabd28b44bfa9dff6f193b69619c": {
      "model_module": "@jupyter-widgets/output",
      "model_module_version": "1.0.0",
      "model_name": "OutputModel",
      "state": {
       "_dom_classes": [],
       "_model_module": "@jupyter-widgets/output",
       "_model_module_version": "1.0.0",
       "_model_name": "OutputModel",
       "_view_count": null,
       "_view_module": "@jupyter-widgets/output",
       "_view_module_version": "1.0.0",
       "_view_name": "OutputView",
       "layout": "IPY_MODEL_0dfb20b0fcee43a29c8252ec816220ab",
       "msg_id": "",
       "outputs": [
        {
         "data": {
          "text/html": "<pre style=\"white-space:pre;overflow-x:auto;line-height:normal;font-family:Menlo,'DejaVu Sans Mono',consolas,'Courier New',monospace\"><span style=\"color: #800080; text-decoration-color: #800080\"> 100%</span> <span style=\"color: #729c1f; text-decoration-color: #729c1f\">━━━━━━━━━━━━━━━━━━━━━━━━━━━━━━━━━━━━━━━━━━━━━━━━━━━━━━━━━━━━━━━━━━━━━━━</span> <span style=\"color: #008000; text-decoration-color: #008000\">32/32 </span> [ <span style=\"color: #808000; text-decoration-color: #808000\">0:01:25</span> &lt; <span style=\"color: #008080; text-decoration-color: #008080\">0:00:00</span> , <span style=\"color: #800000; text-decoration-color: #800000\">1 it/s</span> ]\n</pre>\n",
          "text/plain": "\u001b[35m 100%\u001b[0m \u001b[38;2;114;156;31m━━━━━━━━━━━━━━━━━━━━━━━━━━━━━━━━━━━━━━━━━━━━━━━━━━━━━━━━━━━━━━━━━━━━━━━\u001b[0m \u001b[32m32/32 \u001b[0m [ \u001b[33m0:01:25\u001b[0m < \u001b[36m0:00:00\u001b[0m , \u001b[31m1 it/s\u001b[0m ]\n"
         },
         "metadata": {},
         "output_type": "display_data"
        }
       ]
      }
     },
     "7933f840c6d9441f87af6f841c051cba": {
      "model_module": "@jupyter-widgets/base",
      "model_module_version": "1.2.0",
      "model_name": "LayoutModel",
      "state": {
       "_model_module": "@jupyter-widgets/base",
       "_model_module_version": "1.2.0",
       "_model_name": "LayoutModel",
       "_view_count": null,
       "_view_module": "@jupyter-widgets/base",
       "_view_module_version": "1.2.0",
       "_view_name": "LayoutView",
       "align_content": null,
       "align_items": null,
       "align_self": null,
       "border": null,
       "bottom": null,
       "display": null,
       "flex": null,
       "flex_flow": null,
       "grid_area": null,
       "grid_auto_columns": null,
       "grid_auto_flow": null,
       "grid_auto_rows": null,
       "grid_column": null,
       "grid_gap": null,
       "grid_row": null,
       "grid_template_areas": null,
       "grid_template_columns": null,
       "grid_template_rows": null,
       "height": null,
       "justify_content": null,
       "justify_items": null,
       "left": null,
       "margin": null,
       "max_height": null,
       "max_width": null,
       "min_height": null,
       "min_width": null,
       "object_fit": null,
       "object_position": null,
       "order": null,
       "overflow": null,
       "overflow_x": null,
       "overflow_y": null,
       "padding": null,
       "right": null,
       "top": null,
       "visibility": null,
       "width": null
      }
     }
    },
    "version_major": 2,
    "version_minor": 0
   }
  }
 },
 "nbformat": 4,
 "nbformat_minor": 5
}

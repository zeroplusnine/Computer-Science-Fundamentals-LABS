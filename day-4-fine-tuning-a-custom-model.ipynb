{
 "cells": [
  {
   "cell_type": "markdown",
   "id": "378909a1",
   "metadata": {
    "id": "b6e13eef3f5d",
    "papermill": {
     "duration": 0.009951,
     "end_time": "2024-11-14T11:33:13.910918",
     "exception": false,
     "start_time": "2024-11-14T11:33:13.900967",
     "status": "completed"
    },
    "tags": []
   },
   "source": [
    "##### Copyright 2024 Google LLC."
   ]
  },
  {
   "cell_type": "code",
   "execution_count": 1,
   "id": "192e533d",
   "metadata": {
    "cellView": "form",
    "execution": {
     "iopub.execute_input": "2024-11-14T11:33:13.931492Z",
     "iopub.status.busy": "2024-11-14T11:33:13.931087Z",
     "iopub.status.idle": "2024-11-14T11:33:13.936703Z",
     "shell.execute_reply": "2024-11-14T11:33:13.935798Z"
    },
    "id": "d6597b11df14",
    "papermill": {
     "duration": 0.01894,
     "end_time": "2024-11-14T11:33:13.939330",
     "exception": false,
     "start_time": "2024-11-14T11:33:13.920390",
     "status": "completed"
    },
    "tags": []
   },
   "outputs": [],
   "source": [
    "# @title Licensed under the Apache License, Version 2.0 (the \"License\");\n",
    "# you may not use this file except in compliance with the License.\n",
    "# You may obtain a copy of the License at\n",
    "#\n",
    "# https://www.apache.org/licenses/LICENSE-2.0\n",
    "#\n",
    "# Unless required by applicable law or agreed to in writing, software\n",
    "# distributed under the License is distributed on an \"AS IS\" BASIS,\n",
    "# WITHOUT WARRANTIES OR CONDITIONS OF ANY KIND, either express or implied.\n",
    "# See the License for the specific language governing permissions and\n",
    "# limitations under the License."
   ]
  },
  {
   "cell_type": "markdown",
   "id": "cbbfcb20",
   "metadata": {
    "id": "4KDIFPAL2EnL",
    "papermill": {
     "duration": 0.009084,
     "end_time": "2024-11-14T11:33:13.959108",
     "exception": false,
     "start_time": "2024-11-14T11:33:13.950024",
     "status": "completed"
    },
    "tags": []
   },
   "source": [
    "# Day 4 - Fine tuning a custom model\n",
    "\n",
    "Welcome back to the Kaggle 5-day Generative AI course!\n",
    "\n",
    "In this notebook you will use the Gemini API to fine-tune a custom, task-specific model. Fine-tuning can be used for a variety of tasks from classic NLP problems like entity extraction or summarisation, to creative tasks like stylised generation. You will fine-tune a model to classify the category a piece of text (a newsgroup post) into the category it belongs to (the newsgroup name).\n",
    "\n",
    "This codelab walks you tuning a model with the API. [AI Studio](https://aistudio.google.com/app/tune) also supports creating new tuned models directly in the web UI, allowing you to quickly create and monitor models using data from Google Sheets, Drive or your own files."
   ]
  },
  {
   "cell_type": "code",
   "execution_count": 2,
   "id": "7d2a823d",
   "metadata": {
    "execution": {
     "iopub.execute_input": "2024-11-14T11:33:13.979831Z",
     "iopub.status.busy": "2024-11-14T11:33:13.979441Z",
     "iopub.status.idle": "2024-11-14T11:33:41.362479Z",
     "shell.execute_reply": "2024-11-14T11:33:41.360917Z"
    },
    "id": "9wafTyEH1_xF",
    "papermill": {
     "duration": 27.39648,
     "end_time": "2024-11-14T11:33:41.365328",
     "exception": false,
     "start_time": "2024-11-14T11:33:13.968848",
     "status": "completed"
    },
    "tags": []
   },
   "outputs": [
    {
     "name": "stdout",
     "output_type": "stream",
     "text": [
      "Note: you may need to restart the kernel to use updated packages.\n"
     ]
    }
   ],
   "source": [
    "%pip install -U -q 'google-generativeai>=0.8.3'"
   ]
  },
  {
   "cell_type": "markdown",
   "id": "94bf5be5",
   "metadata": {
    "papermill": {
     "duration": 0.009303,
     "end_time": "2024-11-14T11:33:41.385003",
     "exception": false,
     "start_time": "2024-11-14T11:33:41.375700",
     "status": "completed"
    },
    "tags": []
   },
   "source": [
    "Note that you do not have to restart the kernel."
   ]
  },
  {
   "cell_type": "code",
   "execution_count": 3,
   "id": "e8992178",
   "metadata": {
    "execution": {
     "iopub.execute_input": "2024-11-14T11:33:41.405829Z",
     "iopub.status.busy": "2024-11-14T11:33:41.405426Z",
     "iopub.status.idle": "2024-11-14T11:33:42.491172Z",
     "shell.execute_reply": "2024-11-14T11:33:42.489906Z"
    },
    "id": "T0CBG9xL2PvT",
    "papermill": {
     "duration": 1.099369,
     "end_time": "2024-11-14T11:33:42.493824",
     "exception": false,
     "start_time": "2024-11-14T11:33:41.394455",
     "status": "completed"
    },
    "tags": []
   },
   "outputs": [],
   "source": [
    "import google.generativeai as genai"
   ]
  },
  {
   "cell_type": "markdown",
   "id": "729686bb",
   "metadata": {
    "id": "P4bYX2T72ScK",
    "papermill": {
     "duration": 0.009605,
     "end_time": "2024-11-14T11:33:42.513500",
     "exception": false,
     "start_time": "2024-11-14T11:33:42.503895",
     "status": "completed"
    },
    "tags": []
   },
   "source": [
    "### Set up your API key\n",
    "\n",
    "To run the following cell, your API key must be stored it in a [Kaggle secret](https://www.kaggle.com/discussions/product-feedback/114053) named `GOOGLE_API_KEY`.\n",
    "\n",
    "If you don't already have an API key, you can grab one from [AI Studio](https://aistudio.google.com/app/apikey). You can find [detailed instructions in the docs](https://ai.google.dev/gemini-api/docs/api-key).\n",
    "\n",
    "To make the key available through Kaggle secrets, choose `Secrets` from the `Add-ons` menu and follow the instructions to add your key or enable it for this notebook."
   ]
  },
  {
   "cell_type": "code",
   "execution_count": 4,
   "id": "40d4344f",
   "metadata": {
    "execution": {
     "iopub.execute_input": "2024-11-14T11:33:42.535684Z",
     "iopub.status.busy": "2024-11-14T11:33:42.534323Z",
     "iopub.status.idle": "2024-11-14T11:33:42.826880Z",
     "shell.execute_reply": "2024-11-14T11:33:42.825782Z"
    },
    "id": "VuJPY3GK2SLZ",
    "papermill": {
     "duration": 0.306644,
     "end_time": "2024-11-14T11:33:42.829570",
     "exception": false,
     "start_time": "2024-11-14T11:33:42.522926",
     "status": "completed"
    },
    "tags": []
   },
   "outputs": [],
   "source": [
    "from kaggle_secrets import UserSecretsClient\n",
    "\n",
    "GOOGLE_API_KEY = UserSecretsClient().get_secret(\"GOOGLE_API_KEY\")\n",
    "genai.configure(api_key=GOOGLE_API_KEY)"
   ]
  },
  {
   "attachments": {
    "53e1d527-de81-497e-bfac-58df458e750b.png": {
     "image/png": "[encoded data removed]"
    }
   },
   "cell_type": "markdown",
   "id": "bc4ca2c3",
   "metadata": {
    "id": "25b2127c2052",
    "papermill": {
     "duration": 0.009329,
     "end_time": "2024-11-14T11:33:42.848636",
     "exception": false,
     "start_time": "2024-11-14T11:33:42.839307",
     "status": "completed"
    },
    "tags": []
   },
   "source": [
    "If you received an error response along the lines of `No user secrets exist for kernel id ...`, then you need to add your API key via `Add-ons`, `Secrets` **and** enable it.\n",
    "\n",
    "![Screenshot of the checkbox to enable GOOGLE_API_KEY secret](https://storage.googleapis.com/kaggle-media/Images/5gdai_sc_3.png)"
   ]
  },
  {
   "cell_type": "markdown",
   "id": "000c3773",
   "metadata": {
    "id": "CqVA5QFO6n4z",
    "papermill": {
     "duration": 0.009189,
     "end_time": "2024-11-14T11:33:42.867543",
     "exception": false,
     "start_time": "2024-11-14T11:33:42.858354",
     "status": "completed"
    },
    "tags": []
   },
   "source": [
    "### Explore available models\n",
    "\n",
    "You will be using the [`TunedModel.create`](https://ai.google.dev/api/tuning#method:-tunedmodels.create) API method to start the fine-tuning job and create your custom model. Find a model that supports it through the [`models.list`](https://ai.google.dev/api/models#method:-models.list) endpoint. You can also find more information about tuning models in [the model tuning docs](https://ai.google.dev/gemini-api/docs/model-tuning/tutorial?lang=python)."
   ]
  },
  {
   "cell_type": "code",
   "execution_count": 5,
   "id": "c694f8ec",
   "metadata": {
    "execution": {
     "iopub.execute_input": "2024-11-14T11:33:42.888644Z",
     "iopub.status.busy": "2024-11-14T11:33:42.887659Z",
     "iopub.status.idle": "2024-11-14T11:33:43.238671Z",
     "shell.execute_reply": "2024-11-14T11:33:43.237299Z"
    },
    "id": "coEacWAB6o0G",
    "papermill": {
     "duration": 0.364796,
     "end_time": "2024-11-14T11:33:43.241685",
     "exception": false,
     "start_time": "2024-11-14T11:33:42.876889",
     "status": "completed"
    },
    "tags": []
   },
   "outputs": [
    {
     "name": "stdout",
     "output_type": "stream",
     "text": [
      "models/gemini-1.0-pro-001\n",
      "models/gemini-1.5-flash-001-tuning\n"
     ]
    }
   ],
   "source": [
    "for model in genai.list_models():\n",
    "    if \"createTunedModel\" in model.supported_generation_methods:\n",
    "        print(model.name)"
   ]
  },
  {
   "cell_type": "markdown",
   "id": "75e54e38",
   "metadata": {
    "id": "peFm0w_0c1CO",
    "papermill": {
     "duration": 0.009085,
     "end_time": "2024-11-14T11:33:43.260315",
     "exception": false,
     "start_time": "2024-11-14T11:33:43.251230",
     "status": "completed"
    },
    "tags": []
   },
   "source": [
    "## Download the dataset\n",
    "\n",
    "In this activity, you will use the same newsgroups dataset that you used to train a classifier in Keras. In this example you will use a fine-tuned Gemini model to achieve the same goal.\n",
    "\n",
    "The [20 Newsgroups Text Dataset](https://scikit-learn.org/0.19/datasets/twenty_newsgroups.html) contains 18,000 newsgroups posts on 20 topics divided into training and test sets."
   ]
  },
  {
   "cell_type": "code",
   "execution_count": 6,
   "id": "e568fcc1",
   "metadata": {
    "execution": {
     "iopub.execute_input": "2024-11-14T11:33:43.280767Z",
     "iopub.status.busy": "2024-11-14T11:33:43.280286Z",
     "iopub.status.idle": "2024-11-14T11:34:07.924031Z",
     "shell.execute_reply": "2024-11-14T11:34:07.922659Z"
    },
    "id": "bX_kpgnQ9b-Z",
    "papermill": {
     "duration": 24.657492,
     "end_time": "2024-11-14T11:34:07.927107",
     "exception": false,
     "start_time": "2024-11-14T11:33:43.269615",
     "status": "completed"
    },
    "tags": []
   },
   "outputs": [
    {
     "data": {
      "text/plain": [
       "['alt.atheism',\n",
       " 'comp.graphics',\n",
       " 'comp.os.ms-windows.misc',\n",
       " 'comp.sys.ibm.pc.hardware',\n",
       " 'comp.sys.mac.hardware',\n",
       " 'comp.windows.x',\n",
       " 'misc.forsale',\n",
       " 'rec.autos',\n",
       " 'rec.motorcycles',\n",
       " 'rec.sport.baseball',\n",
       " 'rec.sport.hockey',\n",
       " 'sci.crypt',\n",
       " 'sci.electronics',\n",
       " 'sci.med',\n",
       " 'sci.space',\n",
       " 'soc.religion.christian',\n",
       " 'talk.politics.guns',\n",
       " 'talk.politics.mideast',\n",
       " 'talk.politics.misc',\n",
       " 'talk.religion.misc']"
      ]
     },
     "execution_count": 6,
     "metadata": {},
     "output_type": "execute_result"
    }
   ],
   "source": [
    "from sklearn.datasets import fetch_20newsgroups\n",
    "\n",
    "newsgroups_train = fetch_20newsgroups(subset=\"train\")\n",
    "newsgroups_test = fetch_20newsgroups(subset=\"test\")\n",
    "\n",
    "# View list of class names for dataset\n",
    "newsgroups_train.target_names"
   ]
  },
  {
   "cell_type": "markdown",
   "id": "8c6cf078",
   "metadata": {
    "id": "ipafe6ptZFjt",
    "papermill": {
     "duration": 0.013893,
     "end_time": "2024-11-14T11:34:07.956160",
     "exception": false,
     "start_time": "2024-11-14T11:34:07.942267",
     "status": "completed"
    },
    "tags": []
   },
   "source": [
    "Here's what a single row looks like."
   ]
  },
  {
   "cell_type": "code",
   "execution_count": 7,
   "id": "a3326b52",
   "metadata": {
    "execution": {
     "iopub.execute_input": "2024-11-14T11:34:07.983339Z",
     "iopub.status.busy": "2024-11-14T11:34:07.982353Z",
     "iopub.status.idle": "2024-11-14T11:34:07.989097Z",
     "shell.execute_reply": "2024-11-14T11:34:07.987793Z"
    },
    "id": "EtEXcdT39hCB",
    "papermill": {
     "duration": 0.020979,
     "end_time": "2024-11-14T11:34:07.991560",
     "exception": false,
     "start_time": "2024-11-14T11:34:07.970581",
     "status": "completed"
    },
    "tags": []
   },
   "outputs": [
    {
     "name": "stdout",
     "output_type": "stream",
     "text": [
      "From: lerxst@wam.umd.edu (where's my thing)\n",
      "Subject: WHAT car is this!?\n",
      "Nntp-Posting-Host: rac3.wam.umd.edu\n",
      "Organization: University of Maryland, College Park\n",
      "Lines: 15\n",
      "\n",
      " I was wondering if anyone out there could enlighten me on this car I saw\n",
      "the other day. It was a 2-door sports car, looked to be from the late 60s/\n",
      "early 70s. It was called a Bricklin. The doors were really small. In addition,\n",
      "the front bumper was separate from the rest of the body. This is \n",
      "all I know. If anyone can tellme a model name, engine specs, years\n",
      "of production, where this car is made, history, or whatever info you\n",
      "have on this funky looking car, please e-mail.\n",
      "\n",
      "Thanks,\n",
      "- IL\n",
      "   ---- brought to you by your neighborhood Lerxst ----\n",
      "\n",
      "\n",
      "\n",
      "\n",
      "\n"
     ]
    }
   ],
   "source": [
    "print(newsgroups_train.data[0])"
   ]
  },
  {
   "cell_type": "markdown",
   "id": "6e5146b0",
   "metadata": {
    "id": "03lDs1O4ZQ0-",
    "papermill": {
     "duration": 0.009252,
     "end_time": "2024-11-14T11:34:08.010542",
     "exception": false,
     "start_time": "2024-11-14T11:34:08.001290",
     "status": "completed"
    },
    "tags": []
   },
   "source": [
    "## Prepare the dataset\n",
    "\n",
    "You'll use the same pre-processing code you used for the custom model on day 2. This pre-processing removes personal information, which can be used to \"shortcut\" to known users of a forum, and formats the text to appear a bit more like regular text and less like a newsgroup post (e.g. by removing the mail headers). This normalisation allows the model to generalise to regular text and not over-depend on specific fields. If your input data is always going to be newsgroup posts, it may be helpful to leave this structure in place if they provide genuine signals."
   ]
  },
  {
   "cell_type": "code",
   "execution_count": 8,
   "id": "7af48a0c",
   "metadata": {
    "execution": {
     "iopub.execute_input": "2024-11-14T11:34:08.032535Z",
     "iopub.status.busy": "2024-11-14T11:34:08.031975Z",
     "iopub.status.idle": "2024-11-14T11:34:08.832159Z",
     "shell.execute_reply": "2024-11-14T11:34:08.830937Z"
    },
    "id": "IoNYTxpoZgB0",
    "papermill": {
     "duration": 0.8145,
     "end_time": "2024-11-14T11:34:08.834998",
     "exception": false,
     "start_time": "2024-11-14T11:34:08.020498",
     "status": "completed"
    },
    "tags": []
   },
   "outputs": [],
   "source": [
    "import email\n",
    "import re\n",
    "\n",
    "import pandas as pd\n",
    "\n",
    "\n",
    "def preprocess_newsgroup_row(data):\n",
    "    # Extract only the subject and body\n",
    "    msg = email.message_from_string(data)\n",
    "    text = f\"{msg['Subject']}\\n\\n{msg.get_payload()}\"\n",
    "    # Strip any remaining email addresses\n",
    "    text = re.sub(r\"[\\w\\.-]+@[\\w\\.-]+\", \"\", text)\n",
    "    # Truncate the text to fit within the input limits\n",
    "    text = text[:40000]\n",
    "\n",
    "    return text\n",
    "\n",
    "\n",
    "def preprocess_newsgroup_data(newsgroup_dataset):\n",
    "    # Put data points into dataframe\n",
    "    df = pd.DataFrame(\n",
    "        {\"Text\": newsgroup_dataset.data, \"Label\": newsgroup_dataset.target}\n",
    "    )\n",
    "    # Clean up the text\n",
    "    df[\"Text\"] = df[\"Text\"].apply(preprocess_newsgroup_row)\n",
    "    # Match label to target name index\n",
    "    df[\"Class Name\"] = df[\"Label\"].map(lambda l: newsgroup_dataset.target_names[l])\n",
    "\n",
    "    return df"
   ]
  },
  {
   "cell_type": "code",
   "execution_count": 9,
   "id": "de522283",
   "metadata": {
    "execution": {
     "iopub.execute_input": "2024-11-14T11:34:08.858291Z",
     "iopub.status.busy": "2024-11-14T11:34:08.857480Z",
     "iopub.status.idle": "2024-11-14T11:34:12.957000Z",
     "shell.execute_reply": "2024-11-14T11:34:12.955794Z"
    },
    "id": "kvOsUSRWaW4g",
    "papermill": {
     "duration": 4.114563,
     "end_time": "2024-11-14T11:34:12.959560",
     "exception": false,
     "start_time": "2024-11-14T11:34:08.844997",
     "status": "completed"
    },
    "tags": []
   },
   "outputs": [
    {
     "data": {
      "text/html": [
       "<div>\n",
       "<style scoped>\n",
       "    .dataframe tbody tr th:only-of-type {\n",
       "        vertical-align: middle;\n",
       "    }\n",
       "\n",
       "    .dataframe tbody tr th {\n",
       "        vertical-align: top;\n",
       "    }\n",
       "\n",
       "    .dataframe thead th {\n",
       "        text-align: right;\n",
       "    }\n",
       "</style>\n",
       "<table border=\"1\" class=\"dataframe\">\n",
       "  <thead>\n",
       "    <tr style=\"text-align: right;\">\n",
       "      <th></th>\n",
       "      <th>Text</th>\n",
       "      <th>Label</th>\n",
       "      <th>Class Name</th>\n",
       "    </tr>\n",
       "  </thead>\n",
       "  <tbody>\n",
       "    <tr>\n",
       "      <th>0</th>\n",
       "      <td>WHAT car is this!?\\n\\n I was wondering if anyo...</td>\n",
       "      <td>7</td>\n",
       "      <td>rec.autos</td>\n",
       "    </tr>\n",
       "    <tr>\n",
       "      <th>1</th>\n",
       "      <td>SI Clock Poll - Final Call\\n\\nA fair number of...</td>\n",
       "      <td>4</td>\n",
       "      <td>comp.sys.mac.hardware</td>\n",
       "    </tr>\n",
       "    <tr>\n",
       "      <th>2</th>\n",
       "      <td>PB questions...\\n\\nwell folks, my mac plus fin...</td>\n",
       "      <td>4</td>\n",
       "      <td>comp.sys.mac.hardware</td>\n",
       "    </tr>\n",
       "    <tr>\n",
       "      <th>3</th>\n",
       "      <td>Re: Weitek P9000 ?\\n\\nRobert J.C. Kyanko () wr...</td>\n",
       "      <td>1</td>\n",
       "      <td>comp.graphics</td>\n",
       "    </tr>\n",
       "    <tr>\n",
       "      <th>4</th>\n",
       "      <td>Re: Shuttle Launch Question\\n\\nFrom article &lt;&gt;...</td>\n",
       "      <td>14</td>\n",
       "      <td>sci.space</td>\n",
       "    </tr>\n",
       "  </tbody>\n",
       "</table>\n",
       "</div>"
      ],
      "text/plain": [
       "                                                Text  Label  \\\n",
       "0  WHAT car is this!?\\n\\n I was wondering if anyo...      7   \n",
       "1  SI Clock Poll - Final Call\\n\\nA fair number of...      4   \n",
       "2  PB questions...\\n\\nwell folks, my mac plus fin...      4   \n",
       "3  Re: Weitek P9000 ?\\n\\nRobert J.C. Kyanko () wr...      1   \n",
       "4  Re: Shuttle Launch Question\\n\\nFrom article <>...     14   \n",
       "\n",
       "              Class Name  \n",
       "0              rec.autos  \n",
       "1  comp.sys.mac.hardware  \n",
       "2  comp.sys.mac.hardware  \n",
       "3          comp.graphics  \n",
       "4              sci.space  "
      ]
     },
     "execution_count": 9,
     "metadata": {},
     "output_type": "execute_result"
    }
   ],
   "source": [
    "# Apply preprocessing to training and test datasets\n",
    "df_train = preprocess_newsgroup_data(newsgroups_train)\n",
    "df_test = preprocess_newsgroup_data(newsgroups_test)\n",
    "\n",
    "df_train.head()"
   ]
  },
  {
   "cell_type": "markdown",
   "id": "61581109",
   "metadata": {
    "id": "XSKcj5WtadaR",
    "papermill": {
     "duration": 0.009773,
     "end_time": "2024-11-14T11:34:12.979313",
     "exception": false,
     "start_time": "2024-11-14T11:34:12.969540",
     "status": "completed"
    },
    "tags": []
   },
   "source": [
    "Now sample the data. You will keep 50 rows for each category for training. Note that this is even fewer than the Keras example, as this technique (parameter-efficient fine-tuning, or PEFT) updates a relatively small number of parameters and does not require training a new model or updating the large model."
   ]
  },
  {
   "cell_type": "code",
   "execution_count": 10,
   "id": "93fbfd57",
   "metadata": {
    "execution": {
     "iopub.execute_input": "2024-11-14T11:34:13.000919Z",
     "iopub.status.busy": "2024-11-14T11:34:13.000457Z",
     "iopub.status.idle": "2024-11-14T11:34:13.048538Z",
     "shell.execute_reply": "2024-11-14T11:34:13.047587Z"
    },
    "id": "0t9Xu6X5akkt",
    "papermill": {
     "duration": 0.062022,
     "end_time": "2024-11-14T11:34:13.051266",
     "exception": false,
     "start_time": "2024-11-14T11:34:12.989244",
     "status": "completed"
    },
    "tags": []
   },
   "outputs": [],
   "source": [
    "def sample_data(df, num_samples, classes_to_keep):\n",
    "    # Sample rows, selecting num_samples of each Label.\n",
    "    df = (\n",
    "        df.groupby(\"Label\")[df.columns]\n",
    "        .apply(lambda x: x.sample(num_samples))\n",
    "        .reset_index(drop=True)\n",
    "    )\n",
    "\n",
    "    df = df[df[\"Class Name\"].str.contains(classes_to_keep)]\n",
    "    df[\"Class Name\"] = df[\"Class Name\"].astype(\"category\")\n",
    "\n",
    "    return df\n",
    "\n",
    "\n",
    "TRAIN_NUM_SAMPLES = 50\n",
    "TEST_NUM_SAMPLES = 10\n",
    "# Keep rec.* and sci.*\n",
    "CLASSES_TO_KEEP = \"^rec|^sci\"\n",
    "\n",
    "df_train = sample_data(df_train, TRAIN_NUM_SAMPLES, CLASSES_TO_KEEP)\n",
    "df_test = sample_data(df_test, TEST_NUM_SAMPLES, CLASSES_TO_KEEP)"
   ]
  },
  {
   "cell_type": "markdown",
   "id": "b5ef6d95",
   "metadata": {
    "papermill": {
     "duration": 0.009512,
     "end_time": "2024-11-14T11:34:13.070801",
     "exception": false,
     "start_time": "2024-11-14T11:34:13.061289",
     "status": "completed"
    },
    "tags": []
   },
   "source": [
    "## Evaluate baseline performance\n",
    "\n",
    "Before you start tuning a model, it's good practice to perform an evaluation on the available models to ensure you can measure how much the tuning helps.\n",
    "\n",
    "First identify a single sample row to use for visual inspection."
   ]
  },
  {
   "cell_type": "code",
   "execution_count": 11,
   "id": "0779e355",
   "metadata": {
    "execution": {
     "iopub.execute_input": "2024-11-14T11:34:13.092675Z",
     "iopub.status.busy": "2024-11-14T11:34:13.091687Z",
     "iopub.status.idle": "2024-11-14T11:34:13.098567Z",
     "shell.execute_reply": "2024-11-14T11:34:13.097435Z"
    },
    "papermill": {
     "duration": 0.020889,
     "end_time": "2024-11-14T11:34:13.101449",
     "exception": false,
     "start_time": "2024-11-14T11:34:13.080560",
     "status": "completed"
    },
    "tags": []
   },
   "outputs": [
    {
     "name": "stdout",
     "output_type": "stream",
     "text": [
      "Need info on 88-89 Bonneville\n",
      "\n",
      "\n",
      " I am a little confused on all of the models of the 88-89 bonnevilles.\n",
      "I have heard of the LE SE LSE SSE SSEI. Could someone tell me the\n",
      "differences are far as features or performance. I am also curious to\n",
      "know what the book value is for prefereably the 89 model. And how much\n",
      "less than book value can you usually get them for. In other words how\n",
      "much are they in demand this time of year. I have heard that the mid-spring\n",
      "early summer is the best time to buy.\n",
      "\n",
      "\t\t\tNeil Gandler\n",
      "\n",
      "---\n",
      "Label: rec.autos\n"
     ]
    }
   ],
   "source": [
    "sample_idx = 0\n",
    "sample_row = preprocess_newsgroup_row(newsgroups_test.data[sample_idx])\n",
    "sample_label = newsgroups_test.target_names[newsgroups_test.target[sample_idx]]\n",
    "\n",
    "print(sample_row)\n",
    "print('---')\n",
    "print('Label:', sample_label)"
   ]
  },
  {
   "cell_type": "markdown",
   "id": "9e64dd4c",
   "metadata": {
    "papermill": {
     "duration": 0.009694,
     "end_time": "2024-11-14T11:34:13.121040",
     "exception": false,
     "start_time": "2024-11-14T11:34:13.111346",
     "status": "completed"
    },
    "tags": []
   },
   "source": [
    "Passing the text directly in as a prompt does not yield the desired results. The model will attempt to respond to the message."
   ]
  },
  {
   "cell_type": "code",
   "execution_count": 12,
   "id": "d19476bb",
   "metadata": {
    "execution": {
     "iopub.execute_input": "2024-11-14T11:34:13.142759Z",
     "iopub.status.busy": "2024-11-14T11:34:13.142336Z",
     "iopub.status.idle": "2024-11-14T11:34:17.158944Z",
     "shell.execute_reply": "2024-11-14T11:34:17.157636Z"
    },
    "papermill": {
     "duration": 4.030756,
     "end_time": "2024-11-14T11:34:17.161678",
     "exception": false,
     "start_time": "2024-11-14T11:34:13.130922",
     "status": "completed"
    },
    "tags": []
   },
   "outputs": [
    {
     "name": "stdout",
     "output_type": "stream",
     "text": [
      "## 1988-1989 Pontiac Bonnevilles: Decoding the Trim Levels\n",
      "\n",
      "You're right, the 1988-1989 Bonneville lineup can be a bit confusing with all the different trim levels. Here's a breakdown to help you understand the differences:\n",
      "\n",
      "**1. Base Model:**  The standard Bonneville was a solid, comfortable car with a 3.8L V6 engine and a 4-speed automatic transmission.\n",
      "\n",
      "**2. LE (Luxury Edition):**  This trim level offered a more luxurious interior with features like cloth upholstery, power windows and locks, and a tilt steering wheel.\n",
      "\n",
      "**3. SE (Special Edition):**  This trim level focused on sporty styling and handling, with features like a sport suspension, alloy wheels, and a unique interior.\n",
      "\n",
      "**4. LSE (Luxury Special Edition):**  This trim level combined the luxury features of the LE with the sporty features of the SE, offering a good balance of comfort and performance.\n",
      "\n",
      "**5. SSE (Sport Sedan Edition):**  The SSE was the top-of-the-line Bonneville, offering a more powerful 3.8L V6 engine, a 4-speed automatic transmission with overdrive, and a sport-tuned suspension.\n",
      "\n",
      "**6. SSEi (Sport Sedan Edition, Injected):**  Available in 1989, the SSEi added a fuel-injected version of the 3.8L V6 engine, further boosting horsepower and performance.\n",
      "\n",
      "**Book Value & Demand:**\n",
      "\n",
      "The book value for a 1989 Bonneville varies significantly depending on the trim level, condition, and mileage.  Websites like Kelley Blue Book or Edmunds can provide estimates, but keep in mind these are just guidelines.\n",
      "\n",
      "Here's a general idea of the market for these cars:\n",
      "\n",
      "* **High Demand:** Well-maintained examples of the SSE and SSEi, particularly those with low mileage, can still command a decent price.\n",
      "* **Lower Demand:** Base models and LE trim levels are more common and may be less expensive, but they still hold value as reliable, comfortable cars.\n",
      "* **Seasonal Variations:**  While you might see some price fluctuations throughout the year, the Bonneville is not a car that experiences dramatic seasonal price changes.\n",
      "\n",
      "**Negotiation & Buying Tips:**\n",
      "\n",
      "* **Research:**  Understand the different trim levels and their features. Compare prices on various websites to get a sense of market value.\n",
      "* **Inspection:**  Have a qualified mechanic inspect the car before you buy it.\n",
      "* **Negotiation:**  Be prepared to negotiate the price, especially for cars with higher mileage or minor cosmetic flaws.\n",
      "* **Condition is Key:**  The condition of the car will significantly impact its value. A well-maintained Bonneville, regardless of trim level, will be more desirable and likely command a higher price.\n",
      "\n",
      "**Additional Considerations:**\n",
      "\n",
      "* **Parts Availability:**  Parts for these Bonnevilles are generally still readily available, but as they get older, you might encounter more difficulty finding certain components.\n",
      "* **Fuel Efficiency:**  The Bonneville's V6 engines are not known for their fuel efficiency. \n",
      "* **Reliability:**  Overall, Bonnevilles from this era are known for their reliability, but always check maintenance records and ask about any known issues.\n",
      "\n",
      "Remember, your personal preferences and needs should guide your final decision. Choose the Bonneville that best fits your budget and requirements, and don't be afraid to negotiate to get the best deal possible. \n",
      "\n"
     ]
    }
   ],
   "source": [
    "baseline_model = genai.GenerativeModel(\"gemini-1.5-flash-001\")\n",
    "response = baseline_model.generate_content(sample_row)\n",
    "print(response.text)"
   ]
  },
  {
   "cell_type": "markdown",
   "id": "7efd88a1",
   "metadata": {
    "papermill": {
     "duration": 0.011784,
     "end_time": "2024-11-14T11:34:17.184199",
     "exception": false,
     "start_time": "2024-11-14T11:34:17.172415",
     "status": "completed"
    },
    "tags": []
   },
   "source": [
    "You can use the prompt engineering techniques you have learned this week to induce the model to perform the desired task. Try some of your own ideas and see what is effective, or check out the following cells for different approaches. Note that they have different levels of effectiveness!"
   ]
  },
  {
   "cell_type": "code",
   "execution_count": 13,
   "id": "7358bf8e",
   "metadata": {
    "execution": {
     "iopub.execute_input": "2024-11-14T11:34:17.206868Z",
     "iopub.status.busy": "2024-11-14T11:34:17.206354Z",
     "iopub.status.idle": "2024-11-14T11:34:18.806568Z",
     "shell.execute_reply": "2024-11-14T11:34:18.804653Z"
    },
    "papermill": {
     "duration": 1.61537,
     "end_time": "2024-11-14T11:34:18.809965",
     "exception": false,
     "start_time": "2024-11-14T11:34:17.194595",
     "status": "completed"
    },
    "tags": []
   },
   "outputs": [
    {
     "name": "stdout",
     "output_type": "stream",
     "text": [
      "The newsgroup is most likely **rec.autos.buick**. \n",
      "\n",
      "**Accuracy Score: 90%**\n",
      "\n",
      "**Reasoning:**\n",
      "\n",
      "* **Content:** The message specifically focuses on Buick Bonneville models from 1988-1989, discussing different trim levels and their features, as well as pricing and market demand. This is highly relevant to a Buick-focused newsgroup.\n",
      "* **rec.autos.buick:**  This newsgroup is dedicated to discussions about Buick vehicles, making it the most likely source for such a message. \n",
      "* **rec.autos:** While this broader newsgroup covers all automobiles, it's less likely to be the origin of a highly specific discussion about Bonneville models.\n",
      "\n",
      "**Why not 100%:**\n",
      "\n",
      "While the message is highly indicative of a Buick-related newsgroup, there's a small chance it could have originated from a more general car enthusiast group or a forum focused on specific years of the Bonneville. \n",
      "\n"
     ]
    }
   ],
   "source": [
    "# Ask the model directly in a zero-shot prompt.\n",
    "\n",
    "prompt = \"From what newsgroup does the following message originate? and apply a accuracy score for your prediction\"\n",
    "baseline_response = baseline_model.generate_content([prompt, sample_row])\n",
    "print(baseline_response.text)"
   ]
  },
  {
   "cell_type": "markdown",
   "id": "8d1711f1",
   "metadata": {
    "papermill": {
     "duration": 0.011281,
     "end_time": "2024-11-14T11:34:18.832392",
     "exception": false,
     "start_time": "2024-11-14T11:34:18.821111",
     "status": "completed"
    },
    "tags": []
   },
   "source": [
    "That technique produces quite a verbose response. You could try and pick out the relevant text, or refine the prompt even further."
   ]
  },
  {
   "cell_type": "code",
   "execution_count": 14,
   "id": "94a1bbe7",
   "metadata": {
    "execution": {
     "iopub.execute_input": "2024-11-14T11:34:18.857025Z",
     "iopub.status.busy": "2024-11-14T11:34:18.856495Z",
     "iopub.status.idle": "2024-11-14T11:34:19.390830Z",
     "shell.execute_reply": "2024-11-14T11:34:19.389153Z"
    },
    "papermill": {
     "duration": 0.550182,
     "end_time": "2024-11-14T11:34:19.393591",
     "exception": false,
     "start_time": "2024-11-14T11:34:18.843409",
     "status": "completed"
    },
    "tags": []
   },
   "outputs": [
    {
     "name": "stdout",
     "output_type": "stream",
     "text": [
      "rec.autos.misc\n",
      "\n",
      "Incorrect.\n"
     ]
    }
   ],
   "source": [
    "from google.api_core import retry\n",
    "\n",
    "# You can use a system instruction to do more direct prompting, and get a\n",
    "# more succinct answer.\n",
    "\n",
    "system_instruct = \"\"\"\n",
    "You are a classification service. You will be passed input that represents\n",
    "a newsgroup post and you must respond with the newsgroup from which the post\n",
    "originates.\n",
    "\"\"\"\n",
    "\n",
    "instructed_model = genai.GenerativeModel(\"gemini-1.5-flash-001\",\n",
    "                                         system_instruction=system_instruct)\n",
    "\n",
    "retry_policy = {\"retry\": retry.Retry(predicate=retry.if_transient_error)}\n",
    "\n",
    "# If you want to evaluate your own technique, replace this function with your\n",
    "# model, prompt and other code and return the predicted answer.\n",
    "def predict_label(post: str) -> str:\n",
    "    response = instructed_model.generate_content(post, request_options=retry_policy)\n",
    "    rc = response.candidates[0]\n",
    "\n",
    "    # Any errors, filters, recitation, etc we can mark as a general error\n",
    "    if rc.finish_reason.name != \"STOP\":\n",
    "        return \"(error)\"\n",
    "    else:\n",
    "        # Clean up the response.\n",
    "        return response.text.strip()\n",
    "\n",
    "\n",
    "prediction = predict_label(sample_row)\n",
    "\n",
    "print(prediction)\n",
    "print()\n",
    "print(\"Correct!\" if prediction == sample_label else \"Incorrect.\")"
   ]
  },
  {
   "cell_type": "markdown",
   "id": "0915106b",
   "metadata": {
    "papermill": {
     "duration": 0.010372,
     "end_time": "2024-11-14T11:34:19.414757",
     "exception": false,
     "start_time": "2024-11-14T11:34:19.404385",
     "status": "completed"
    },
    "tags": []
   },
   "source": [
    "Now run a short evaluation using the function defined above. The test set is further sampled to ensure the experiment runs smoothly on the API's free tier. In practice you would evaluate over the whole set."
   ]
  },
  {
   "cell_type": "code",
   "execution_count": 15,
   "id": "4afee5a4",
   "metadata": {
    "execution": {
     "iopub.execute_input": "2024-11-14T11:34:19.438431Z",
     "iopub.status.busy": "2024-11-14T11:34:19.437927Z",
     "iopub.status.idle": "2024-11-14T11:35:27.880712Z",
     "shell.execute_reply": "2024-11-14T11:35:27.879440Z"
    },
    "papermill": {
     "duration": 68.45952,
     "end_time": "2024-11-14T11:35:27.885047",
     "exception": false,
     "start_time": "2024-11-14T11:34:19.425527",
     "status": "completed"
    },
    "tags": []
   },
   "outputs": [
    {
     "data": {
      "application/vnd.jupyter.widget-view+json": {
       "model_id": "db155538ea9b484585d78fe5988b24ca",
       "version_major": 2,
       "version_minor": 0
      },
      "text/plain": [
       "Output()"
      ]
     },
     "metadata": {},
     "output_type": "display_data"
    },
    {
     "name": "stderr",
     "output_type": "stream",
     "text": [
      "/opt/conda/lib/python3.10/site-packages/tqdm/std.py:885: TqdmExperimentalWarning: rich is experimental/alpha\n",
      "  t = cls(total=total, **tqdm_kwargs)\n"
     ]
    },
    {
     "data": {
      "text/html": [
       "<pre style=\"white-space:pre;overflow-x:auto;line-height:normal;font-family:Menlo,'DejaVu Sans Mono',consolas,'Courier New',monospace\"></pre>\n"
      ],
      "text/plain": []
     },
     "metadata": {},
     "output_type": "display_data"
    },
    {
     "data": {
      "text/html": [
       "<pre style=\"white-space:pre;overflow-x:auto;line-height:normal;font-family:Menlo,'DejaVu Sans Mono',consolas,'Courier New',monospace\">\n",
       "</pre>\n"
      ],
      "text/plain": [
       "\n"
      ]
     },
     "metadata": {},
     "output_type": "display_data"
    },
    {
     "name": "stdout",
     "output_type": "stream",
     "text": [
      "Accuracy: 50.00%\n"
     ]
    }
   ],
   "source": [
    "from tqdm.rich import tqdm\n",
    "\n",
    "tqdm.pandas()\n",
    "\n",
    "\n",
    "# Further sample the test data to be mindful of the free-tier quota.\n",
    "df_baseline_eval = sample_data(df_test, 2, '.*')\n",
    "\n",
    "# Make predictions using the sampled data.\n",
    "df_baseline_eval['Prediction'] = df_baseline_eval['Text'].progress_apply(predict_label)\n",
    "\n",
    "# And calculate the accuracy.\n",
    "accuracy = (df_baseline_eval[\"Class Name\"] == df_baseline_eval[\"Prediction\"]).sum() / len(df_baseline_eval)\n",
    "print(f\"Accuracy: {accuracy:.2%}\")"
   ]
  },
  {
   "cell_type": "markdown",
   "id": "f69a46e1",
   "metadata": {
    "papermill": {
     "duration": 0.014281,
     "end_time": "2024-11-14T11:35:27.913594",
     "exception": false,
     "start_time": "2024-11-14T11:35:27.899313",
     "status": "completed"
    },
    "tags": []
   },
   "source": [
    "Now take a look at the dataframe to compare the predictions with the labels."
   ]
  },
  {
   "cell_type": "code",
   "execution_count": 16,
   "id": "897169c1",
   "metadata": {
    "execution": {
     "iopub.execute_input": "2024-11-14T11:35:30.089753Z",
     "iopub.status.busy": "2024-11-14T11:35:30.089316Z",
     "iopub.status.idle": "2024-11-14T11:35:30.102502Z",
     "shell.execute_reply": "2024-11-14T11:35:30.101326Z"
    },
    "papermill": {
     "duration": 2.176772,
     "end_time": "2024-11-14T11:35:30.104961",
     "exception": false,
     "start_time": "2024-11-14T11:35:27.928189",
     "status": "completed"
    },
    "tags": []
   },
   "outputs": [
    {
     "data": {
      "text/html": [
       "<div>\n",
       "<style scoped>\n",
       "    .dataframe tbody tr th:only-of-type {\n",
       "        vertical-align: middle;\n",
       "    }\n",
       "\n",
       "    .dataframe tbody tr th {\n",
       "        vertical-align: top;\n",
       "    }\n",
       "\n",
       "    .dataframe thead th {\n",
       "        text-align: right;\n",
       "    }\n",
       "</style>\n",
       "<table border=\"1\" class=\"dataframe\">\n",
       "  <thead>\n",
       "    <tr style=\"text-align: right;\">\n",
       "      <th></th>\n",
       "      <th>Text</th>\n",
       "      <th>Label</th>\n",
       "      <th>Class Name</th>\n",
       "      <th>Prediction</th>\n",
       "    </tr>\n",
       "  </thead>\n",
       "  <tbody>\n",
       "    <tr>\n",
       "      <th>0</th>\n",
       "      <td>Re: comparing saabs &amp; bmw's\\n\\nIn article &lt;1r7...</td>\n",
       "      <td>7</td>\n",
       "      <td>rec.autos</td>\n",
       "      <td>rec.autos.bmw</td>\n",
       "    </tr>\n",
       "    <tr>\n",
       "      <th>1</th>\n",
       "      <td>After market sunroofs (power moonroof BIG $ ty...</td>\n",
       "      <td>7</td>\n",
       "      <td>rec.autos</td>\n",
       "      <td>rec.autos.makers</td>\n",
       "    </tr>\n",
       "    <tr>\n",
       "      <th>2</th>\n",
       "      <td>Re: Need advice for riding with someone on pil...</td>\n",
       "      <td>8</td>\n",
       "      <td>rec.motorcycles</td>\n",
       "      <td>rec.motorcycles</td>\n",
       "    </tr>\n",
       "    <tr>\n",
       "      <th>3</th>\n",
       "      <td>Re: V-max handling request\\n\\nIn article &lt;&gt;,  ...</td>\n",
       "      <td>8</td>\n",
       "      <td>rec.motorcycles</td>\n",
       "      <td>rec.motorcycles</td>\n",
       "    </tr>\n",
       "    <tr>\n",
       "      <th>4</th>\n",
       "      <td>Re: Winfield\\n\\nIn article &lt;&gt; (Michael Lurie) ...</td>\n",
       "      <td>9</td>\n",
       "      <td>rec.sport.baseball</td>\n",
       "      <td>rec.sport.baseball</td>\n",
       "    </tr>\n",
       "    <tr>\n",
       "      <th>5</th>\n",
       "      <td>Re: Braves &amp; Giants\\n\\n (Thomas Miller) writes...</td>\n",
       "      <td>9</td>\n",
       "      <td>rec.sport.baseball</td>\n",
       "      <td>rec.sport.baseball</td>\n",
       "    </tr>\n",
       "    <tr>\n",
       "      <th>6</th>\n",
       "      <td>Re: If You Were Pat Burns ...\\n\\nIf I were Pat...</td>\n",
       "      <td>10</td>\n",
       "      <td>rec.sport.hockey</td>\n",
       "      <td>rec.sport.hockey</td>\n",
       "    </tr>\n",
       "    <tr>\n",
       "      <th>7</th>\n",
       "      <td>Re: Don Cherry - help me out, here\\n\\nIn artic...</td>\n",
       "      <td>10</td>\n",
       "      <td>rec.sport.hockey</td>\n",
       "      <td>rec.sport.hockey</td>\n",
       "    </tr>\n",
       "    <tr>\n",
       "      <th>8</th>\n",
       "      <td>Re: DES salts\\n\\nIn article &lt;&gt;  (Mikel Lechner...</td>\n",
       "      <td>11</td>\n",
       "      <td>sci.crypt</td>\n",
       "      <td>(error)</td>\n",
       "    </tr>\n",
       "    <tr>\n",
       "      <th>9</th>\n",
       "      <td>Re: Overreacting (was Re: Once tapped, your co...</td>\n",
       "      <td>11</td>\n",
       "      <td>sci.crypt</td>\n",
       "      <td>alt.politics.clinton</td>\n",
       "    </tr>\n",
       "    <tr>\n",
       "      <th>10</th>\n",
       "      <td>Re: Why circuit boards are green?\\n\\nIn articl...</td>\n",
       "      <td>12</td>\n",
       "      <td>sci.electronics</td>\n",
       "      <td>comp.electronics.design</td>\n",
       "    </tr>\n",
       "    <tr>\n",
       "      <th>11</th>\n",
       "      <td>Re: UART needed (really BREAK detect)\\n\\nIn ar...</td>\n",
       "      <td>12</td>\n",
       "      <td>sci.electronics</td>\n",
       "      <td>comp.arch.embedded</td>\n",
       "    </tr>\n",
       "    <tr>\n",
       "      <th>12</th>\n",
       "      <td>Re: feverfew for migraines\\n\\nBrenda Bowden ()...</td>\n",
       "      <td>13</td>\n",
       "      <td>sci.med</td>\n",
       "      <td>alt.support.migraine</td>\n",
       "    </tr>\n",
       "    <tr>\n",
       "      <th>13</th>\n",
       "      <td>fever blisters\\n\\nCause and cures for fever bl...</td>\n",
       "      <td>13</td>\n",
       "      <td>sci.med</td>\n",
       "      <td>(error)</td>\n",
       "    </tr>\n",
       "    <tr>\n",
       "      <th>14</th>\n",
       "      <td>Re: ASTRONAUTS---What does weightlessness feel...</td>\n",
       "      <td>14</td>\n",
       "      <td>sci.space</td>\n",
       "      <td>sci.space</td>\n",
       "    </tr>\n",
       "    <tr>\n",
       "      <th>15</th>\n",
       "      <td>Deployable Space Dock..\\n\\nIdea for repair of ...</td>\n",
       "      <td>14</td>\n",
       "      <td>sci.space</td>\n",
       "      <td>sci.space</td>\n",
       "    </tr>\n",
       "  </tbody>\n",
       "</table>\n",
       "</div>"
      ],
      "text/plain": [
       "                                                 Text  Label  \\\n",
       "0   Re: comparing saabs & bmw's\\n\\nIn article <1r7...      7   \n",
       "1   After market sunroofs (power moonroof BIG $ ty...      7   \n",
       "2   Re: Need advice for riding with someone on pil...      8   \n",
       "3   Re: V-max handling request\\n\\nIn article <>,  ...      8   \n",
       "4   Re: Winfield\\n\\nIn article <> (Michael Lurie) ...      9   \n",
       "5   Re: Braves & Giants\\n\\n (Thomas Miller) writes...      9   \n",
       "6   Re: If You Were Pat Burns ...\\n\\nIf I were Pat...     10   \n",
       "7   Re: Don Cherry - help me out, here\\n\\nIn artic...     10   \n",
       "8   Re: DES salts\\n\\nIn article <>  (Mikel Lechner...     11   \n",
       "9   Re: Overreacting (was Re: Once tapped, your co...     11   \n",
       "10  Re: Why circuit boards are green?\\n\\nIn articl...     12   \n",
       "11  Re: UART needed (really BREAK detect)\\n\\nIn ar...     12   \n",
       "12  Re: feverfew for migraines\\n\\nBrenda Bowden ()...     13   \n",
       "13  fever blisters\\n\\nCause and cures for fever bl...     13   \n",
       "14  Re: ASTRONAUTS---What does weightlessness feel...     14   \n",
       "15  Deployable Space Dock..\\n\\nIdea for repair of ...     14   \n",
       "\n",
       "            Class Name               Prediction  \n",
       "0            rec.autos            rec.autos.bmw  \n",
       "1            rec.autos         rec.autos.makers  \n",
       "2      rec.motorcycles          rec.motorcycles  \n",
       "3      rec.motorcycles          rec.motorcycles  \n",
       "4   rec.sport.baseball       rec.sport.baseball  \n",
       "5   rec.sport.baseball       rec.sport.baseball  \n",
       "6     rec.sport.hockey         rec.sport.hockey  \n",
       "7     rec.sport.hockey         rec.sport.hockey  \n",
       "8            sci.crypt                  (error)  \n",
       "9            sci.crypt     alt.politics.clinton  \n",
       "10     sci.electronics  comp.electronics.design  \n",
       "11     sci.electronics       comp.arch.embedded  \n",
       "12             sci.med     alt.support.migraine  \n",
       "13             sci.med                  (error)  \n",
       "14           sci.space                sci.space  \n",
       "15           sci.space                sci.space  "
      ]
     },
     "execution_count": 16,
     "metadata": {},
     "output_type": "execute_result"
    }
   ],
   "source": [
    "df_baseline_eval"
   ]
  },
  {
   "cell_type": "markdown",
   "id": "9f12dd73",
   "metadata": {
    "id": "Ok7ugrLzcghX",
    "papermill": {
     "duration": 0.011267,
     "end_time": "2024-11-14T11:35:30.127898",
     "exception": false,
     "start_time": "2024-11-14T11:35:30.116631",
     "status": "completed"
    },
    "tags": []
   },
   "source": [
    "## Tune a custom model\n",
    "\n",
    "In this example you'll use tuning to help create a model that requires no prompting or system instructions and outputs succinct text from the classes you provide in the training data.\n",
    "\n",
    "The data contains both input text (the processed posts) and output text (the category, or newsgroup), which you can use to start tuning a model.\n",
    "\n",
    "The Python SDK for tuning supports Pandas dataframes as input, so you don't need any custom data generators or pipelines. Just specify the input and the relevant columns as the `input_key` and `output_key`.\n",
    "\n",
    "When calling `create_tuned_model`, you can specify model tuning hyperparameters too:\n",
    " - `epoch_count`: defines how many times to loop through the data,\n",
    " - `batch_size`: defines how many rows to process in a single step, and\n",
    " - `learning_rate`: defines the scaling factor for updating model weights at each step.\n",
    "\n",
    "You can also choose to omit them and use the defaults. [Learn more](https://developers.google.com/machine-learning/crash-course/linear-regression/hyperparameters) about these parameters and how they work. For this example these parameters were selected by running some tuning jobs and selecting parameters that were both effective and quick."
   ]
  },
  {
   "cell_type": "code",
   "execution_count": 17,
   "id": "da1273c6",
   "metadata": {
    "execution": {
     "iopub.execute_input": "2024-11-14T11:35:30.152354Z",
     "iopub.status.busy": "2024-11-14T11:35:30.151948Z",
     "iopub.status.idle": "2024-11-14T11:35:32.306075Z",
     "shell.execute_reply": "2024-11-14T11:35:32.304987Z"
    },
    "id": "pWOZlspfY8dV",
    "papermill": {
     "duration": 2.169096,
     "end_time": "2024-11-14T11:35:32.308332",
     "exception": false,
     "start_time": "2024-11-14T11:35:30.139236",
     "status": "completed"
    },
    "tags": []
   },
   "outputs": [
    {
     "name": "stdout",
     "output_type": "stream",
     "text": [
      "newsgroup-classifier-78454\n"
     ]
    }
   ],
   "source": [
    "from collections.abc import Iterable\n",
    "import random\n",
    "\n",
    "\n",
    "# Append a random number to the model ID so you can re-run with a higher chance\n",
    "# of creating a unique model ID.\n",
    "model_id = f\"newsgroup-classifier-{random.randint(10000, 99999)}\"\n",
    "\n",
    "# Upload the training data and queue the tuning job.\n",
    "tuning_op = genai.create_tuned_model(\n",
    "    \"models/gemini-1.5-flash-001-tuning\",\n",
    "    training_data=df_train,\n",
    "    input_key=\"Text\",  # the column to use as input\n",
    "    output_key=\"Class Name\",  # the column to use as output\n",
    "    id=model_id,\n",
    "    display_name=\"Newsgroup classification model\",\n",
    "    batch_size=16,\n",
    "    epoch_count=2,\n",
    ")\n",
    "\n",
    "print(model_id)"
   ]
  },
  {
   "cell_type": "markdown",
   "id": "8078f2a8",
   "metadata": {
    "id": "NQ3YZ2MBubCY",
    "papermill": {
     "duration": 0.010873,
     "end_time": "2024-11-14T11:35:32.330527",
     "exception": false,
     "start_time": "2024-11-14T11:35:32.319654",
     "status": "completed"
    },
    "tags": []
   },
   "source": [
    "This has created a tuning job that will run in the background. To inspect the progress of the tuning job, run this cell to plot the current status and loss curve. Once the status reaches `ACTIVE`, tuning is complete and the model is ready to use.\n",
    "\n",
    "Tuning jobs are queued, so it may look like no training steps have been taken initially but it will progress. Tuning can take upwards of 20 minutes, depending on factors like your dataset size and how busy the tuning infrastrature is. Why not treat yourself to a nice cup of tea while you wait, or come and say \"Hi!\" to [yours truly](https://discord.com/users/132124213132787712) in the group [Discord](https://discord.com/invite/kaggle).\n",
    "\n",
    "It is safe to stop this cell at any point. It will not stop the tuning job."
   ]
  },
  {
   "cell_type": "code",
   "execution_count": 18,
   "id": "5a18ad69",
   "metadata": {
    "execution": {
     "iopub.execute_input": "2024-11-14T11:35:32.355074Z",
     "iopub.status.busy": "2024-11-14T11:35:32.354634Z",
     "iopub.status.idle": "2024-11-14T13:11:09.781925Z",
     "shell.execute_reply": "2024-11-14T13:11:09.780701Z"
    },
    "id": "c4ef5f13692d",
    "papermill": {
     "duration": 5737.459518,
     "end_time": "2024-11-14T13:11:09.801316",
     "exception": false,
     "start_time": "2024-11-14T11:35:32.341798",
     "status": "completed"
    },
    "tags": []
   },
   "outputs": [
    {
     "name": "stdout",
     "output_type": "stream",
     "text": [
      "State.CREATING\n",
      "State.CREATING\n",
      "State.CREATING\n",
      "State.CREATING\n",
      "State.CREATING\n",
      "State.CREATING\n",
      "State.CREATING\n",
      "State.CREATING\n",
      "State.CREATING\n",
      "State.CREATING\n",
      "State.CREATING\n",
      "State.CREATING\n",
      "State.CREATING\n",
      "State.CREATING\n",
      "State.CREATING\n",
      "State.CREATING\n",
      "State.CREATING\n",
      "State.CREATING\n",
      "State.CREATING\n",
      "State.CREATING\n",
      "State.CREATING\n",
      "State.CREATING\n",
      "State.CREATING\n",
      "State.CREATING\n",
      "State.CREATING\n",
      "State.CREATING\n",
      "State.CREATING\n",
      "State.CREATING\n",
      "State.CREATING\n",
      "State.CREATING\n",
      "State.CREATING\n",
      "State.CREATING\n",
      "State.CREATING\n",
      "State.CREATING\n",
      "State.CREATING\n",
      "State.CREATING\n",
      "State.CREATING\n",
      "State.CREATING\n",
      "State.CREATING\n",
      "State.CREATING\n",
      "State.CREATING\n",
      "State.CREATING\n",
      "State.CREATING\n",
      "State.CREATING\n",
      "State.CREATING\n",
      "State.CREATING\n",
      "State.CREATING\n",
      "State.CREATING\n",
      "State.CREATING\n",
      "State.CREATING\n",
      "State.CREATING\n",
      "State.CREATING\n",
      "State.CREATING\n",
      "State.CREATING\n",
      "State.CREATING\n",
      "State.CREATING\n",
      "State.CREATING\n",
      "State.CREATING\n",
      "State.CREATING\n",
      "State.CREATING\n",
      "State.CREATING\n",
      "State.CREATING\n",
      "State.CREATING\n",
      "State.CREATING\n",
      "State.CREATING\n",
      "State.CREATING\n",
      "State.CREATING\n",
      "State.CREATING\n",
      "State.CREATING\n",
      "State.CREATING\n",
      "State.CREATING\n",
      "State.CREATING\n",
      "State.CREATING\n",
      "State.CREATING\n",
      "State.CREATING\n",
      "State.CREATING\n",
      "State.CREATING\n",
      "State.CREATING\n",
      "State.CREATING\n",
      "State.CREATING\n",
      "State.CREATING\n",
      "State.CREATING\n",
      "State.CREATING\n",
      "State.CREATING\n",
      "State.CREATING\n",
      "State.CREATING\n",
      "State.CREATING\n",
      "State.CREATING\n",
      "State.CREATING\n",
      "State.CREATING\n"
     ]
    },
    {
     "name": "stderr",
     "output_type": "stream",
     "text": [
      "/opt/conda/lib/python3.10/site-packages/seaborn/_oldcore.py:1119: FutureWarning: use_inf_as_na option is deprecated and will be removed in a future version. Convert inf values to NaN before operating instead.\n",
      "  with pd.option_context('mode.use_inf_as_na', True):\n",
      "/opt/conda/lib/python3.10/site-packages/seaborn/_oldcore.py:1119: FutureWarning: use_inf_as_na option is deprecated and will be removed in a future version. Convert inf values to NaN before operating instead.\n",
      "  with pd.option_context('mode.use_inf_as_na', True):\n"
     ]
    },
    {
     "name": "stdout",
     "output_type": "stream",
     "text": [
      "State.CREATING\n"
     ]
    },
    {
     "name": "stderr",
     "output_type": "stream",
     "text": [
      "/opt/conda/lib/python3.10/site-packages/seaborn/_oldcore.py:1119: FutureWarning: use_inf_as_na option is deprecated and will be removed in a future version. Convert inf values to NaN before operating instead.\n",
      "  with pd.option_context('mode.use_inf_as_na', True):\n",
      "/opt/conda/lib/python3.10/site-packages/seaborn/_oldcore.py:1119: FutureWarning: use_inf_as_na option is deprecated and will be removed in a future version. Convert inf values to NaN before operating instead.\n",
      "  with pd.option_context('mode.use_inf_as_na', True):\n"
     ]
    },
    {
     "name": "stdout",
     "output_type": "stream",
     "text": [
      "State.CREATING\n"
     ]
    },
    {
     "name": "stderr",
     "output_type": "stream",
     "text": [
      "/opt/conda/lib/python3.10/site-packages/seaborn/_oldcore.py:1119: FutureWarning: use_inf_as_na option is deprecated and will be removed in a future version. Convert inf values to NaN before operating instead.\n",
      "  with pd.option_context('mode.use_inf_as_na', True):\n",
      "/opt/conda/lib/python3.10/site-packages/seaborn/_oldcore.py:1119: FutureWarning: use_inf_as_na option is deprecated and will be removed in a future version. Convert inf values to NaN before operating instead.\n",
      "  with pd.option_context('mode.use_inf_as_na', True):\n"
     ]
    },
    {
     "name": "stdout",
     "output_type": "stream",
     "text": [
      "State.CREATING\n"
     ]
    },
    {
     "name": "stderr",
     "output_type": "stream",
     "text": [
      "/opt/conda/lib/python3.10/site-packages/seaborn/_oldcore.py:1119: FutureWarning: use_inf_as_na option is deprecated and will be removed in a future version. Convert inf values to NaN before operating instead.\n",
      "  with pd.option_context('mode.use_inf_as_na', True):\n",
      "/opt/conda/lib/python3.10/site-packages/seaborn/_oldcore.py:1119: FutureWarning: use_inf_as_na option is deprecated and will be removed in a future version. Convert inf values to NaN before operating instead.\n",
      "  with pd.option_context('mode.use_inf_as_na', True):\n"
     ]
    },
    {
     "name": "stdout",
     "output_type": "stream",
     "text": [
      "State.CREATING\n"
     ]
    },
    {
     "name": "stderr",
     "output_type": "stream",
     "text": [
      "/opt/conda/lib/python3.10/site-packages/seaborn/_oldcore.py:1119: FutureWarning: use_inf_as_na option is deprecated and will be removed in a future version. Convert inf values to NaN before operating instead.\n",
      "  with pd.option_context('mode.use_inf_as_na', True):\n",
      "/opt/conda/lib/python3.10/site-packages/seaborn/_oldcore.py:1119: FutureWarning: use_inf_as_na option is deprecated and will be removed in a future version. Convert inf values to NaN before operating instead.\n",
      "  with pd.option_context('mode.use_inf_as_na', True):\n"
     ]
    },
    {
     "name": "stdout",
     "output_type": "stream",
     "text": [
      "State.CREATING\n",
      "Done! The model is ACTIVE\n"
     ]
    },
    {
     "data": {
      "image/png": "[encoded data removed]",
      "text/plain": [
       "<Figure size 640x480 with 1 Axes>"
      ]
     },
     "metadata": {},
     "output_type": "display_data"
    }
   ],
   "source": [
    "import time\n",
    "import seaborn as sns\n",
    "\n",
    "\n",
    "while (tuned_model := genai.get_tuned_model(f\"tunedModels/{model_id}\")).state.name != 'ACTIVE':\n",
    "\n",
    "    if tuned_model.tuning_task.snapshots:\n",
    "        # If the tuning task has started, this will draw the loss so far.\n",
    "        snapshots = pd.DataFrame(tuned_model.tuning_task.snapshots)\n",
    "        sns.lineplot(data=snapshots, x=\"step\", y=\"mean_loss\")\n",
    "\n",
    "    print(tuned_model.state)\n",
    "\n",
    "    time.sleep(60)\n",
    "\n",
    "print(f\"Done! The model is {tuned_model.state.name}\")"
   ]
  },
  {
   "cell_type": "markdown",
   "id": "6fbae8b3",
   "metadata": {
    "id": "9-qiIdK4u80z",
    "papermill": {
     "duration": 0.018091,
     "end_time": "2024-11-14T13:11:09.838500",
     "exception": false,
     "start_time": "2024-11-14T13:11:09.820409",
     "status": "completed"
    },
    "tags": []
   },
   "source": [
    "## Use the new model\n",
    "\n",
    "Now that you have a tuned model, try it out with custom data. You use the same API as a normal Gemini API interaction, but you specify your new model as the model name, using the `tunedModels/` prefix."
   ]
  },
  {
   "cell_type": "code",
   "execution_count": 19,
   "id": "16fa68c1",
   "metadata": {
    "execution": {
     "iopub.execute_input": "2024-11-14T13:11:09.878339Z",
     "iopub.status.busy": "2024-11-14T13:11:09.876816Z",
     "iopub.status.idle": "2024-11-14T13:11:17.553072Z",
     "shell.execute_reply": "2024-11-14T13:11:17.551814Z"
    },
    "id": "hyO2-MXLvM6a",
    "papermill": {
     "duration": 7.69853,
     "end_time": "2024-11-14T13:11:17.555514",
     "exception": false,
     "start_time": "2024-11-14T13:11:09.856984",
     "status": "completed"
    },
    "tags": []
   },
   "outputs": [
    {
     "name": "stdout",
     "output_type": "stream",
     "text": [
      "sci.space\n"
     ]
    }
   ],
   "source": [
    "your_model = genai.GenerativeModel(f\"tunedModels/{model_id}\")\n",
    "\n",
    "new_text = \"\"\"\n",
    "First-timer looking to get out of here.\n",
    "\n",
    "Hi, I'm writing about my interest in travelling to the outer limits!\n",
    "\n",
    "What kind of craft can I buy? What is easiest to access from this 3rd rock?\n",
    "\n",
    "Let me know how to do that please.\n",
    "\"\"\"\n",
    "\n",
    "response = your_model.generate_content(new_text)\n",
    "print(response.text)"
   ]
  },
  {
   "cell_type": "markdown",
   "id": "bfcddae5",
   "metadata": {
    "id": "xajLek9DySH_",
    "papermill": {
     "duration": 0.018688,
     "end_time": "2024-11-14T13:11:17.592927",
     "exception": false,
     "start_time": "2024-11-14T13:11:17.574239",
     "status": "completed"
    },
    "tags": []
   },
   "source": [
    "### Evaluation\n",
    "\n",
    "You can see that the model outputs labels that correspond to those in the training data, and without any system instructions or prompting, which is already a great improvement. Now see how well it performs on the test set.\n",
    "\n",
    "Note that there is no parallelism in this example; classifying the test sub-set will take a few minutes."
   ]
  },
  {
   "cell_type": "code",
   "execution_count": 20,
   "id": "0ef2795a",
   "metadata": {
    "execution": {
     "iopub.execute_input": "2024-11-14T13:11:17.631916Z",
     "iopub.status.busy": "2024-11-14T13:11:17.631037Z",
     "iopub.status.idle": "2024-11-14T13:12:26.924078Z",
     "shell.execute_reply": "2024-11-14T13:12:26.922689Z"
    },
    "id": "6T2Y3ZApvbMw",
    "papermill": {
     "duration": 69.31599,
     "end_time": "2024-11-14T13:12:26.927023",
     "exception": false,
     "start_time": "2024-11-14T13:11:17.611033",
     "status": "completed"
    },
    "tags": []
   },
   "outputs": [
    {
     "data": {
      "application/vnd.jupyter.widget-view+json": {
       "model_id": "b23c6ea313634b678c6b1feff5fea960",
       "version_major": 2,
       "version_minor": 0
      },
      "text/plain": [
       "Output()"
      ]
     },
     "metadata": {},
     "output_type": "display_data"
    },
    {
     "name": "stderr",
     "output_type": "stream",
     "text": [
      "/opt/conda/lib/python3.10/site-packages/tqdm/std.py:885: TqdmExperimentalWarning: rich is experimental/alpha\n",
      "  t = cls(total=total, **tqdm_kwargs)\n"
     ]
    },
    {
     "data": {
      "text/html": [
       "<pre style=\"white-space:pre;overflow-x:auto;line-height:normal;font-family:Menlo,'DejaVu Sans Mono',consolas,'Courier New',monospace\"></pre>\n"
      ],
      "text/plain": []
     },
     "metadata": {},
     "output_type": "display_data"
    },
    {
     "data": {
      "text/html": [
       "<pre style=\"white-space:pre;overflow-x:auto;line-height:normal;font-family:Menlo,'DejaVu Sans Mono',consolas,'Courier New',monospace\">\n",
       "</pre>\n"
      ],
      "text/plain": [
       "\n"
      ]
     },
     "metadata": {},
     "output_type": "display_data"
    },
    {
     "name": "stdout",
     "output_type": "stream",
     "text": [
      "Accuracy: 93.75%\n"
     ]
    }
   ],
   "source": [
    "def classify_text(text: str) -> str:\n",
    "    \"\"\"Classify the provided text into a known newsgroup.\"\"\"\n",
    "    response = your_model.generate_content(text, request_options=retry_policy)\n",
    "    rc = response.candidates[0]\n",
    "\n",
    "    # Any errors, filters, recitation, etc we can mark as a general error\n",
    "    if rc.finish_reason.name != \"STOP\":\n",
    "        return \"(error)\"\n",
    "    else:\n",
    "        return rc.content.parts[0].text\n",
    "\n",
    "\n",
    "# The sampling here is just to minimise your quota usage. If you can, you should\n",
    "# evaluate the whole test set with `df_model_eval = df_test.copy()`.\n",
    "df_model_eval = sample_data(df_test, 4, '.*')\n",
    "\n",
    "\n",
    "df_model_eval[\"Prediction\"] = df_model_eval[\"Text\"].progress_apply(classify_text)\n",
    "\n",
    "accuracy = (df_model_eval[\"Class Name\"] == df_model_eval[\"Prediction\"]).sum() / len(df_model_eval)\n",
    "print(f\"Accuracy: {accuracy:.2%}\")"
   ]
  },
  {
   "cell_type": "markdown",
   "id": "5b6c5742",
   "metadata": {
    "papermill": {
     "duration": 0.02538,
     "end_time": "2024-11-14T13:12:26.978614",
     "exception": false,
     "start_time": "2024-11-14T13:12:26.953234",
     "status": "completed"
    },
    "tags": []
   },
   "source": [
    "## Compare token usage\n",
    "\n",
    "AI Studio and the Gemini API provide model tuning at no cost, however normal limits and charges apply for *use* of a tuned model.\n",
    "\n",
    "The size of the input prompt and other generation config like system instructions, as well as the number of generated output tokens, all contribute to the overall cost of a request."
   ]
  },
  {
   "cell_type": "code",
   "execution_count": 21,
   "id": "fc37af3d",
   "metadata": {
    "execution": {
     "iopub.execute_input": "2024-11-14T13:12:29.108321Z",
     "iopub.status.busy": "2024-11-14T13:12:29.108013Z",
     "iopub.status.idle": "2024-11-14T13:12:29.714520Z",
     "shell.execute_reply": "2024-11-14T13:12:29.713170Z"
    },
    "papermill": {
     "duration": 2.713843,
     "end_time": "2024-11-14T13:12:29.717283",
     "exception": false,
     "start_time": "2024-11-14T13:12:27.003440",
     "status": "completed"
    },
    "tags": []
   },
   "outputs": [
    {
     "name": "stdout",
     "output_type": "stream",
     "text": [
      "System instructed baseline model: 171 (input)\n",
      "Tuned model: 135 (input)\n",
      "Token savings: 26.67%\n"
     ]
    }
   ],
   "source": [
    "# Calculate the *input* cost of the baseline model with system instructions.\n",
    "sysint_tokens = instructed_model.count_tokens(sample_row).total_tokens\n",
    "print(f'System instructed baseline model: {sysint_tokens} (input)')\n",
    "\n",
    "# Calculate the input cost of the tuned model.\n",
    "tuned_tokens = your_model.count_tokens(sample_row).total_tokens\n",
    "print(f'Tuned model: {tuned_tokens} (input)')\n",
    "\n",
    "savings = (sysint_tokens - tuned_tokens) / tuned_tokens\n",
    "print(f'Token savings: {savings:.2%}')  # Note that this is only n=1."
   ]
  },
  {
   "cell_type": "markdown",
   "id": "e72ef6e1",
   "metadata": {
    "papermill": {
     "duration": 0.019113,
     "end_time": "2024-11-14T13:12:29.755838",
     "exception": false,
     "start_time": "2024-11-14T13:12:29.736725",
     "status": "completed"
    },
    "tags": []
   },
   "source": [
    "The earlier verbose model also produced more output tokens than needed for this task."
   ]
  },
  {
   "cell_type": "code",
   "execution_count": 22,
   "id": "18262771",
   "metadata": {
    "execution": {
     "iopub.execute_input": "2024-11-14T13:12:29.796055Z",
     "iopub.status.busy": "2024-11-14T13:12:29.795565Z",
     "iopub.status.idle": "2024-11-14T13:12:30.840031Z",
     "shell.execute_reply": "2024-11-14T13:12:30.838689Z"
    },
    "papermill": {
     "duration": 1.067606,
     "end_time": "2024-11-14T13:12:30.842662",
     "exception": false,
     "start_time": "2024-11-14T13:12:29.775056",
     "status": "completed"
    },
    "tags": []
   },
   "outputs": [
    {
     "name": "stdout",
     "output_type": "stream",
     "text": [
      "Baseline (verbose) output tokens: 204\n",
      "Tuned output tokens: 3\n"
     ]
    }
   ],
   "source": [
    "baseline_token_output = baseline_response.usage_metadata.candidates_token_count\n",
    "print('Baseline (verbose) output tokens:', baseline_token_output)\n",
    "\n",
    "tuned_model_output = your_model.generate_content(sample_row)\n",
    "tuned_tokens_output = tuned_model_output.usage_metadata.candidates_token_count\n",
    "print('Tuned output tokens:', tuned_tokens_output)"
   ]
  },
  {
   "cell_type": "markdown",
   "id": "4ffbd25b",
   "metadata": {
    "id": "6c1204a5d0ab",
    "papermill": {
     "duration": 0.019571,
     "end_time": "2024-11-14T13:12:30.881964",
     "exception": false,
     "start_time": "2024-11-14T13:12:30.862393",
     "status": "completed"
    },
    "tags": []
   },
   "source": [
    "## Next steps\n",
    "\n",
    "Now that you have tuned a classification model, try some other tasks, like tuning a model to respond with a specific tone or style using hand-written examples (or even generated examples!). Kaggle hosts [a number of datasets](https://www.kaggle.com/datasets) you can try out.\n",
    "\n",
    "Learn about [when supervised fine-tuning is most effective](https://cloud.google.com/blog/products/ai-machine-learning/supervised-fine-tuning-for-gemini-llm).\n",
    "\n",
    "And check out the [fine-tuning tutorial](https://ai.google.dev/gemini-api/docs/model-tuning/tutorial?hl=en&lang=python) for another example that shows a tuned model extending beyond the training data to new, unseen inputs."
   ]
  }
 ],
 "metadata": {
  "colab": {
   "name": "day-4-fine-tuning-a-custom-model.ipynb",
   "toc_visible": true
  },
  "kaggle": {
   "accelerator": "none",
   "dataSources": [],
   "dockerImageVersionId": 30786,
   "isGpuEnabled": false,
   "isInternetEnabled": true,
   "language": "python",
   "sourceType": "notebook"
  },
  "kernelspec": {
   "display_name": "Python 3",
   "language": "python",
   "name": "python3"
  },
  "language_info": {
   "codemirror_mode": {
    "name": "ipython",
    "version": 3
   },
   "file_extension": ".py",
   "mimetype": "text/x-python",
   "name": "python",
   "nbconvert_exporter": "python",
   "pygments_lexer": "ipython3",
   "version": "3.10.14"
  },
  "papermill": {
   "default_parameters": {},
   "duration": 5960.740302,
   "end_time": "2024-11-14T13:12:31.925312",
   "environment_variables": {},
   "exception": null,
   "input_path": "__notebook__.ipynb",
   "output_path": "__notebook__.ipynb",
   "parameters": {},
   "start_time": "2024-11-14T11:33:11.185010",
   "version": "2.6.0"
  },
  "widgets": {
   "application/vnd.jupyter.widget-state+json": {
    "state": {
     "a1cfac4ec06a427dad50933a2450fbf2": {
      "model_module": "@jupyter-widgets/base",
      "model_module_version": "1.2.0",
      "model_name": "LayoutModel",
      "state": {
       "_model_module": "@jupyter-widgets/base",
       "_model_module_version": "1.2.0",
       "_model_name": "LayoutModel",
       "_view_count": null,
       "_view_module": "@jupyter-widgets/base",
       "_view_module_version": "1.2.0",
       "_view_name": "LayoutView",
       "align_content": null,
       "align_items": null,
       "align_self": null,
       "border": null,
       "bottom": null,
       "display": null,
       "flex": null,
       "flex_flow": null,
       "grid_area": null,
       "grid_auto_columns": null,
       "grid_auto_flow": null,
       "grid_auto_rows": null,
       "grid_column": null,
       "grid_gap": null,
       "grid_row": null,
       "grid_template_areas": null,
       "grid_template_columns": null,
       "grid_template_rows": null,
       "height": null,
       "justify_content": null,
       "justify_items": null,
       "left": null,
       "margin": null,
       "max_height": null,
       "max_width": null,
       "min_height": null,
       "min_width": null,
       "object_fit": null,
       "object_position": null,
       "order": null,
       "overflow": null,
       "overflow_x": null,
       "overflow_y": null,
       "padding": null,
       "right": null,
       "top": null,
       "visibility": null,
       "width": null
      }
     },
     "b23c6ea313634b678c6b1feff5fea960": {
      "model_module": "@jupyter-widgets/output",
      "model_module_version": "1.0.0",
      "model_name": "OutputModel",
      "state": {
       "_dom_classes": [],
       "_model_module": "@jupyter-widgets/output",
       "_model_module_version": "1.0.0",
       "_model_name": "OutputModel",
       "_view_count": null,
       "_view_module": "@jupyter-widgets/output",
       "_view_module_version": "1.0.0",
       "_view_name": "OutputView",
       "layout": "IPY_MODEL_c4da2792b59149079357a5ed1034dc11",
       "msg_id": "",
       "outputs": [
        {
         "data": {
          "text/html": "<pre style=\"white-space:pre;overflow-x:auto;line-height:normal;font-family:Menlo,'DejaVu Sans Mono',consolas,'Courier New',monospace\"><span style=\"color: #800080; text-decoration-color: #800080\"> 100%</span> <span style=\"color: #729c1f; text-decoration-color: #729c1f\">━━━━━━━━━━━━━━━━━━━━━━━━━━━━━━━━━━━━━━━━━━━━━━━━━━━━━━━━━━━━━━━━━━━━━━━</span> <span style=\"color: #008000; text-decoration-color: #008000\">32/32 </span> [ <span style=\"color: #808000; text-decoration-color: #808000\">0:01:08</span> &lt; <span style=\"color: #008080; text-decoration-color: #008080\">0:00:00</span> , <span style=\"color: #800000; text-decoration-color: #800000\">1 it/s</span> ]\n</pre>\n",
          "text/plain": "\u001b[35m 100%\u001b[0m \u001b[38;2;114;156;31m━━━━━━━━━━━━━━━━━━━━━━━━━━━━━━━━━━━━━━━━━━━━━━━━━━━━━━━━━━━━━━━━━━━━━━━\u001b[0m \u001b[32m32/32 \u001b[0m [ \u001b[33m0:01:08\u001b[0m < \u001b[36m0:00:00\u001b[0m , \u001b[31m1 it/s\u001b[0m ]\n"
         },
         "metadata": {},
         "output_type": "display_data"
        }
       ]
      }
     },
     "c4da2792b59149079357a5ed1034dc11": {
      "model_module": "@jupyter-widgets/base",
      "model_module_version": "1.2.0",
      "model_name": "LayoutModel",
      "state": {
       "_model_module": "@jupyter-widgets/base",
       "_model_module_version": "1.2.0",
       "_model_name": "LayoutModel",
       "_view_count": null,
       "_view_module": "@jupyter-widgets/base",
       "_view_module_version": "1.2.0",
       "_view_name": "LayoutView",
       "align_content": null,
       "align_items": null,
       "align_self": null,
       "border": null,
       "bottom": null,
       "display": null,
       "flex": null,
       "flex_flow": null,
       "grid_area": null,
       "grid_auto_columns": null,
       "grid_auto_flow": null,
       "grid_auto_rows": null,
       "grid_column": null,
       "grid_gap": null,
       "grid_row": null,
       "grid_template_areas": null,
       "grid_template_columns": null,
       "grid_template_rows": null,
       "height": null,
       "justify_content": null,
       "justify_items": null,
       "left": null,
       "margin": null,
       "max_height": null,
       "max_width": null,
       "min_height": null,
       "min_width": null,
       "object_fit": null,
       "object_position": null,
       "order": null,
       "overflow": null,
       "overflow_x": null,
       "overflow_y": null,
       "padding": null,
       "right": null,
       "top": null,
       "visibility": null,
       "width": null
      }
     },
     "db155538ea9b484585d78fe5988b24ca": {
      "model_module": "@jupyter-widgets/output",
      "model_module_version": "1.0.0",
      "model_name": "OutputModel",
      "state": {
       "_dom_classes": [],
       "_model_module": "@jupyter-widgets/output",
       "_model_module_version": "1.0.0",
       "_model_name": "OutputModel",
       "_view_count": null,
       "_view_module": "@jupyter-widgets/output",
       "_view_module_version": "1.0.0",
       "_view_name": "OutputView",
       "layout": "IPY_MODEL_a1cfac4ec06a427dad50933a2450fbf2",
       "msg_id": "",
       "outputs": [
        {
         "data": {
          "text/html": "<pre style=\"white-space:pre;overflow-x:auto;line-height:normal;font-family:Menlo,'DejaVu Sans Mono',consolas,'Courier New',monospace\"><span style=\"color: #800080; text-decoration-color: #800080\"> 100%</span> <span style=\"color: #729c1f; text-decoration-color: #729c1f\">━━━━━━━━━━━━━━━━━━━━━━━━━━━━━━━━━━━━━━━━━━━━━━━━━━━━━━━━━━━━━━━━━━━━━━━</span> <span style=\"color: #008000; text-decoration-color: #008000\">16/16 </span> [ <span style=\"color: #808000; text-decoration-color: #808000\">0:00:09</span> &lt; <span style=\"color: #008080; text-decoration-color: #008080\">0:00:00</span> , <span style=\"color: #800000; text-decoration-color: #800000\">2 it/s</span> ]\n</pre>\n",
          "text/plain": "\u001b[35m 100%\u001b[0m \u001b[38;2;114;156;31m━━━━━━━━━━━━━━━━━━━━━━━━━━━━━━━━━━━━━━━━━━━━━━━━━━━━━━━━━━━━━━━━━━━━━━━\u001b[0m \u001b[32m16/16 \u001b[0m [ \u001b[33m0:00:09\u001b[0m < \u001b[36m0:00:00\u001b[0m , \u001b[31m2 it/s\u001b[0m ]\n"
         },
         "metadata": {},
         "output_type": "display_data"
        }
       ]
      }
     }
    },
    "version_major": 2,
    "version_minor": 0
   }
  }
 },
 "nbformat": 4,
 "nbformat_minor": 5
}

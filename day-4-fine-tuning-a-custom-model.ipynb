{
 "cells": [
  {
   "cell_type": "markdown",
   "id": "aef39614",
   "metadata": {
    "id": "b6e13eef3f5d",
    "papermill": {
     "duration": 0.017455,
     "end_time": "2024-11-14T09:44:51.702668",
     "exception": false,
     "start_time": "2024-11-14T09:44:51.685213",
     "status": "completed"
    },
    "tags": []
   },
   "source": [
    "##### Copyright 2024 Google LLC."
   ]
  },
  {
   "cell_type": "code",
   "execution_count": 1,
   "id": "77cfc688",
   "metadata": {
    "cellView": "form",
    "execution": {
     "iopub.execute_input": "2024-11-14T09:44:51.728695Z",
     "iopub.status.busy": "2024-11-14T09:44:51.727687Z",
     "iopub.status.idle": "2024-11-14T09:44:51.734081Z",
     "shell.execute_reply": "2024-11-14T09:44:51.732979Z"
    },
    "id": "d6597b11df14",
    "papermill": {
     "duration": 0.021985,
     "end_time": "2024-11-14T09:44:51.736566",
     "exception": false,
     "start_time": "2024-11-14T09:44:51.714581",
     "status": "completed"
    },
    "tags": []
   },
   "outputs": [],
   "source": [
    "# @title Licensed under the Apache License, Version 2.0 (the \"License\");\n",
    "# you may not use this file except in compliance with the License.\n",
    "# You may obtain a copy of the License at\n",
    "#\n",
    "# https://www.apache.org/licenses/LICENSE-2.0\n",
    "#\n",
    "# Unless required by applicable law or agreed to in writing, software\n",
    "# distributed under the License is distributed on an \"AS IS\" BASIS,\n",
    "# WITHOUT WARRANTIES OR CONDITIONS OF ANY KIND, either express or implied.\n",
    "# See the License for the specific language governing permissions and\n",
    "# limitations under the License."
   ]
  },
  {
   "cell_type": "markdown",
   "id": "e28a56c4",
   "metadata": {
    "id": "4KDIFPAL2EnL",
    "papermill": {
     "duration": 0.011316,
     "end_time": "2024-11-14T09:44:51.759606",
     "exception": false,
     "start_time": "2024-11-14T09:44:51.748290",
     "status": "completed"
    },
    "tags": []
   },
   "source": [
    "# Day 4 - Fine tuning a custom model\n",
    "\n",
    "Welcome back to the Kaggle 5-day Generative AI course!\n",
    "\n",
    "In this notebook you will use the Gemini API to fine-tune a custom, task-specific model. Fine-tuning can be used for a variety of tasks from classic NLP problems like entity extraction or summarisation, to creative tasks like stylised generation. You will fine-tune a model to classify the category a piece of text (a newsgroup post) into the category it belongs to (the newsgroup name).\n",
    "\n",
    "This codelab walks you tuning a model with the API. [AI Studio](https://aistudio.google.com/app/tune) also supports creating new tuned models directly in the web UI, allowing you to quickly create and monitor models using data from Google Sheets, Drive or your own files."
   ]
  },
  {
   "cell_type": "code",
   "execution_count": 2,
   "id": "3babc72c",
   "metadata": {
    "execution": {
     "iopub.execute_input": "2024-11-14T09:44:51.784445Z",
     "iopub.status.busy": "2024-11-14T09:44:51.783986Z",
     "iopub.status.idle": "2024-11-14T09:45:21.060118Z",
     "shell.execute_reply": "2024-11-14T09:45:21.058450Z"
    },
    "id": "9wafTyEH1_xF",
    "papermill": {
     "duration": 29.291704,
     "end_time": "2024-11-14T09:45:21.062943",
     "exception": false,
     "start_time": "2024-11-14T09:44:51.771239",
     "status": "completed"
    },
    "tags": []
   },
   "outputs": [
    {
     "name": "stdout",
     "output_type": "stream",
     "text": [
      "Note: you may need to restart the kernel to use updated packages.\n"
     ]
    }
   ],
   "source": [
    "%pip install -U -q 'google-generativeai>=0.8.3'"
   ]
  },
  {
   "cell_type": "markdown",
   "id": "03485702",
   "metadata": {
    "papermill": {
     "duration": 0.011611,
     "end_time": "2024-11-14T09:45:21.087554",
     "exception": false,
     "start_time": "2024-11-14T09:45:21.075943",
     "status": "completed"
    },
    "tags": []
   },
   "source": [
    "Note that you do not have to restart the kernel."
   ]
  },
  {
   "cell_type": "code",
   "execution_count": 3,
   "id": "2f7b8c59",
   "metadata": {
    "execution": {
     "iopub.execute_input": "2024-11-14T09:45:21.113790Z",
     "iopub.status.busy": "2024-11-14T09:45:21.113331Z",
     "iopub.status.idle": "2024-11-14T09:45:22.244706Z",
     "shell.execute_reply": "2024-11-14T09:45:22.243546Z"
    },
    "id": "T0CBG9xL2PvT",
    "papermill": {
     "duration": 1.147538,
     "end_time": "2024-11-14T09:45:22.247492",
     "exception": false,
     "start_time": "2024-11-14T09:45:21.099954",
     "status": "completed"
    },
    "tags": []
   },
   "outputs": [],
   "source": [
    "import google.generativeai as genai"
   ]
  },
  {
   "cell_type": "markdown",
   "id": "ba8ab563",
   "metadata": {
    "id": "P4bYX2T72ScK",
    "papermill": {
     "duration": 0.011424,
     "end_time": "2024-11-14T09:45:22.271137",
     "exception": false,
     "start_time": "2024-11-14T09:45:22.259713",
     "status": "completed"
    },
    "tags": []
   },
   "source": [
    "### Set up your API key\n",
    "\n",
    "To run the following cell, your API key must be stored it in a [Kaggle secret](https://www.kaggle.com/discussions/product-feedback/114053) named `GOOGLE_API_KEY`.\n",
    "\n",
    "If you don't already have an API key, you can grab one from [AI Studio](https://aistudio.google.com/app/apikey). You can find [detailed instructions in the docs](https://ai.google.dev/gemini-api/docs/api-key).\n",
    "\n",
    "To make the key available through Kaggle secrets, choose `Secrets` from the `Add-ons` menu and follow the instructions to add your key or enable it for this notebook."
   ]
  },
  {
   "cell_type": "code",
   "execution_count": 4,
   "id": "b1a0ac93",
   "metadata": {
    "execution": {
     "iopub.execute_input": "2024-11-14T09:45:22.297360Z",
     "iopub.status.busy": "2024-11-14T09:45:22.295971Z",
     "iopub.status.idle": "2024-11-14T09:45:22.462827Z",
     "shell.execute_reply": "2024-11-14T09:45:22.461650Z"
    },
    "id": "VuJPY3GK2SLZ",
    "papermill": {
     "duration": 0.182572,
     "end_time": "2024-11-14T09:45:22.465562",
     "exception": false,
     "start_time": "2024-11-14T09:45:22.282990",
     "status": "completed"
    },
    "tags": []
   },
   "outputs": [],
   "source": [
    "from kaggle_secrets import UserSecretsClient\n",
    "\n",
    "GOOGLE_API_KEY = UserSecretsClient().get_secret(\"GOOGLE_API_KEY\")\n",
    "genai.configure(api_key=GOOGLE_API_KEY)"
   ]
  },
  {
   "attachments": {
    "53e1d527-de81-497e-bfac-58df458e750b.png": {
     "image/png": "[encoded data removed]"
    }
   },
   "cell_type": "markdown",
   "id": "d92bf4ca",
   "metadata": {
    "id": "25b2127c2052",
    "papermill": {
     "duration": 0.011527,
     "end_time": "2024-11-14T09:45:22.489241",
     "exception": false,
     "start_time": "2024-11-14T09:45:22.477714",
     "status": "completed"
    },
    "tags": []
   },
   "source": [
    "If you received an error response along the lines of `No user secrets exist for kernel id ...`, then you need to add your API key via `Add-ons`, `Secrets` **and** enable it.\n",
    "\n",
    "![Screenshot of the checkbox to enable GOOGLE_API_KEY secret](https://storage.googleapis.com/kaggle-media/Images/5gdai_sc_3.png)"
   ]
  },
  {
   "cell_type": "markdown",
   "id": "ac5c8d97",
   "metadata": {
    "id": "CqVA5QFO6n4z",
    "papermill": {
     "duration": 0.011683,
     "end_time": "2024-11-14T09:45:22.512992",
     "exception": false,
     "start_time": "2024-11-14T09:45:22.501309",
     "status": "completed"
    },
    "tags": []
   },
   "source": [
    "### Explore available models\n",
    "\n",
    "You will be using the [`TunedModel.create`](https://ai.google.dev/api/tuning#method:-tunedmodels.create) API method to start the fine-tuning job and create your custom model. Find a model that supports it through the [`models.list`](https://ai.google.dev/api/models#method:-models.list) endpoint. You can also find more information about tuning models in [the model tuning docs](https://ai.google.dev/gemini-api/docs/model-tuning/tutorial?lang=python)."
   ]
  },
  {
   "cell_type": "code",
   "execution_count": 5,
   "id": "2266a3ce",
   "metadata": {
    "execution": {
     "iopub.execute_input": "2024-11-14T09:45:22.538437Z",
     "iopub.status.busy": "2024-11-14T09:45:22.537998Z",
     "iopub.status.idle": "2024-11-14T09:45:22.743541Z",
     "shell.execute_reply": "2024-11-14T09:45:22.742309Z"
    },
    "id": "coEacWAB6o0G",
    "papermill": {
     "duration": 0.221289,
     "end_time": "2024-11-14T09:45:22.746171",
     "exception": false,
     "start_time": "2024-11-14T09:45:22.524882",
     "status": "completed"
    },
    "tags": []
   },
   "outputs": [
    {
     "name": "stdout",
     "output_type": "stream",
     "text": [
      "models/gemini-1.0-pro-001\n",
      "models/gemini-1.5-flash-001-tuning\n"
     ]
    }
   ],
   "source": [
    "for model in genai.list_models():\n",
    "    if \"createTunedModel\" in model.supported_generation_methods:\n",
    "        print(model.name)"
   ]
  },
  {
   "cell_type": "markdown",
   "id": "50834961",
   "metadata": {
    "id": "peFm0w_0c1CO",
    "papermill": {
     "duration": 0.011605,
     "end_time": "2024-11-14T09:45:22.770114",
     "exception": false,
     "start_time": "2024-11-14T09:45:22.758509",
     "status": "completed"
    },
    "tags": []
   },
   "source": [
    "## Download the dataset\n",
    "\n",
    "In this activity, you will use the same newsgroups dataset that you used to train a classifier in Keras. In this example you will use a fine-tuned Gemini model to achieve the same goal.\n",
    "\n",
    "The [20 Newsgroups Text Dataset](https://scikit-learn.org/0.19/datasets/twenty_newsgroups.html) contains 18,000 newsgroups posts on 20 topics divided into training and test sets."
   ]
  },
  {
   "cell_type": "code",
   "execution_count": 6,
   "id": "1f30dcfe",
   "metadata": {
    "execution": {
     "iopub.execute_input": "2024-11-14T09:45:22.796194Z",
     "iopub.status.busy": "2024-11-14T09:45:22.795724Z",
     "iopub.status.idle": "2024-11-14T09:45:36.659281Z",
     "shell.execute_reply": "2024-11-14T09:45:36.658147Z"
    },
    "id": "bX_kpgnQ9b-Z",
    "papermill": {
     "duration": 13.87926,
     "end_time": "2024-11-14T09:45:36.661587",
     "exception": false,
     "start_time": "2024-11-14T09:45:22.782327",
     "status": "completed"
    },
    "tags": []
   },
   "outputs": [
    {
     "data": {
      "text/plain": [
       "['alt.atheism',\n",
       " 'comp.graphics',\n",
       " 'comp.os.ms-windows.misc',\n",
       " 'comp.sys.ibm.pc.hardware',\n",
       " 'comp.sys.mac.hardware',\n",
       " 'comp.windows.x',\n",
       " 'misc.forsale',\n",
       " 'rec.autos',\n",
       " 'rec.motorcycles',\n",
       " 'rec.sport.baseball',\n",
       " 'rec.sport.hockey',\n",
       " 'sci.crypt',\n",
       " 'sci.electronics',\n",
       " 'sci.med',\n",
       " 'sci.space',\n",
       " 'soc.religion.christian',\n",
       " 'talk.politics.guns',\n",
       " 'talk.politics.mideast',\n",
       " 'talk.politics.misc',\n",
       " 'talk.religion.misc']"
      ]
     },
     "execution_count": 6,
     "metadata": {},
     "output_type": "execute_result"
    }
   ],
   "source": [
    "from sklearn.datasets import fetch_20newsgroups\n",
    "\n",
    "newsgroups_train = fetch_20newsgroups(subset=\"train\")\n",
    "newsgroups_test = fetch_20newsgroups(subset=\"test\")\n",
    "\n",
    "# View list of class names for dataset\n",
    "newsgroups_train.target_names"
   ]
  },
  {
   "cell_type": "markdown",
   "id": "77dc0861",
   "metadata": {
    "id": "ipafe6ptZFjt",
    "papermill": {
     "duration": 0.011903,
     "end_time": "2024-11-14T09:45:36.685916",
     "exception": false,
     "start_time": "2024-11-14T09:45:36.674013",
     "status": "completed"
    },
    "tags": []
   },
   "source": [
    "Here's what a single row looks like."
   ]
  },
  {
   "cell_type": "code",
   "execution_count": 7,
   "id": "ecc32a7c",
   "metadata": {
    "execution": {
     "iopub.execute_input": "2024-11-14T09:45:36.712456Z",
     "iopub.status.busy": "2024-11-14T09:45:36.711637Z",
     "iopub.status.idle": "2024-11-14T09:45:36.717439Z",
     "shell.execute_reply": "2024-11-14T09:45:36.716400Z"
    },
    "id": "EtEXcdT39hCB",
    "papermill": {
     "duration": 0.021621,
     "end_time": "2024-11-14T09:45:36.719890",
     "exception": false,
     "start_time": "2024-11-14T09:45:36.698269",
     "status": "completed"
    },
    "tags": []
   },
   "outputs": [
    {
     "name": "stdout",
     "output_type": "stream",
     "text": [
      "From: lerxst@wam.umd.edu (where's my thing)\n",
      "Subject: WHAT car is this!?\n",
      "Nntp-Posting-Host: rac3.wam.umd.edu\n",
      "Organization: University of Maryland, College Park\n",
      "Lines: 15\n",
      "\n",
      " I was wondering if anyone out there could enlighten me on this car I saw\n",
      "the other day. It was a 2-door sports car, looked to be from the late 60s/\n",
      "early 70s. It was called a Bricklin. The doors were really small. In addition,\n",
      "the front bumper was separate from the rest of the body. This is \n",
      "all I know. If anyone can tellme a model name, engine specs, years\n",
      "of production, where this car is made, history, or whatever info you\n",
      "have on this funky looking car, please e-mail.\n",
      "\n",
      "Thanks,\n",
      "- IL\n",
      "   ---- brought to you by your neighborhood Lerxst ----\n",
      "\n",
      "\n",
      "\n",
      "\n",
      "\n"
     ]
    }
   ],
   "source": [
    "print(newsgroups_train.data[0])"
   ]
  },
  {
   "cell_type": "markdown",
   "id": "a2ab4058",
   "metadata": {
    "id": "03lDs1O4ZQ0-",
    "papermill": {
     "duration": 0.011938,
     "end_time": "2024-11-14T09:45:36.744293",
     "exception": false,
     "start_time": "2024-11-14T09:45:36.732355",
     "status": "completed"
    },
    "tags": []
   },
   "source": [
    "## Prepare the dataset\n",
    "\n",
    "You'll use the same pre-processing code you used for the custom model on day 2. This pre-processing removes personal information, which can be used to \"shortcut\" to known users of a forum, and formats the text to appear a bit more like regular text and less like a newsgroup post (e.g. by removing the mail headers). This normalisation allows the model to generalise to regular text and not over-depend on specific fields. If your input data is always going to be newsgroup posts, it may be helpful to leave this structure in place if they provide genuine signals."
   ]
  },
  {
   "cell_type": "code",
   "execution_count": 8,
   "id": "46aef9b3",
   "metadata": {
    "execution": {
     "iopub.execute_input": "2024-11-14T09:45:36.770571Z",
     "iopub.status.busy": "2024-11-14T09:45:36.770133Z",
     "iopub.status.idle": "2024-11-14T09:45:37.625142Z",
     "shell.execute_reply": "2024-11-14T09:45:37.623915Z"
    },
    "id": "IoNYTxpoZgB0",
    "papermill": {
     "duration": 0.871514,
     "end_time": "2024-11-14T09:45:37.628130",
     "exception": false,
     "start_time": "2024-11-14T09:45:36.756616",
     "status": "completed"
    },
    "tags": []
   },
   "outputs": [],
   "source": [
    "import email\n",
    "import re\n",
    "\n",
    "import pandas as pd\n",
    "\n",
    "\n",
    "def preprocess_newsgroup_row(data):\n",
    "    # Extract only the subject and body\n",
    "    msg = email.message_from_string(data)\n",
    "    text = f\"{msg['Subject']}\\n\\n{msg.get_payload()}\"\n",
    "    # Strip any remaining email addresses\n",
    "    text = re.sub(r\"[\\w\\.-]+@[\\w\\.-]+\", \"\", text)\n",
    "    # Truncate the text to fit within the input limits\n",
    "    text = text[:40000]\n",
    "\n",
    "    return text\n",
    "\n",
    "\n",
    "def preprocess_newsgroup_data(newsgroup_dataset):\n",
    "    # Put data points into dataframe\n",
    "    df = pd.DataFrame(\n",
    "        {\"Text\": newsgroup_dataset.data, \"Label\": newsgroup_dataset.target}\n",
    "    )\n",
    "    # Clean up the text\n",
    "    df[\"Text\"] = df[\"Text\"].apply(preprocess_newsgroup_row)\n",
    "    # Match label to target name index\n",
    "    df[\"Class Name\"] = df[\"Label\"].map(lambda l: newsgroup_dataset.target_names[l])\n",
    "\n",
    "    return df"
   ]
  },
  {
   "cell_type": "code",
   "execution_count": 9,
   "id": "06e2974f",
   "metadata": {
    "execution": {
     "iopub.execute_input": "2024-11-14T09:45:37.656461Z",
     "iopub.status.busy": "2024-11-14T09:45:37.655200Z",
     "iopub.status.idle": "2024-11-14T09:45:44.323331Z",
     "shell.execute_reply": "2024-11-14T09:45:44.322192Z"
    },
    "id": "kvOsUSRWaW4g",
    "papermill": {
     "duration": 6.68484,
     "end_time": "2024-11-14T09:45:44.326069",
     "exception": false,
     "start_time": "2024-11-14T09:45:37.641229",
     "status": "completed"
    },
    "tags": []
   },
   "outputs": [
    {
     "data": {
      "text/html": [
       "<div>\n",
       "<style scoped>\n",
       "    .dataframe tbody tr th:only-of-type {\n",
       "        vertical-align: middle;\n",
       "    }\n",
       "\n",
       "    .dataframe tbody tr th {\n",
       "        vertical-align: top;\n",
       "    }\n",
       "\n",
       "    .dataframe thead th {\n",
       "        text-align: right;\n",
       "    }\n",
       "</style>\n",
       "<table border=\"1\" class=\"dataframe\">\n",
       "  <thead>\n",
       "    <tr style=\"text-align: right;\">\n",
       "      <th></th>\n",
       "      <th>Text</th>\n",
       "      <th>Label</th>\n",
       "      <th>Class Name</th>\n",
       "    </tr>\n",
       "  </thead>\n",
       "  <tbody>\n",
       "    <tr>\n",
       "      <th>0</th>\n",
       "      <td>WHAT car is this!?\\n\\n I was wondering if anyo...</td>\n",
       "      <td>7</td>\n",
       "      <td>rec.autos</td>\n",
       "    </tr>\n",
       "    <tr>\n",
       "      <th>1</th>\n",
       "      <td>SI Clock Poll - Final Call\\n\\nA fair number of...</td>\n",
       "      <td>4</td>\n",
       "      <td>comp.sys.mac.hardware</td>\n",
       "    </tr>\n",
       "    <tr>\n",
       "      <th>2</th>\n",
       "      <td>PB questions...\\n\\nwell folks, my mac plus fin...</td>\n",
       "      <td>4</td>\n",
       "      <td>comp.sys.mac.hardware</td>\n",
       "    </tr>\n",
       "    <tr>\n",
       "      <th>3</th>\n",
       "      <td>Re: Weitek P9000 ?\\n\\nRobert J.C. Kyanko () wr...</td>\n",
       "      <td>1</td>\n",
       "      <td>comp.graphics</td>\n",
       "    </tr>\n",
       "    <tr>\n",
       "      <th>4</th>\n",
       "      <td>Re: Shuttle Launch Question\\n\\nFrom article &lt;&gt;...</td>\n",
       "      <td>14</td>\n",
       "      <td>sci.space</td>\n",
       "    </tr>\n",
       "  </tbody>\n",
       "</table>\n",
       "</div>"
      ],
      "text/plain": [
       "                                                Text  Label  \\\n",
       "0  WHAT car is this!?\\n\\n I was wondering if anyo...      7   \n",
       "1  SI Clock Poll - Final Call\\n\\nA fair number of...      4   \n",
       "2  PB questions...\\n\\nwell folks, my mac plus fin...      4   \n",
       "3  Re: Weitek P9000 ?\\n\\nRobert J.C. Kyanko () wr...      1   \n",
       "4  Re: Shuttle Launch Question\\n\\nFrom article <>...     14   \n",
       "\n",
       "              Class Name  \n",
       "0              rec.autos  \n",
       "1  comp.sys.mac.hardware  \n",
       "2  comp.sys.mac.hardware  \n",
       "3          comp.graphics  \n",
       "4              sci.space  "
      ]
     },
     "execution_count": 9,
     "metadata": {},
     "output_type": "execute_result"
    }
   ],
   "source": [
    "# Apply preprocessing to training and test datasets\n",
    "df_train = preprocess_newsgroup_data(newsgroups_train)\n",
    "df_test = preprocess_newsgroup_data(newsgroups_test)\n",
    "\n",
    "df_train.head()"
   ]
  },
  {
   "cell_type": "markdown",
   "id": "40925d17",
   "metadata": {
    "id": "XSKcj5WtadaR",
    "papermill": {
     "duration": 0.01261,
     "end_time": "2024-11-14T09:45:44.351688",
     "exception": false,
     "start_time": "2024-11-14T09:45:44.339078",
     "status": "completed"
    },
    "tags": []
   },
   "source": [
    "Now sample the data. You will keep 50 rows for each category for training. Note that this is even fewer than the Keras example, as this technique (parameter-efficient fine-tuning, or PEFT) updates a relatively small number of parameters and does not require training a new model or updating the large model."
   ]
  },
  {
   "cell_type": "code",
   "execution_count": 10,
   "id": "6256d990",
   "metadata": {
    "execution": {
     "iopub.execute_input": "2024-11-14T09:45:44.380668Z",
     "iopub.status.busy": "2024-11-14T09:45:44.380227Z",
     "iopub.status.idle": "2024-11-14T09:45:44.432613Z",
     "shell.execute_reply": "2024-11-14T09:45:44.431348Z"
    },
    "id": "0t9Xu6X5akkt",
    "papermill": {
     "duration": 0.070805,
     "end_time": "2024-11-14T09:45:44.435826",
     "exception": false,
     "start_time": "2024-11-14T09:45:44.365021",
     "status": "completed"
    },
    "tags": []
   },
   "outputs": [],
   "source": [
    "def sample_data(df, num_samples, classes_to_keep):\n",
    "    # Sample rows, selecting num_samples of each Label.\n",
    "    df = (\n",
    "        df.groupby(\"Label\")[df.columns]\n",
    "        .apply(lambda x: x.sample(num_samples))\n",
    "        .reset_index(drop=True)\n",
    "    )\n",
    "\n",
    "    df = df[df[\"Class Name\"].str.contains(classes_to_keep)]\n",
    "    df[\"Class Name\"] = df[\"Class Name\"].astype(\"category\")\n",
    "\n",
    "    return df\n",
    "\n",
    "\n",
    "TRAIN_NUM_SAMPLES = 50\n",
    "TEST_NUM_SAMPLES = 10\n",
    "# Keep rec.* and sci.*\n",
    "CLASSES_TO_KEEP = \"^rec|^sci\"\n",
    "\n",
    "df_train = sample_data(df_train, TRAIN_NUM_SAMPLES, CLASSES_TO_KEEP)\n",
    "df_test = sample_data(df_test, TEST_NUM_SAMPLES, CLASSES_TO_KEEP)"
   ]
  },
  {
   "cell_type": "markdown",
   "id": "2934674f",
   "metadata": {
    "papermill": {
     "duration": 0.012727,
     "end_time": "2024-11-14T09:45:44.461799",
     "exception": false,
     "start_time": "2024-11-14T09:45:44.449072",
     "status": "completed"
    },
    "tags": []
   },
   "source": [
    "## Evaluate baseline performance\n",
    "\n",
    "Before you start tuning a model, it's good practice to perform an evaluation on the available models to ensure you can measure how much the tuning helps.\n",
    "\n",
    "First identify a single sample row to use for visual inspection."
   ]
  },
  {
   "cell_type": "code",
   "execution_count": 11,
   "id": "2970a51d",
   "metadata": {
    "execution": {
     "iopub.execute_input": "2024-11-14T09:45:44.489750Z",
     "iopub.status.busy": "2024-11-14T09:45:44.489269Z",
     "iopub.status.idle": "2024-11-14T09:45:44.496984Z",
     "shell.execute_reply": "2024-11-14T09:45:44.495872Z"
    },
    "papermill": {
     "duration": 0.024928,
     "end_time": "2024-11-14T09:45:44.499908",
     "exception": false,
     "start_time": "2024-11-14T09:45:44.474980",
     "status": "completed"
    },
    "tags": []
   },
   "outputs": [
    {
     "name": "stdout",
     "output_type": "stream",
     "text": [
      "Need info on 88-89 Bonneville\n",
      "\n",
      "\n",
      " I am a little confused on all of the models of the 88-89 bonnevilles.\n",
      "I have heard of the LE SE LSE SSE SSEI. Could someone tell me the\n",
      "differences are far as features or performance. I am also curious to\n",
      "know what the book value is for prefereably the 89 model. And how much\n",
      "less than book value can you usually get them for. In other words how\n",
      "much are they in demand this time of year. I have heard that the mid-spring\n",
      "early summer is the best time to buy.\n",
      "\n",
      "\t\t\tNeil Gandler\n",
      "\n",
      "---\n",
      "Label: rec.autos\n"
     ]
    }
   ],
   "source": [
    "sample_idx = 0\n",
    "sample_row = preprocess_newsgroup_row(newsgroups_test.data[sample_idx])\n",
    "sample_label = newsgroups_test.target_names[newsgroups_test.target[sample_idx]]\n",
    "\n",
    "print(sample_row)\n",
    "print('---')\n",
    "print('Label:', sample_label)"
   ]
  },
  {
   "cell_type": "markdown",
   "id": "56b0e983",
   "metadata": {
    "papermill": {
     "duration": 0.012965,
     "end_time": "2024-11-14T09:45:44.526253",
     "exception": false,
     "start_time": "2024-11-14T09:45:44.513288",
     "status": "completed"
    },
    "tags": []
   },
   "source": [
    "Passing the text directly in as a prompt does not yield the desired results. The model will attempt to respond to the message."
   ]
  },
  {
   "cell_type": "code",
   "execution_count": 12,
   "id": "6716336c",
   "metadata": {
    "execution": {
     "iopub.execute_input": "2024-11-14T09:45:44.555152Z",
     "iopub.status.busy": "2024-11-14T09:45:44.554107Z",
     "iopub.status.idle": "2024-11-14T09:45:48.340747Z",
     "shell.execute_reply": "2024-11-14T09:45:48.339614Z"
    },
    "papermill": {
     "duration": 3.803916,
     "end_time": "2024-11-14T09:45:48.343558",
     "exception": false,
     "start_time": "2024-11-14T09:45:44.539642",
     "status": "completed"
    },
    "tags": []
   },
   "outputs": [
    {
     "name": "stdout",
     "output_type": "stream",
     "text": [
      "You're right, the 1988-89 Bonneville lineup was a bit confusing! Here's a breakdown of the different models, their features, and some insights on value:\n",
      "\n",
      "**1988-1989 Pontiac Bonneville Models:**\n",
      "\n",
      "* **Base Bonneville:** This was the most basic model, offering a comfortable ride with standard features like power steering, brakes, and a 3.8L V6 engine. It wasn't particularly luxurious or sporty.\n",
      "* **LE (Luxury Edition):** The LE added some luxury touches like plusher interiors, better sound systems, and maybe some additional convenience features like cruise control.\n",
      "* **SE (Sport Edition):** The SE focused on sporty handling and a slightly more aggressive appearance. It might have included a firmer suspension, different wheels, and possibly a more powerful engine option (the 3.8L V6 with a higher horsepower output).\n",
      "* **LSE (Luxury Sport Edition):** This model combined the features of both LE and SE, offering a blend of luxury and sportiness. \n",
      "* **SSE (Sport Sedan Edition):** The SSE was the top-of-the-line model, focused on performance. It featured a more powerful 3.8L V6 (sometimes referred to as a \"3800\" engine), a firmer suspension, unique styling cues, and possibly some interior upgrades.  \n",
      "* **SSEi (Sport Sedan Edition with Injection):** The SSEi was very similar to the SSE but usually featured a tuned version of the 3800 engine with more power and better fuel economy.\n",
      "\n",
      "**Value and Demand:**\n",
      "\n",
      "Unfortunately, providing exact book values or estimations of how much less you can get is difficult without knowing the specific model, condition, mileage, and location. You can use resources like Kelley Blue Book, Edmunds, or NADAguides to get an idea of a car's value.  \n",
      "\n",
      "* **Demand:**  The demand for 1988-89 Bonnevilles, particularly the standard models, is generally low. These cars are now considered classics, but they aren't as sought-after as other Pontiac models like the Firebird or Trans Am. However, well-maintained SSE or SSEi models, especially in excellent condition, can still command some value among enthusiasts.\n",
      "\n",
      "**Buying Tips:**\n",
      "\n",
      "* **Mid-Spring/Early Summer:** You're right, this is typically a good time to buy a used car as dealerships often offer deals to clear inventory.\n",
      "* **Condition is Key:** The most important factor in determining the value of a used car is its condition. Look for a car with a clean history, low mileage, and no signs of major repairs or rust.\n",
      "* **Negotiate:** Always negotiate the price with the seller.  You can use the resources mentioned above to get a good starting point for negotiations.\n",
      "* **Get a Pre-Purchase Inspection:** Have a trusted mechanic inspect the car before you buy it. This can help you avoid potential problems down the road.\n",
      "\n",
      "**Remember:** Be patient and do your research before purchasing a car.  Finding a good deal on a used car can be a rewarding experience, but it takes time and effort.\n",
      "\n"
     ]
    }
   ],
   "source": [
    "baseline_model = genai.GenerativeModel(\"gemini-1.5-flash-001\")\n",
    "response = baseline_model.generate_content(sample_row)\n",
    "print(response.text)"
   ]
  },
  {
   "cell_type": "markdown",
   "id": "784f28f8",
   "metadata": {
    "papermill": {
     "duration": 0.012923,
     "end_time": "2024-11-14T09:45:48.369745",
     "exception": false,
     "start_time": "2024-11-14T09:45:48.356822",
     "status": "completed"
    },
    "tags": []
   },
   "source": [
    "You can use the prompt engineering techniques you have learned this week to induce the model to perform the desired task. Try some of your own ideas and see what is effective, or check out the following cells for different approaches. Note that they have different levels of effectiveness!"
   ]
  },
  {
   "cell_type": "code",
   "execution_count": 13,
   "id": "a8b01d99",
   "metadata": {
    "execution": {
     "iopub.execute_input": "2024-11-14T09:45:48.398198Z",
     "iopub.status.busy": "2024-11-14T09:45:48.397739Z",
     "iopub.status.idle": "2024-11-14T09:45:49.426020Z",
     "shell.execute_reply": "2024-11-14T09:45:49.424986Z"
    },
    "papermill": {
     "duration": 1.045454,
     "end_time": "2024-11-14T09:45:49.428654",
     "exception": false,
     "start_time": "2024-11-14T09:45:48.383200",
     "status": "completed"
    },
    "tags": []
   },
   "outputs": [
    {
     "name": "stdout",
     "output_type": "stream",
     "text": [
      "The message likely originates from the **rec.autos.buick** newsgroup. \n",
      "\n",
      "**Accuracy Score:** 90%\n",
      "\n",
      "**Reasoning:**\n",
      "\n",
      "* The message focuses on a specific Buick model (Bonneville) and its variants. \n",
      "* The message mentions \"book value\" and \"demand,\" suggesting a discussion about buying and selling cars.\n",
      "* The newsgroup rec.autos.buick is specifically dedicated to Buick vehicles, making it the most likely source for this type of information. \n",
      "\n",
      "**Note:** While it's highly likely the message originated from this newsgroup, there's a slight chance it could be from a more general automotive newsgroup like rec.autos. \n",
      "\n"
     ]
    }
   ],
   "source": [
    "# Ask the model directly in a zero-shot prompt.\n",
    "\n",
    "prompt = \"From what newsgroup does the following message originate? and apply a accuracy score for your prediction\"\n",
    "baseline_response = baseline_model.generate_content([prompt, sample_row])\n",
    "print(baseline_response.text)"
   ]
  },
  {
   "cell_type": "markdown",
   "id": "377744b5",
   "metadata": {
    "papermill": {
     "duration": 0.013696,
     "end_time": "2024-11-14T09:45:49.456071",
     "exception": false,
     "start_time": "2024-11-14T09:45:49.442375",
     "status": "completed"
    },
    "tags": []
   },
   "source": [
    "That technique produces quite a verbose response. You could try and pick out the relevant text, or refine the prompt even further."
   ]
  },
  {
   "cell_type": "code",
   "execution_count": 14,
   "id": "9007cb20",
   "metadata": {
    "execution": {
     "iopub.execute_input": "2024-11-14T09:45:49.485066Z",
     "iopub.status.busy": "2024-11-14T09:45:49.484649Z",
     "iopub.status.idle": "2024-11-14T09:45:50.086630Z",
     "shell.execute_reply": "2024-11-14T09:45:50.085521Z"
    },
    "papermill": {
     "duration": 0.619523,
     "end_time": "2024-11-14T09:45:50.089318",
     "exception": false,
     "start_time": "2024-11-14T09:45:49.469795",
     "status": "completed"
    },
    "tags": []
   },
   "outputs": [
    {
     "name": "stdout",
     "output_type": "stream",
     "text": [
      "rec.autos.misc\n",
      "\n",
      "Incorrect.\n"
     ]
    }
   ],
   "source": [
    "from google.api_core import retry\n",
    "\n",
    "# You can use a system instruction to do more direct prompting, and get a\n",
    "# more succinct answer.\n",
    "\n",
    "system_instruct = \"\"\"\n",
    "You are a classification service. You will be passed input that represents\n",
    "a newsgroup post and you must respond with the newsgroup from which the post\n",
    "originates.\n",
    "\"\"\"\n",
    "\n",
    "instructed_model = genai.GenerativeModel(\"gemini-1.5-flash-001\",\n",
    "                                         system_instruction=system_instruct)\n",
    "\n",
    "retry_policy = {\"retry\": retry.Retry(predicate=retry.if_transient_error)}\n",
    "\n",
    "# If you want to evaluate your own technique, replace this function with your\n",
    "# model, prompt and other code and return the predicted answer.\n",
    "def predict_label(post: str) -> str:\n",
    "    response = instructed_model.generate_content(post, request_options=retry_policy)\n",
    "    rc = response.candidates[0]\n",
    "\n",
    "    # Any errors, filters, recitation, etc we can mark as a general error\n",
    "    if rc.finish_reason.name != \"STOP\":\n",
    "        return \"(error)\"\n",
    "    else:\n",
    "        # Clean up the response.\n",
    "        return response.text.strip()\n",
    "\n",
    "\n",
    "prediction = predict_label(sample_row)\n",
    "\n",
    "print(prediction)\n",
    "print()\n",
    "print(\"Correct!\" if prediction == sample_label else \"Incorrect.\")"
   ]
  },
  {
   "cell_type": "markdown",
   "id": "b2abf631",
   "metadata": {
    "papermill": {
     "duration": 0.013331,
     "end_time": "2024-11-14T09:45:50.116504",
     "exception": false,
     "start_time": "2024-11-14T09:45:50.103173",
     "status": "completed"
    },
    "tags": []
   },
   "source": [
    "Now run a short evaluation using the function defined above. The test set is further sampled to ensure the experiment runs smoothly on the API's free tier. In practice you would evaluate over the whole set."
   ]
  },
  {
   "cell_type": "code",
   "execution_count": 15,
   "id": "4fd6d2bf",
   "metadata": {
    "execution": {
     "iopub.execute_input": "2024-11-14T09:45:50.146125Z",
     "iopub.status.busy": "2024-11-14T09:45:50.145685Z",
     "iopub.status.idle": "2024-11-14T09:47:20.988949Z",
     "shell.execute_reply": "2024-11-14T09:47:20.987841Z"
    },
    "papermill": {
     "duration": 90.86087,
     "end_time": "2024-11-14T09:47:20.991285",
     "exception": false,
     "start_time": "2024-11-14T09:45:50.130415",
     "status": "completed"
    },
    "tags": []
   },
   "outputs": [
    {
     "data": {
      "application/vnd.jupyter.widget-view+json": {
       "model_id": "47394192ef3743ff8d7f122d92d0b6d8",
       "version_major": 2,
       "version_minor": 0
      },
      "text/plain": [
       "Output()"
      ]
     },
     "metadata": {},
     "output_type": "display_data"
    },
    {
     "name": "stderr",
     "output_type": "stream",
     "text": [
      "/opt/conda/lib/python3.10/site-packages/tqdm/std.py:885: TqdmExperimentalWarning: rich is experimental/alpha\n",
      "  t = cls(total=total, **tqdm_kwargs)\n"
     ]
    },
    {
     "data": {
      "text/html": [
       "<pre style=\"white-space:pre;overflow-x:auto;line-height:normal;font-family:Menlo,'DejaVu Sans Mono',consolas,'Courier New',monospace\"></pre>\n"
      ],
      "text/plain": []
     },
     "metadata": {},
     "output_type": "display_data"
    },
    {
     "data": {
      "text/html": [
       "<pre style=\"white-space:pre;overflow-x:auto;line-height:normal;font-family:Menlo,'DejaVu Sans Mono',consolas,'Courier New',monospace\">\n",
       "</pre>\n"
      ],
      "text/plain": [
       "\n"
      ]
     },
     "metadata": {},
     "output_type": "display_data"
    },
    {
     "name": "stdout",
     "output_type": "stream",
     "text": [
      "Accuracy: 6.25%\n"
     ]
    }
   ],
   "source": [
    "from tqdm.rich import tqdm\n",
    "\n",
    "tqdm.pandas()\n",
    "\n",
    "\n",
    "# Further sample the test data to be mindful of the free-tier quota.\n",
    "df_baseline_eval = sample_data(df_test, 2, '.*')\n",
    "\n",
    "# Make predictions using the sampled data.\n",
    "df_baseline_eval['Prediction'] = df_baseline_eval['Text'].progress_apply(predict_label)\n",
    "\n",
    "# And calculate the accuracy.\n",
    "accuracy = (df_baseline_eval[\"Class Name\"] == df_baseline_eval[\"Prediction\"]).sum() / len(df_baseline_eval)\n",
    "print(f\"Accuracy: {accuracy:.2%}\")"
   ]
  },
  {
   "cell_type": "markdown",
   "id": "47928b34",
   "metadata": {
    "papermill": {
     "duration": 0.018342,
     "end_time": "2024-11-14T09:47:21.028288",
     "exception": false,
     "start_time": "2024-11-14T09:47:21.009946",
     "status": "completed"
    },
    "tags": []
   },
   "source": [
    "Now take a look at the dataframe to compare the predictions with the labels."
   ]
  },
  {
   "cell_type": "code",
   "execution_count": 16,
   "id": "2325bd4d",
   "metadata": {
    "execution": {
     "iopub.execute_input": "2024-11-14T09:47:23.817254Z",
     "iopub.status.busy": "2024-11-14T09:47:23.816891Z",
     "iopub.status.idle": "2024-11-14T09:47:23.831700Z",
     "shell.execute_reply": "2024-11-14T09:47:23.830607Z"
    },
    "papermill": {
     "duration": 2.789155,
     "end_time": "2024-11-14T09:47:23.834272",
     "exception": false,
     "start_time": "2024-11-14T09:47:21.045117",
     "status": "completed"
    },
    "tags": []
   },
   "outputs": [
    {
     "data": {
      "text/html": [
       "<div>\n",
       "<style scoped>\n",
       "    .dataframe tbody tr th:only-of-type {\n",
       "        vertical-align: middle;\n",
       "    }\n",
       "\n",
       "    .dataframe tbody tr th {\n",
       "        vertical-align: top;\n",
       "    }\n",
       "\n",
       "    .dataframe thead th {\n",
       "        text-align: right;\n",
       "    }\n",
       "</style>\n",
       "<table border=\"1\" class=\"dataframe\">\n",
       "  <thead>\n",
       "    <tr style=\"text-align: right;\">\n",
       "      <th></th>\n",
       "      <th>Text</th>\n",
       "      <th>Label</th>\n",
       "      <th>Class Name</th>\n",
       "      <th>Prediction</th>\n",
       "    </tr>\n",
       "  </thead>\n",
       "  <tbody>\n",
       "    <tr>\n",
       "      <th>0</th>\n",
       "      <td>WANTED: '92 Toyota Previa All-Trac, Low Miles\\...</td>\n",
       "      <td>7</td>\n",
       "      <td>rec.autos</td>\n",
       "      <td>rec.autos.toyota</td>\n",
       "    </tr>\n",
       "    <tr>\n",
       "      <th>1</th>\n",
       "      <td>Re: Improvements in Automatic Transmissions\\n\\...</td>\n",
       "      <td>7</td>\n",
       "      <td>rec.autos</td>\n",
       "      <td>rec.autos.sports-cars</td>\n",
       "    </tr>\n",
       "    <tr>\n",
       "      <th>2</th>\n",
       "      <td>Re: Good Reasons to Wave at each other\\n\\nIn a...</td>\n",
       "      <td>8</td>\n",
       "      <td>rec.motorcycles</td>\n",
       "      <td>(error)</td>\n",
       "    </tr>\n",
       "    <tr>\n",
       "      <th>3</th>\n",
       "      <td>Re: Touring the southwest\\n\\nIn article &lt;&gt;  (K...</td>\n",
       "      <td>8</td>\n",
       "      <td>rec.motorcycles</td>\n",
       "      <td>rec.travel.road</td>\n",
       "    </tr>\n",
       "    <tr>\n",
       "      <th>4</th>\n",
       "      <td>Re: Jack Morris\\n &lt;&gt;\\n &lt;&gt;\\n &lt;&gt;\\n &lt;&gt; &lt;&gt;\\n &lt;&gt;\\n\\...</td>\n",
       "      <td>9</td>\n",
       "      <td>rec.sport.baseball</td>\n",
       "      <td>rec.sports.baseball</td>\n",
       "    </tr>\n",
       "    <tr>\n",
       "      <th>5</th>\n",
       "      <td>Re: Let's play the name game!\\n\\nIn article &lt;&gt;...</td>\n",
       "      <td>9</td>\n",
       "      <td>rec.sport.baseball</td>\n",
       "      <td>rec.sport.baseball</td>\n",
       "    </tr>\n",
       "    <tr>\n",
       "      <th>6</th>\n",
       "      <td>Re: Where are all the Bruins fans???\\n\\nGood p...</td>\n",
       "      <td>10</td>\n",
       "      <td>rec.sport.hockey</td>\n",
       "      <td>alt.hockey.nhl.bruins</td>\n",
       "    </tr>\n",
       "    <tr>\n",
       "      <th>7</th>\n",
       "      <td>Now if ESPN wanted to show a good game...\\n\\n\\...</td>\n",
       "      <td>10</td>\n",
       "      <td>rec.sport.hockey</td>\n",
       "      <td>rec.sports.hockey</td>\n",
       "    </tr>\n",
       "    <tr>\n",
       "      <th>8</th>\n",
       "      <td>Re: political point of attack: Clipper infrast...</td>\n",
       "      <td>11</td>\n",
       "      <td>sci.crypt</td>\n",
       "      <td>(error)</td>\n",
       "    </tr>\n",
       "    <tr>\n",
       "      <th>9</th>\n",
       "      <td>Re: Once they get your keys....\\n\\nIn article ...</td>\n",
       "      <td>11</td>\n",
       "      <td>sci.crypt</td>\n",
       "      <td>(error)</td>\n",
       "    </tr>\n",
       "    <tr>\n",
       "      <th>10</th>\n",
       "      <td>Re: Radar/Laser Detectors\\n\\nIn article &lt;&gt;,  (...</td>\n",
       "      <td>12</td>\n",
       "      <td>sci.electronics</td>\n",
       "      <td>(error)</td>\n",
       "    </tr>\n",
       "    <tr>\n",
       "      <th>11</th>\n",
       "      <td>Re: How to the disks copy protected.\\n\\nI thin...</td>\n",
       "      <td>12</td>\n",
       "      <td>sci.electronics</td>\n",
       "      <td>comp.os.ms-dos.misc</td>\n",
       "    </tr>\n",
       "    <tr>\n",
       "      <th>12</th>\n",
       "      <td>Isolation amplifiers for EEG/ECG *cheap*\\n\\nI ...</td>\n",
       "      <td>13</td>\n",
       "      <td>sci.med</td>\n",
       "      <td>rec.electronics.design</td>\n",
       "    </tr>\n",
       "    <tr>\n",
       "      <th>13</th>\n",
       "      <td>Density of the skull bone\\n\\nCould someone tel...</td>\n",
       "      <td>13</td>\n",
       "      <td>sci.med</td>\n",
       "      <td>sci.med.anatomy</td>\n",
       "    </tr>\n",
       "    <tr>\n",
       "      <th>14</th>\n",
       "      <td>Re: moon image in weather sat image\\n\\nIn arti...</td>\n",
       "      <td>14</td>\n",
       "      <td>sci.space</td>\n",
       "      <td>misc.kids</td>\n",
       "    </tr>\n",
       "    <tr>\n",
       "      <th>15</th>\n",
       "      <td>Re: Teflon (Re: Long term Human Missions\\n\\nIn...</td>\n",
       "      <td>14</td>\n",
       "      <td>sci.space</td>\n",
       "      <td>(error)</td>\n",
       "    </tr>\n",
       "  </tbody>\n",
       "</table>\n",
       "</div>"
      ],
      "text/plain": [
       "                                                 Text  Label  \\\n",
       "0   WANTED: '92 Toyota Previa All-Trac, Low Miles\\...      7   \n",
       "1   Re: Improvements in Automatic Transmissions\\n\\...      7   \n",
       "2   Re: Good Reasons to Wave at each other\\n\\nIn a...      8   \n",
       "3   Re: Touring the southwest\\n\\nIn article <>  (K...      8   \n",
       "4   Re: Jack Morris\\n <>\\n <>\\n <>\\n <> <>\\n <>\\n\\...      9   \n",
       "5   Re: Let's play the name game!\\n\\nIn article <>...      9   \n",
       "6   Re: Where are all the Bruins fans???\\n\\nGood p...     10   \n",
       "7   Now if ESPN wanted to show a good game...\\n\\n\\...     10   \n",
       "8   Re: political point of attack: Clipper infrast...     11   \n",
       "9   Re: Once they get your keys....\\n\\nIn article ...     11   \n",
       "10  Re: Radar/Laser Detectors\\n\\nIn article <>,  (...     12   \n",
       "11  Re: How to the disks copy protected.\\n\\nI thin...     12   \n",
       "12  Isolation amplifiers for EEG/ECG *cheap*\\n\\nI ...     13   \n",
       "13  Density of the skull bone\\n\\nCould someone tel...     13   \n",
       "14  Re: moon image in weather sat image\\n\\nIn arti...     14   \n",
       "15  Re: Teflon (Re: Long term Human Missions\\n\\nIn...     14   \n",
       "\n",
       "            Class Name              Prediction  \n",
       "0            rec.autos        rec.autos.toyota  \n",
       "1            rec.autos   rec.autos.sports-cars  \n",
       "2      rec.motorcycles                 (error)  \n",
       "3      rec.motorcycles         rec.travel.road  \n",
       "4   rec.sport.baseball     rec.sports.baseball  \n",
       "5   rec.sport.baseball      rec.sport.baseball  \n",
       "6     rec.sport.hockey   alt.hockey.nhl.bruins  \n",
       "7     rec.sport.hockey       rec.sports.hockey  \n",
       "8            sci.crypt                 (error)  \n",
       "9            sci.crypt                 (error)  \n",
       "10     sci.electronics                 (error)  \n",
       "11     sci.electronics     comp.os.ms-dos.misc  \n",
       "12             sci.med  rec.electronics.design  \n",
       "13             sci.med         sci.med.anatomy  \n",
       "14           sci.space               misc.kids  \n",
       "15           sci.space                 (error)  "
      ]
     },
     "execution_count": 16,
     "metadata": {},
     "output_type": "execute_result"
    }
   ],
   "source": [
    "df_baseline_eval"
   ]
  },
  {
   "cell_type": "markdown",
   "id": "6ed11a84",
   "metadata": {
    "id": "Ok7ugrLzcghX",
    "papermill": {
     "duration": 0.015096,
     "end_time": "2024-11-14T09:47:23.864785",
     "exception": false,
     "start_time": "2024-11-14T09:47:23.849689",
     "status": "completed"
    },
    "tags": []
   },
   "source": [
    "## Tune a custom model\n",
    "\n",
    "In this example you'll use tuning to help create a model that requires no prompting or system instructions and outputs succinct text from the classes you provide in the training data.\n",
    "\n",
    "The data contains both input text (the processed posts) and output text (the category, or newsgroup), which you can use to start tuning a model.\n",
    "\n",
    "The Python SDK for tuning supports Pandas dataframes as input, so you don't need any custom data generators or pipelines. Just specify the input and the relevant columns as the `input_key` and `output_key`.\n",
    "\n",
    "When calling `create_tuned_model`, you can specify model tuning hyperparameters too:\n",
    " - `epoch_count`: defines how many times to loop through the data,\n",
    " - `batch_size`: defines how many rows to process in a single step, and\n",
    " - `learning_rate`: defines the scaling factor for updating model weights at each step.\n",
    "\n",
    "You can also choose to omit them and use the defaults. [Learn more](https://developers.google.com/machine-learning/crash-course/linear-regression/hyperparameters) about these parameters and how they work. For this example these parameters were selected by running some tuning jobs and selecting parameters that were both effective and quick."
   ]
  },
  {
   "cell_type": "code",
   "execution_count": 17,
   "id": "df46eeb0",
   "metadata": {
    "execution": {
     "iopub.execute_input": "2024-11-14T09:47:23.897983Z",
     "iopub.status.busy": "2024-11-14T09:47:23.897224Z",
     "iopub.status.idle": "2024-11-14T09:47:24.814000Z",
     "shell.execute_reply": "2024-11-14T09:47:24.812725Z"
    },
    "id": "pWOZlspfY8dV",
    "papermill": {
     "duration": 0.935848,
     "end_time": "2024-11-14T09:47:24.816403",
     "exception": false,
     "start_time": "2024-11-14T09:47:23.880555",
     "status": "completed"
    },
    "tags": []
   },
   "outputs": [
    {
     "name": "stdout",
     "output_type": "stream",
     "text": [
      "newsgroup-classifier-77288\n"
     ]
    }
   ],
   "source": [
    "from collections.abc import Iterable\n",
    "import random\n",
    "\n",
    "\n",
    "# Append a random number to the model ID so you can re-run with a higher chance\n",
    "# of creating a unique model ID.\n",
    "model_id = f\"newsgroup-classifier-{random.randint(10000, 99999)}\"\n",
    "\n",
    "# Upload the training data and queue the tuning job.\n",
    "tuning_op = genai.create_tuned_model(\n",
    "    \"models/gemini-1.5-flash-001-tuning\",\n",
    "    training_data=df_train,\n",
    "    input_key=\"Text\",  # the column to use as input\n",
    "    output_key=\"Class Name\",  # the column to use as output\n",
    "    id=model_id,\n",
    "    display_name=\"Newsgroup classification model\",\n",
    "    batch_size=16,\n",
    "    epoch_count=2,\n",
    ")\n",
    "\n",
    "print(model_id)"
   ]
  },
  {
   "cell_type": "markdown",
   "id": "58f547d6",
   "metadata": {
    "id": "NQ3YZ2MBubCY",
    "papermill": {
     "duration": 0.014858,
     "end_time": "2024-11-14T09:47:24.846363",
     "exception": false,
     "start_time": "2024-11-14T09:47:24.831505",
     "status": "completed"
    },
    "tags": []
   },
   "source": [
    "This has created a tuning job that will run in the background. To inspect the progress of the tuning job, run this cell to plot the current status and loss curve. Once the status reaches `ACTIVE`, tuning is complete and the model is ready to use.\n",
    "\n",
    "Tuning jobs are queued, so it may look like no training steps have been taken initially but it will progress. Tuning can take upwards of 20 minutes, depending on factors like your dataset size and how busy the tuning infrastrature is. Why not treat yourself to a nice cup of tea while you wait, or come and say \"Hi!\" to [yours truly](https://discord.com/users/132124213132787712) in the group [Discord](https://discord.com/invite/kaggle).\n",
    "\n",
    "It is safe to stop this cell at any point. It will not stop the tuning job."
   ]
  },
  {
   "cell_type": "code",
   "execution_count": 18,
   "id": "e2f27022",
   "metadata": {
    "execution": {
     "iopub.execute_input": "2024-11-14T09:47:24.879614Z",
     "iopub.status.busy": "2024-11-14T09:47:24.878647Z",
     "iopub.status.idle": "2024-11-14T11:16:49.285401Z",
     "shell.execute_reply": "2024-11-14T11:16:49.284299Z"
    },
    "id": "c4ef5f13692d",
    "papermill": {
     "duration": 5364.44742,
     "end_time": "2024-11-14T11:16:49.309381",
     "exception": false,
     "start_time": "2024-11-14T09:47:24.861961",
     "status": "completed"
    },
    "tags": []
   },
   "outputs": [
    {
     "name": "stdout",
     "output_type": "stream",
     "text": [
      "State.CREATING\n",
      "State.CREATING\n",
      "State.CREATING\n",
      "State.CREATING\n",
      "State.CREATING\n",
      "State.CREATING\n",
      "State.CREATING\n",
      "State.CREATING\n",
      "State.CREATING\n",
      "State.CREATING\n",
      "State.CREATING\n",
      "State.CREATING\n",
      "State.CREATING\n",
      "State.CREATING\n",
      "State.CREATING\n",
      "State.CREATING\n",
      "State.CREATING\n",
      "State.CREATING\n",
      "State.CREATING\n",
      "State.CREATING\n",
      "State.CREATING\n",
      "State.CREATING\n",
      "State.CREATING\n",
      "State.CREATING\n",
      "State.CREATING\n",
      "State.CREATING\n",
      "State.CREATING\n",
      "State.CREATING\n",
      "State.CREATING\n",
      "State.CREATING\n",
      "State.CREATING\n",
      "State.CREATING\n",
      "State.CREATING\n",
      "State.CREATING\n",
      "State.CREATING\n",
      "State.CREATING\n",
      "State.CREATING\n",
      "State.CREATING\n",
      "State.CREATING\n",
      "State.CREATING\n",
      "State.CREATING\n",
      "State.CREATING\n",
      "State.CREATING\n",
      "State.CREATING\n",
      "State.CREATING\n",
      "State.CREATING\n",
      "State.CREATING\n",
      "State.CREATING\n",
      "State.CREATING\n",
      "State.CREATING\n",
      "State.CREATING\n",
      "State.CREATING\n",
      "State.CREATING\n",
      "State.CREATING\n",
      "State.CREATING\n",
      "State.CREATING\n",
      "State.CREATING\n",
      "State.CREATING\n",
      "State.CREATING\n",
      "State.CREATING\n",
      "State.CREATING\n",
      "State.CREATING\n",
      "State.CREATING\n",
      "State.CREATING\n",
      "State.CREATING\n",
      "State.CREATING\n",
      "State.CREATING\n",
      "State.CREATING\n",
      "State.CREATING\n",
      "State.CREATING\n",
      "State.CREATING\n",
      "State.CREATING\n",
      "State.CREATING\n",
      "State.CREATING\n",
      "State.CREATING\n",
      "State.CREATING\n",
      "State.CREATING\n",
      "State.CREATING\n",
      "State.CREATING\n",
      "State.CREATING\n",
      "State.CREATING\n",
      "State.CREATING\n",
      "State.CREATING\n",
      "State.CREATING\n",
      "State.CREATING\n"
     ]
    },
    {
     "name": "stderr",
     "output_type": "stream",
     "text": [
      "/opt/conda/lib/python3.10/site-packages/seaborn/_oldcore.py:1119: FutureWarning: use_inf_as_na option is deprecated and will be removed in a future version. Convert inf values to NaN before operating instead.\n",
      "  with pd.option_context('mode.use_inf_as_na', True):\n",
      "/opt/conda/lib/python3.10/site-packages/seaborn/_oldcore.py:1119: FutureWarning: use_inf_as_na option is deprecated and will be removed in a future version. Convert inf values to NaN before operating instead.\n",
      "  with pd.option_context('mode.use_inf_as_na', True):\n"
     ]
    },
    {
     "name": "stdout",
     "output_type": "stream",
     "text": [
      "State.CREATING\n"
     ]
    },
    {
     "name": "stderr",
     "output_type": "stream",
     "text": [
      "/opt/conda/lib/python3.10/site-packages/seaborn/_oldcore.py:1119: FutureWarning: use_inf_as_na option is deprecated and will be removed in a future version. Convert inf values to NaN before operating instead.\n",
      "  with pd.option_context('mode.use_inf_as_na', True):\n",
      "/opt/conda/lib/python3.10/site-packages/seaborn/_oldcore.py:1119: FutureWarning: use_inf_as_na option is deprecated and will be removed in a future version. Convert inf values to NaN before operating instead.\n",
      "  with pd.option_context('mode.use_inf_as_na', True):\n"
     ]
    },
    {
     "name": "stdout",
     "output_type": "stream",
     "text": [
      "State.CREATING\n"
     ]
    },
    {
     "name": "stderr",
     "output_type": "stream",
     "text": [
      "/opt/conda/lib/python3.10/site-packages/seaborn/_oldcore.py:1119: FutureWarning: use_inf_as_na option is deprecated and will be removed in a future version. Convert inf values to NaN before operating instead.\n",
      "  with pd.option_context('mode.use_inf_as_na', True):\n",
      "/opt/conda/lib/python3.10/site-packages/seaborn/_oldcore.py:1119: FutureWarning: use_inf_as_na option is deprecated and will be removed in a future version. Convert inf values to NaN before operating instead.\n",
      "  with pd.option_context('mode.use_inf_as_na', True):\n"
     ]
    },
    {
     "name": "stdout",
     "output_type": "stream",
     "text": [
      "State.CREATING\n"
     ]
    },
    {
     "name": "stderr",
     "output_type": "stream",
     "text": [
      "/opt/conda/lib/python3.10/site-packages/seaborn/_oldcore.py:1119: FutureWarning: use_inf_as_na option is deprecated and will be removed in a future version. Convert inf values to NaN before operating instead.\n",
      "  with pd.option_context('mode.use_inf_as_na', True):\n",
      "/opt/conda/lib/python3.10/site-packages/seaborn/_oldcore.py:1119: FutureWarning: use_inf_as_na option is deprecated and will be removed in a future version. Convert inf values to NaN before operating instead.\n",
      "  with pd.option_context('mode.use_inf_as_na', True):\n"
     ]
    },
    {
     "name": "stdout",
     "output_type": "stream",
     "text": [
      "State.CREATING\n",
      "Done! The model is ACTIVE\n"
     ]
    },
    {
     "data": {
      "image/png": "[encoded data removed]",
      "text/plain": [
       "<Figure size 640x480 with 1 Axes>"
      ]
     },
     "metadata": {},
     "output_type": "display_data"
    }
   ],
   "source": [
    "import time\n",
    "import seaborn as sns\n",
    "\n",
    "\n",
    "while (tuned_model := genai.get_tuned_model(f\"tunedModels/{model_id}\")).state.name != 'ACTIVE':\n",
    "\n",
    "    if tuned_model.tuning_task.snapshots:\n",
    "        # If the tuning task has started, this will draw the loss so far.\n",
    "        snapshots = pd.DataFrame(tuned_model.tuning_task.snapshots)\n",
    "        sns.lineplot(data=snapshots, x=\"step\", y=\"mean_loss\")\n",
    "\n",
    "    print(tuned_model.state)\n",
    "\n",
    "    time.sleep(60)\n",
    "\n",
    "print(f\"Done! The model is {tuned_model.state.name}\")"
   ]
  },
  {
   "cell_type": "markdown",
   "id": "5ae86508",
   "metadata": {
    "id": "9-qiIdK4u80z",
    "papermill": {
     "duration": 0.023782,
     "end_time": "2024-11-14T11:16:49.357606",
     "exception": false,
     "start_time": "2024-11-14T11:16:49.333824",
     "status": "completed"
    },
    "tags": []
   },
   "source": [
    "## Use the new model\n",
    "\n",
    "Now that you have a tuned model, try it out with custom data. You use the same API as a normal Gemini API interaction, but you specify your new model as the model name, using the `tunedModels/` prefix."
   ]
  },
  {
   "cell_type": "code",
   "execution_count": 19,
   "id": "5a1b1dfc",
   "metadata": {
    "execution": {
     "iopub.execute_input": "2024-11-14T11:16:49.409592Z",
     "iopub.status.busy": "2024-11-14T11:16:49.408908Z",
     "iopub.status.idle": "2024-11-14T11:16:57.549128Z",
     "shell.execute_reply": "2024-11-14T11:16:57.547923Z"
    },
    "id": "hyO2-MXLvM6a",
    "papermill": {
     "duration": 8.169637,
     "end_time": "2024-11-14T11:16:57.551558",
     "exception": false,
     "start_time": "2024-11-14T11:16:49.381921",
     "status": "completed"
    },
    "tags": []
   },
   "outputs": [
    {
     "name": "stdout",
     "output_type": "stream",
     "text": [
      "sci.space\n"
     ]
    }
   ],
   "source": [
    "your_model = genai.GenerativeModel(f\"tunedModels/{model_id}\")\n",
    "\n",
    "new_text = \"\"\"\n",
    "First-timer looking to get out of here.\n",
    "\n",
    "Hi, I'm writing about my interest in travelling to the outer limits!\n",
    "\n",
    "What kind of craft can I buy? What is easiest to access from this 3rd rock?\n",
    "\n",
    "Let me know how to do that please.\n",
    "\"\"\"\n",
    "\n",
    "response = your_model.generate_content(new_text)\n",
    "print(response.text)"
   ]
  },
  {
   "cell_type": "markdown",
   "id": "160d7f2d",
   "metadata": {
    "id": "xajLek9DySH_",
    "papermill": {
     "duration": 0.024028,
     "end_time": "2024-11-14T11:16:57.599838",
     "exception": false,
     "start_time": "2024-11-14T11:16:57.575810",
     "status": "completed"
    },
    "tags": []
   },
   "source": [
    "### Evaluation\n",
    "\n",
    "You can see that the model outputs labels that correspond to those in the training data, and without any system instructions or prompting, which is already a great improvement. Now see how well it performs on the test set.\n",
    "\n",
    "Note that there is no parallelism in this example; classifying the test sub-set will take a few minutes."
   ]
  },
  {
   "cell_type": "code",
   "execution_count": 20,
   "id": "95e64216",
   "metadata": {
    "execution": {
     "iopub.execute_input": "2024-11-14T11:16:57.650889Z",
     "iopub.status.busy": "2024-11-14T11:16:57.650439Z",
     "iopub.status.idle": "2024-11-14T11:18:13.392700Z",
     "shell.execute_reply": "2024-11-14T11:18:13.391666Z"
    },
    "id": "6T2Y3ZApvbMw",
    "papermill": {
     "duration": 75.770927,
     "end_time": "2024-11-14T11:18:13.395736",
     "exception": false,
     "start_time": "2024-11-14T11:16:57.624809",
     "status": "completed"
    },
    "tags": []
   },
   "outputs": [
    {
     "data": {
      "application/vnd.jupyter.widget-view+json": {
       "model_id": "e73bbacc797549d7b64519aa9f64ca93",
       "version_major": 2,
       "version_minor": 0
      },
      "text/plain": [
       "Output()"
      ]
     },
     "metadata": {},
     "output_type": "display_data"
    },
    {
     "name": "stderr",
     "output_type": "stream",
     "text": [
      "/opt/conda/lib/python3.10/site-packages/tqdm/std.py:885: TqdmExperimentalWarning: rich is experimental/alpha\n",
      "  t = cls(total=total, **tqdm_kwargs)\n"
     ]
    },
    {
     "data": {
      "text/html": [
       "<pre style=\"white-space:pre;overflow-x:auto;line-height:normal;font-family:Menlo,'DejaVu Sans Mono',consolas,'Courier New',monospace\"></pre>\n"
      ],
      "text/plain": []
     },
     "metadata": {},
     "output_type": "display_data"
    },
    {
     "data": {
      "text/html": [
       "<pre style=\"white-space:pre;overflow-x:auto;line-height:normal;font-family:Menlo,'DejaVu Sans Mono',consolas,'Courier New',monospace\">\n",
       "</pre>\n"
      ],
      "text/plain": [
       "\n"
      ]
     },
     "metadata": {},
     "output_type": "display_data"
    },
    {
     "name": "stdout",
     "output_type": "stream",
     "text": [
      "Accuracy: 90.62%\n"
     ]
    }
   ],
   "source": [
    "def classify_text(text: str) -> str:\n",
    "    \"\"\"Classify the provided text into a known newsgroup.\"\"\"\n",
    "    response = your_model.generate_content(text, request_options=retry_policy)\n",
    "    rc = response.candidates[0]\n",
    "\n",
    "    # Any errors, filters, recitation, etc we can mark as a general error\n",
    "    if rc.finish_reason.name != \"STOP\":\n",
    "        return \"(error)\"\n",
    "    else:\n",
    "        return rc.content.parts[0].text\n",
    "\n",
    "\n",
    "# The sampling here is just to minimise your quota usage. If you can, you should\n",
    "# evaluate the whole test set with `df_model_eval = df_test.copy()`.\n",
    "df_model_eval = sample_data(df_test, 4, '.*')\n",
    "\n",
    "\n",
    "df_model_eval[\"Prediction\"] = df_model_eval[\"Text\"].progress_apply(classify_text)\n",
    "\n",
    "accuracy = (df_model_eval[\"Class Name\"] == df_model_eval[\"Prediction\"]).sum() / len(df_model_eval)\n",
    "print(f\"Accuracy: {accuracy:.2%}\")"
   ]
  },
  {
   "cell_type": "markdown",
   "id": "76faaaca",
   "metadata": {
    "papermill": {
     "duration": 0.03142,
     "end_time": "2024-11-14T11:18:13.461411",
     "exception": false,
     "start_time": "2024-11-14T11:18:13.429991",
     "status": "completed"
    },
    "tags": []
   },
   "source": [
    "## Compare token usage\n",
    "\n",
    "AI Studio and the Gemini API provide model tuning at no cost, however normal limits and charges apply for *use* of a tuned model.\n",
    "\n",
    "The size of the input prompt and other generation config like system instructions, as well as the number of generated output tokens, all contribute to the overall cost of a request."
   ]
  },
  {
   "cell_type": "code",
   "execution_count": 21,
   "id": "622260f1",
   "metadata": {
    "execution": {
     "iopub.execute_input": "2024-11-14T11:18:15.866810Z",
     "iopub.status.busy": "2024-11-14T11:18:15.866432Z",
     "iopub.status.idle": "2024-11-14T11:18:16.232374Z",
     "shell.execute_reply": "2024-11-14T11:18:16.231182Z"
    },
    "papermill": {
     "duration": 2.742663,
     "end_time": "2024-11-14T11:18:16.235062",
     "exception": false,
     "start_time": "2024-11-14T11:18:13.492399",
     "status": "completed"
    },
    "tags": []
   },
   "outputs": [
    {
     "name": "stdout",
     "output_type": "stream",
     "text": [
      "System instructed baseline model: 171 (input)\n",
      "Tuned model: 135 (input)\n",
      "Token savings: 26.67%\n"
     ]
    }
   ],
   "source": [
    "# Calculate the *input* cost of the baseline model with system instructions.\n",
    "sysint_tokens = instructed_model.count_tokens(sample_row).total_tokens\n",
    "print(f'System instructed baseline model: {sysint_tokens} (input)')\n",
    "\n",
    "# Calculate the input cost of the tuned model.\n",
    "tuned_tokens = your_model.count_tokens(sample_row).total_tokens\n",
    "print(f'Tuned model: {tuned_tokens} (input)')\n",
    "\n",
    "savings = (sysint_tokens - tuned_tokens) / tuned_tokens\n",
    "print(f'Token savings: {savings:.2%}')  # Note that this is only n=1."
   ]
  },
  {
   "cell_type": "markdown",
   "id": "5360cd2d",
   "metadata": {
    "papermill": {
     "duration": 0.025216,
     "end_time": "2024-11-14T11:18:16.285970",
     "exception": false,
     "start_time": "2024-11-14T11:18:16.260754",
     "status": "completed"
    },
    "tags": []
   },
   "source": [
    "The earlier verbose model also produced more output tokens than needed for this task."
   ]
  },
  {
   "cell_type": "code",
   "execution_count": 22,
   "id": "958255ea",
   "metadata": {
    "execution": {
     "iopub.execute_input": "2024-11-14T11:18:16.339216Z",
     "iopub.status.busy": "2024-11-14T11:18:16.338365Z",
     "iopub.status.idle": "2024-11-14T11:18:17.682183Z",
     "shell.execute_reply": "2024-11-14T11:18:17.680899Z"
    },
    "papermill": {
     "duration": 1.373251,
     "end_time": "2024-11-14T11:18:17.684772",
     "exception": false,
     "start_time": "2024-11-14T11:18:16.311521",
     "status": "completed"
    },
    "tags": []
   },
   "outputs": [
    {
     "name": "stdout",
     "output_type": "stream",
     "text": [
      "Baseline (verbose) output tokens: 143\n",
      "Tuned output tokens: 3\n"
     ]
    }
   ],
   "source": [
    "baseline_token_output = baseline_response.usage_metadata.candidates_token_count\n",
    "print('Baseline (verbose) output tokens:', baseline_token_output)\n",
    "\n",
    "tuned_model_output = your_model.generate_content(sample_row)\n",
    "tuned_tokens_output = tuned_model_output.usage_metadata.candidates_token_count\n",
    "print('Tuned output tokens:', tuned_tokens_output)"
   ]
  },
  {
   "cell_type": "markdown",
   "id": "6dc5054c",
   "metadata": {
    "id": "6c1204a5d0ab",
    "papermill": {
     "duration": 0.0253,
     "end_time": "2024-11-14T11:18:17.735834",
     "exception": false,
     "start_time": "2024-11-14T11:18:17.710534",
     "status": "completed"
    },
    "tags": []
   },
   "source": [
    "## Next steps\n",
    "\n",
    "Now that you have tuned a classification model, try some other tasks, like tuning a model to respond with a specific tone or style using hand-written examples (or even generated examples!). Kaggle hosts [a number of datasets](https://www.kaggle.com/datasets) you can try out.\n",
    "\n",
    "Learn about [when supervised fine-tuning is most effective](https://cloud.google.com/blog/products/ai-machine-learning/supervised-fine-tuning-for-gemini-llm).\n",
    "\n",
    "And check out the [fine-tuning tutorial](https://ai.google.dev/gemini-api/docs/model-tuning/tutorial?hl=en&lang=python) for another example that shows a tuned model extending beyond the training data to new, unseen inputs."
   ]
  }
 ],
 "metadata": {
  "colab": {
   "name": "day-4-fine-tuning-a-custom-model.ipynb",
   "toc_visible": true
  },
  "kaggle": {
   "accelerator": "none",
   "dataSources": [],
   "dockerImageVersionId": 30786,
   "isGpuEnabled": false,
   "isInternetEnabled": true,
   "language": "python",
   "sourceType": "notebook"
  },
  "kernelspec": {
   "display_name": "Python 3",
   "language": "python",
   "name": "python3"
  },
  "language_info": {
   "codemirror_mode": {
    "name": "ipython",
    "version": 3
   },
   "file_extension": ".py",
   "mimetype": "text/x-python",
   "name": "python",
   "nbconvert_exporter": "python",
   "pygments_lexer": "ipython3",
   "version": "3.10.14"
  },
  "papermill": {
   "default_parameters": {},
   "duration": 5609.987596,
   "end_time": "2024-11-14T11:18:18.687978",
   "environment_variables": {},
   "exception": null,
   "input_path": "__notebook__.ipynb",
   "output_path": "__notebook__.ipynb",
   "parameters": {},
   "start_time": "2024-11-14T09:44:48.700382",
   "version": "2.6.0"
  },
  "widgets": {
   "application/vnd.jupyter.widget-state+json": {
    "state": {
     "2be4375b53e0401b83eb4c90e28fddc1": {
      "model_module": "@jupyter-widgets/base",
      "model_module_version": "1.2.0",
      "model_name": "LayoutModel",
      "state": {
       "_model_module": "@jupyter-widgets/base",
       "_model_module_version": "1.2.0",
       "_model_name": "LayoutModel",
       "_view_count": null,
       "_view_module": "@jupyter-widgets/base",
       "_view_module_version": "1.2.0",
       "_view_name": "LayoutView",
       "align_content": null,
       "align_items": null,
       "align_self": null,
       "border": null,
       "bottom": null,
       "display": null,
       "flex": null,
       "flex_flow": null,
       "grid_area": null,
       "grid_auto_columns": null,
       "grid_auto_flow": null,
       "grid_auto_rows": null,
       "grid_column": null,
       "grid_gap": null,
       "grid_row": null,
       "grid_template_areas": null,
       "grid_template_columns": null,
       "grid_template_rows": null,
       "height": null,
       "justify_content": null,
       "justify_items": null,
       "left": null,
       "margin": null,
       "max_height": null,
       "max_width": null,
       "min_height": null,
       "min_width": null,
       "object_fit": null,
       "object_position": null,
       "order": null,
       "overflow": null,
       "overflow_x": null,
       "overflow_y": null,
       "padding": null,
       "right": null,
       "top": null,
       "visibility": null,
       "width": null
      }
     },
     "47394192ef3743ff8d7f122d92d0b6d8": {
      "model_module": "@jupyter-widgets/output",
      "model_module_version": "1.0.0",
      "model_name": "OutputModel",
      "state": {
       "_dom_classes": [],
       "_model_module": "@jupyter-widgets/output",
       "_model_module_version": "1.0.0",
       "_model_name": "OutputModel",
       "_view_count": null,
       "_view_module": "@jupyter-widgets/output",
       "_view_module_version": "1.0.0",
       "_view_name": "OutputView",
       "layout": "IPY_MODEL_2be4375b53e0401b83eb4c90e28fddc1",
       "msg_id": "",
       "outputs": [
        {
         "data": {
          "text/html": "<pre style=\"white-space:pre;overflow-x:auto;line-height:normal;font-family:Menlo,'DejaVu Sans Mono',consolas,'Courier New',monospace\"><span style=\"color: #800080; text-decoration-color: #800080\"> 100%</span> <span style=\"color: #729c1f; text-decoration-color: #729c1f\">━━━━━━━━━━━━━━━━━━━━━━━━━━━━━━━━━━━━━━━━━━━━━━━━━━━━━━━━━━━━━━━━━━━━━━━</span> <span style=\"color: #008000; text-decoration-color: #008000\">16/16 </span> [ <span style=\"color: #808000; text-decoration-color: #808000\">0:00:10</span> &lt; <span style=\"color: #008080; text-decoration-color: #008080\">0:00:00</span> , <span style=\"color: #800000; text-decoration-color: #800000\">1 it/s</span> ]\n</pre>\n",
          "text/plain": "\u001b[35m 100%\u001b[0m \u001b[38;2;114;156;31m━━━━━━━━━━━━━━━━━━━━━━━━━━━━━━━━━━━━━━━━━━━━━━━━━━━━━━━━━━━━━━━━━━━━━━━\u001b[0m \u001b[32m16/16 \u001b[0m [ \u001b[33m0:00:10\u001b[0m < \u001b[36m0:00:00\u001b[0m , \u001b[31m1 it/s\u001b[0m ]\n"
         },
         "metadata": {},
         "output_type": "display_data"
        }
       ]
      }
     },
     "ce4189c04cde4295b687392db1626877": {
      "model_module": "@jupyter-widgets/base",
      "model_module_version": "1.2.0",
      "model_name": "LayoutModel",
      "state": {
       "_model_module": "@jupyter-widgets/base",
       "_model_module_version": "1.2.0",
       "_model_name": "LayoutModel",
       "_view_count": null,
       "_view_module": "@jupyter-widgets/base",
       "_view_module_version": "1.2.0",
       "_view_name": "LayoutView",
       "align_content": null,
       "align_items": null,
       "align_self": null,
       "border": null,
       "bottom": null,
       "display": null,
       "flex": null,
       "flex_flow": null,
       "grid_area": null,
       "grid_auto_columns": null,
       "grid_auto_flow": null,
       "grid_auto_rows": null,
       "grid_column": null,
       "grid_gap": null,
       "grid_row": null,
       "grid_template_areas": null,
       "grid_template_columns": null,
       "grid_template_rows": null,
       "height": null,
       "justify_content": null,
       "justify_items": null,
       "left": null,
       "margin": null,
       "max_height": null,
       "max_width": null,
       "min_height": null,
       "min_width": null,
       "object_fit": null,
       "object_position": null,
       "order": null,
       "overflow": null,
       "overflow_x": null,
       "overflow_y": null,
       "padding": null,
       "right": null,
       "top": null,
       "visibility": null,
       "width": null
      }
     },
     "e73bbacc797549d7b64519aa9f64ca93": {
      "model_module": "@jupyter-widgets/output",
      "model_module_version": "1.0.0",
      "model_name": "OutputModel",
      "state": {
       "_dom_classes": [],
       "_model_module": "@jupyter-widgets/output",
       "_model_module_version": "1.0.0",
       "_model_name": "OutputModel",
       "_view_count": null,
       "_view_module": "@jupyter-widgets/output",
       "_view_module_version": "1.0.0",
       "_view_name": "OutputView",
       "layout": "IPY_MODEL_ce4189c04cde4295b687392db1626877",
       "msg_id": "",
       "outputs": [
        {
         "data": {
          "text/html": "<pre style=\"white-space:pre;overflow-x:auto;line-height:normal;font-family:Menlo,'DejaVu Sans Mono',consolas,'Courier New',monospace\"><span style=\"color: #800080; text-decoration-color: #800080\"> 100%</span> <span style=\"color: #729c1f; text-decoration-color: #729c1f\">━━━━━━━━━━━━━━━━━━━━━━━━━━━━━━━━━━━━━━━━━━━━━━━━━━━━━━━━━━━━━━━━━━━━━━━</span> <span style=\"color: #008000; text-decoration-color: #008000\">32/32 </span> [ <span style=\"color: #808000; text-decoration-color: #808000\">0:01:14</span> &lt; <span style=\"color: #008080; text-decoration-color: #008080\">0:00:00</span> , <span style=\"color: #800000; text-decoration-color: #800000\">0 it/s</span> ]\n</pre>\n",
          "text/plain": "\u001b[35m 100%\u001b[0m \u001b[38;2;114;156;31m━━━━━━━━━━━━━━━━━━━━━━━━━━━━━━━━━━━━━━━━━━━━━━━━━━━━━━━━━━━━━━━━━━━━━━━\u001b[0m \u001b[32m32/32 \u001b[0m [ \u001b[33m0:01:14\u001b[0m < \u001b[36m0:00:00\u001b[0m , \u001b[31m0 it/s\u001b[0m ]\n"
         },
         "metadata": {},
         "output_type": "display_data"
        }
       ]
      }
     }
    },
    "version_major": 2,
    "version_minor": 0
   }
  }
 },
 "nbformat": 4,
 "nbformat_minor": 5
}

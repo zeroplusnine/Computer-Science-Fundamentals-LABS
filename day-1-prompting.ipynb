{
 "cells": [
  {
   "cell_type": "markdown",
   "id": "3d4e455d",
   "metadata": {
    "id": "jkxRSYjzA1oX",
    "papermill": {
     "duration": 0.021963,
     "end_time": "2024-11-11T01:58:30.208199",
     "exception": false,
     "start_time": "2024-11-11T01:58:30.186236",
     "status": "completed"
    },
    "tags": []
   },
   "source": [
    "##### Copyright 2024 Google LLC."
   ]
  },
  {
   "cell_type": "code",
   "execution_count": 1,
   "id": "f60a5f11",
   "metadata": {
    "cellView": "form",
    "execution": {
     "iopub.execute_input": "2024-11-11T01:58:30.254966Z",
     "iopub.status.busy": "2024-11-11T01:58:30.253411Z",
     "iopub.status.idle": "2024-11-11T01:58:30.260422Z",
     "shell.execute_reply": "2024-11-11T01:58:30.259176Z"
    },
    "id": "5u5OZ2ShA3BA",
    "jupyter": {
     "source_hidden": true
    },
    "papermill": {
     "duration": 0.036914,
     "end_time": "2024-11-11T01:58:30.264185",
     "exception": false,
     "start_time": "2024-11-11T01:58:30.227271",
     "status": "completed"
    },
    "tags": []
   },
   "outputs": [],
   "source": [
    "# @title Licensed under the Apache License, Version 2.0 (the \"License\");\n",
    "# you may not use this file except in compliance with the License.\n",
    "# You may obtain a copy of the License at\n",
    "#\n",
    "# https://www.apache.org/licenses/LICENSE-2.0\n",
    "#\n",
    "# Unless required by applicable law or agreed to in writing, software\n",
    "# distributed under the License is distributed on an \"AS IS\" BASIS,\n",
    "# WITHOUT WARRANTIES OR CONDITIONS OF ANY KIND, either express or implied.\n",
    "# See the License for the specific language governing permissions and\n",
    "# limitations under the License."
   ]
  },
  {
   "cell_type": "markdown",
   "id": "cf1bf7ce",
   "metadata": {
    "id": "csNPnkuCobmG",
    "papermill": {
     "duration": 0.018701,
     "end_time": "2024-11-11T01:58:30.302798",
     "exception": false,
     "start_time": "2024-11-11T01:58:30.284097",
     "status": "completed"
    },
    "tags": []
   },
   "source": [
    "# Day 1 - Prompting\n",
    "\n",
    "Welcome to the Kaggle 5-day Generative AI course!\n",
    "\n",
    "This notebook will show you how to get started with the Gemini API and walk you through some of the example prompts and techniques that you can also read about in the Prompting whitepaper. You don't need to read the whitepaper to use this notebook, but the papers will give you some theoretical context and background to complement this interactive notebook.\n",
    "\n",
    "\n",
    "## Before you begin\n",
    "\n",
    "In this notebook, you'll start exploring prompts and prompt parameters using the Python SDK and AI Studio. For some inspiration, you might enjoy exploring some apps that have been built using the Gemini family of models. Here are a few that we like, and we think you will too.\n",
    "\n",
    "* [TextFX](https://textfx.withgoogle.com/) is a suite of AI-powered tools for rappers, made in collaboration with Lupe Fiasco,\n",
    "* [SQL Talk](https://sql-talk-r5gdynozbq-uc.a.run.app/) shows how you can talk directly to a database using the Gemini API,\n",
    "* [NotebookLM](https://notebooklm.google/) uses Gemini models to build your own personal AI research assistant.\n",
    "\n",
    "\n",
    "### A note on the Gemini API and Vertex AI\n",
    "\n",
    "In the whitepapers, most of the example code uses the Enterprise [Vertex AI platform](https://cloud.google.com/vertex-ai). In contrast, this notebook, along with the others in this series, will use the [Gemini Developer API](https://ai.google.dev/gemini-api/) and [AI Studio](https://aistudio.google.com/).\n",
    "\n",
    "Both APIs provide access to the Gemini family of models, and the code to interact with the models is very similar. Vertex provides a world-class platform for enterprises, governments and advanced users that need powerful features like data governance, ML ops and deep Google Cloud integration.\n",
    "\n",
    "AI Studio is free to use and only requires a compatible Google account to log in and get started. It is deeply integrated with the Gemini API, which comes with a generous [free tier](https://ai.google.dev/pricing) that you can use to run the code in these exercises.\n",
    "\n",
    "If you are already set up with Google Cloud, you can check out the [Enterprise Gemini API](https://cloud.google.com/vertex-ai/generative-ai/docs/model-reference/inference) through Vertex AI, and run the samples directly from the supplied whitepapers."
   ]
  },
  {
   "attachments": {
    "d8299597-f771-4195-ac94-1d6f658ef2bd.png": {
     "image/png": "[encoded data removed]"
    },
    "ed25e346-2e15-4ab0-bc22-503eb1845e66.png": {
     "image/png": "[encoded data removed]"
    }
   },
   "cell_type": "markdown",
   "id": "eb09391e",
   "metadata": {
    "id": "f00ea7c99e44",
    "papermill": {
     "duration": 0.018321,
     "end_time": "2024-11-11T01:58:30.340085",
     "exception": false,
     "start_time": "2024-11-11T01:58:30.321764",
     "status": "completed"
    },
    "tags": []
   },
   "source": [
    "## Get started with Kaggle notebooks\n",
    "\n",
    "If this is your first time using a Kaggle notebook, welcome! You can read about how to use Kaggle notebooks [in the docs](https://www.kaggle.com/docs/notebooks).\n",
    "\n",
    "First, you will need to phone verify your account at kaggle.com/settings.\n",
    "\n",
    "![](https://storage.googleapis.com/kaggle-media/Images/5dgai_0.png)"
   ]
  },
  {
   "cell_type": "markdown",
   "id": "35afeace",
   "metadata": {
    "papermill": {
     "duration": 0.018548,
     "end_time": "2024-11-11T01:58:30.377795",
     "exception": false,
     "start_time": "2024-11-11T01:58:30.359247",
     "status": "completed"
    },
    "tags": []
   },
   "source": [
    "To run this notebook, as well as the others in this course, you will need to make a copy, or fork, the notebook. Look for the `Copy and Edit` button in the top-right, and **click it** to make an editable, private copy of the notebook. It should look like this one:\n",
    "\n",
    "![Copy and Edit button](https://storage.googleapis.com/kaggle-media/Images/5gdai_sc_1.png)\n",
    "\n",
    "Your copy will now have a ▶️ **Run** button next to each code cell that you can press to execute that cell. These notebooks are expected to be run in order from top-to-bottom, but you are encouraged to add new cells, run your own code and explore. If you get stuck, you can try the `Factory reset` option in the `Run` menu, or head back to the original notebook and make a fresh copy.\n",
    "\n",
    "![Run cell button](https://storage.googleapis.com/kaggle-media/Images/5gdai_sc_2.png)\n",
    "\n",
    "### Problems?\n",
    "\n",
    "If you have any problems, head over to the [Kaggle Discord](https://discord.com/invite/kaggle), find the [`#5dgai-q-and-a` channel](https://discord.com/channels/1101210829807956100/1303438695143178251) and ask for help."
   ]
  },
  {
   "cell_type": "markdown",
   "id": "b8955d69",
   "metadata": {
    "id": "ExkOXcPxtTb5",
    "papermill": {
     "duration": 0.018591,
     "end_time": "2024-11-11T01:58:30.415008",
     "exception": false,
     "start_time": "2024-11-11T01:58:30.396417",
     "status": "completed"
    },
    "tags": []
   },
   "source": [
    "## Get started with the Gemini API\n",
    "\n",
    "All of the exercises in this notebook will use the [Gemini API](https://ai.google.dev/gemini-api/) by way of the [Python SDK](https://pypi.org/project/google-generativeai/). Each of these prompts can be accessed directly in [Google AI Studio](https://aistudio.google.com/) too, so if you would rather use a web interface and skip the code for this activity, look for the <img src=\"https://ai.google.dev/site-assets/images/marketing/home/icon-ais.png\" style=\"height: 24px\" height=24/> AI Studio link on each prompt."
   ]
  },
  {
   "cell_type": "markdown",
   "id": "8e77f6d1",
   "metadata": {
    "papermill": {
     "duration": 0.018543,
     "end_time": "2024-11-11T01:58:30.452610",
     "exception": false,
     "start_time": "2024-11-11T01:58:30.434067",
     "status": "completed"
    },
    "tags": []
   },
   "source": [
    "Next, you will need to add your API key to your Kaggle Notebook as a Kaggle User Secret.\n",
    "\n",
    "![](https://storage.googleapis.com/kaggle-media/Images/5dgai_1.png)\n",
    "![](https://storage.googleapis.com/kaggle-media/Images/5dgai_2.png)\n",
    "![](https://storage.googleapis.com/kaggle-media/Images/5dgai_3.png)\n",
    "![](https://storage.googleapis.com/kaggle-media/Images/5dgai_4.png)"
   ]
  },
  {
   "cell_type": "markdown",
   "id": "65abfe35",
   "metadata": {
    "id": "UAjUV3BsvFXQ",
    "papermill": {
     "duration": 0.018934,
     "end_time": "2024-11-11T01:58:30.490820",
     "exception": false,
     "start_time": "2024-11-11T01:58:30.471886",
     "status": "completed"
    },
    "tags": []
   },
   "source": [
    "### Install the SDK"
   ]
  },
  {
   "cell_type": "code",
   "execution_count": 2,
   "id": "535aea88",
   "metadata": {
    "execution": {
     "iopub.execute_input": "2024-11-11T01:58:30.530631Z",
     "iopub.status.busy": "2024-11-11T01:58:30.530089Z",
     "iopub.status.idle": "2024-11-11T01:59:07.483604Z",
     "shell.execute_reply": "2024-11-11T01:59:07.482196Z"
    },
    "id": "NzwzJFU9LqkJ",
    "papermill": {
     "duration": 36.996081,
     "end_time": "2024-11-11T01:59:07.505712",
     "exception": false,
     "start_time": "2024-11-11T01:58:30.509631",
     "status": "completed"
    },
    "tags": []
   },
   "outputs": [
    {
     "name": "stdout",
     "output_type": "stream",
     "text": [
      "Note: you may need to restart the kernel to use updated packages.\n"
     ]
    }
   ],
   "source": [
    "%pip install -U -q \"google-generativeai>=0.8.3\""
   ]
  },
  {
   "cell_type": "code",
   "execution_count": 3,
   "id": "1faacef2",
   "metadata": {
    "execution": {
     "iopub.execute_input": "2024-11-11T01:59:07.546866Z",
     "iopub.status.busy": "2024-11-11T01:59:07.546346Z",
     "iopub.status.idle": "2024-11-11T01:59:08.876857Z",
     "shell.execute_reply": "2024-11-11T01:59:08.875748Z"
    },
    "id": "5DwxYIRavMST",
    "papermill": {
     "duration": 1.354907,
     "end_time": "2024-11-11T01:59:08.879811",
     "exception": false,
     "start_time": "2024-11-11T01:59:07.524904",
     "status": "completed"
    },
    "tags": []
   },
   "outputs": [],
   "source": [
    "import google.generativeai as genai\n",
    "from IPython.display import HTML, Markdown, display"
   ]
  },
  {
   "cell_type": "markdown",
   "id": "f78b77d5",
   "metadata": {
    "id": "DNEt2BCOvOJ1",
    "papermill": {
     "duration": 0.018634,
     "end_time": "2024-11-11T01:59:08.917446",
     "exception": false,
     "start_time": "2024-11-11T01:59:08.898812",
     "status": "completed"
    },
    "tags": []
   },
   "source": [
    "### Set up your API key\n",
    "\n",
    "To run the following cell, your API key must be stored it in a [Kaggle secret](https://www.kaggle.com/discussions/product-feedback/114053) named `GOOGLE_API_KEY`.\n",
    "\n",
    "If you don't already have an API key, you can grab one from [AI Studio](https://aistudio.google.com/app/apikey). You can find [detailed instructions in the docs](https://ai.google.dev/gemini-api/docs/api-key).\n",
    "\n",
    "To make the key available through Kaggle secrets, choose `Secrets` from the `Add-ons` menu and follow the instructions to add your key or enable it for this notebook."
   ]
  },
  {
   "cell_type": "code",
   "execution_count": 4,
   "id": "56812135",
   "metadata": {
    "execution": {
     "iopub.execute_input": "2024-11-11T01:59:08.958021Z",
     "iopub.status.busy": "2024-11-11T01:59:08.957153Z",
     "iopub.status.idle": "2024-11-11T01:59:09.085113Z",
     "shell.execute_reply": "2024-11-11T01:59:09.083898Z"
    },
    "id": "SHl0bkPCvayd",
    "papermill": {
     "duration": 0.151413,
     "end_time": "2024-11-11T01:59:09.087897",
     "exception": false,
     "start_time": "2024-11-11T01:59:08.936484",
     "status": "completed"
    },
    "tags": []
   },
   "outputs": [],
   "source": [
    "from kaggle_secrets import UserSecretsClient\n",
    "\n",
    "GOOGLE_API_KEY = UserSecretsClient().get_secret(\"GOOGLE_API_KEY\")\n",
    "genai.configure(api_key=GOOGLE_API_KEY)"
   ]
  },
  {
   "attachments": {
    "d2be9aab-2527-48af-b6cf-1f06cdd7c3a7.png": {
     "image/png": "[encoded data removed]"
    }
   },
   "cell_type": "markdown",
   "id": "61eed581",
   "metadata": {
    "id": "4e720472fd86",
    "papermill": {
     "duration": 0.018513,
     "end_time": "2024-11-11T01:59:09.125613",
     "exception": false,
     "start_time": "2024-11-11T01:59:09.107100",
     "status": "completed"
    },
    "tags": []
   },
   "source": [
    "If you received an error response along the lines of `No user secrets exist for kernel id ...`, then you need to add your API key via `Add-ons`, `Secrets` **and** enable it.\n",
    "\n",
    "![Screenshot of the checkbox to enable GOOGLE_API_KEY secret](https://storage.googleapis.com/kaggle-media/Images/5gdai_sc_3.png)"
   ]
  },
  {
   "cell_type": "markdown",
   "id": "102df3be",
   "metadata": {
    "id": "H_YXCYIKvyZJ",
    "papermill": {
     "duration": 0.018541,
     "end_time": "2024-11-11T01:59:09.162921",
     "exception": false,
     "start_time": "2024-11-11T01:59:09.144380",
     "status": "completed"
    },
    "tags": []
   },
   "source": [
    "### Run your first prompt\n",
    "\n",
    "In this step, you will test that your API key is set up correctly by making a request. The `gemini-1.5-flash` model has been selected here."
   ]
  },
  {
   "cell_type": "code",
   "execution_count": 5,
   "id": "65ff896a",
   "metadata": {
    "execution": {
     "iopub.execute_input": "2024-11-11T01:59:09.202825Z",
     "iopub.status.busy": "2024-11-11T01:59:09.202323Z",
     "iopub.status.idle": "2024-11-11T01:59:10.268209Z",
     "shell.execute_reply": "2024-11-11T01:59:10.266943Z"
    },
    "id": "BV1o0PmcvyJF",
    "papermill": {
     "duration": 1.088896,
     "end_time": "2024-11-11T01:59:10.270798",
     "exception": false,
     "start_time": "2024-11-11T01:59:09.181902",
     "status": "completed"
    },
    "tags": []
   },
   "outputs": [
    {
     "name": "stdout",
     "output_type": "stream",
     "text": [
      "Imagine you have a super smart friend who can learn from everything they see and hear. That's kind of like AI, or Artificial Intelligence!\n",
      "\n",
      "AI is like a computer that can think and learn, just like you do. It can understand things, solve problems, and even create new things.  \n",
      "\n",
      "For example, AI can help:\n",
      "\n",
      "* **Your favorite video games** become more challenging and exciting.\n",
      "* **Your phone** understand what you're saying and respond with helpful information.\n",
      "* **Doctors** diagnose illnesses faster and more accurately.\n",
      "\n",
      "AI is still learning and growing, but it's already helping us in many ways!  It's like having a super helpful and clever friend who can help you with all sorts of things. \n",
      "\n"
     ]
    }
   ],
   "source": [
    "flash = genai.GenerativeModel('gemini-1.5-flash')\n",
    "response = flash.generate_content(\"Explain AI to me like I'm a kid.\")\n",
    "print(response.text)"
   ]
  },
  {
   "cell_type": "markdown",
   "id": "254f39c0",
   "metadata": {
    "id": "f60ed9d8ae41",
    "papermill": {
     "duration": 0.018982,
     "end_time": "2024-11-11T01:59:10.309108",
     "exception": false,
     "start_time": "2024-11-11T01:59:10.290126",
     "status": "completed"
    },
    "tags": []
   },
   "source": [
    "The response often comes back in markdown format, which you can render directly in this notebook."
   ]
  },
  {
   "cell_type": "code",
   "execution_count": 6,
   "id": "4cf947d1",
   "metadata": {
    "execution": {
     "iopub.execute_input": "2024-11-11T01:59:10.348930Z",
     "iopub.status.busy": "2024-11-11T01:59:10.348440Z",
     "iopub.status.idle": "2024-11-11T01:59:10.357997Z",
     "shell.execute_reply": "2024-11-11T01:59:10.356758Z"
    },
    "id": "c933e5e460a5",
    "papermill": {
     "duration": 0.032427,
     "end_time": "2024-11-11T01:59:10.360687",
     "exception": false,
     "start_time": "2024-11-11T01:59:10.328260",
     "status": "completed"
    },
    "tags": []
   },
   "outputs": [
    {
     "data": {
      "text/markdown": [
       "Imagine you have a super smart friend who can learn from everything they see and hear. That's kind of like AI, or Artificial Intelligence!\n",
       "\n",
       "AI is like a computer that can think and learn, just like you do. It can understand things, solve problems, and even create new things.  \n",
       "\n",
       "For example, AI can help:\n",
       "\n",
       "* **Your favorite video games** become more challenging and exciting.\n",
       "* **Your phone** understand what you're saying and respond with helpful information.\n",
       "* **Doctors** diagnose illnesses faster and more accurately.\n",
       "\n",
       "AI is still learning and growing, but it's already helping us in many ways!  It's like having a super helpful and clever friend who can help you with all sorts of things. \n"
      ],
      "text/plain": [
       "<IPython.core.display.Markdown object>"
      ]
     },
     "execution_count": 6,
     "metadata": {},
     "output_type": "execute_result"
    }
   ],
   "source": [
    "Markdown(response.text)"
   ]
  },
  {
   "cell_type": "markdown",
   "id": "cd1cee55",
   "metadata": {
    "id": "byx0pT9ZMW2Q",
    "papermill": {
     "duration": 0.019216,
     "end_time": "2024-11-11T01:59:10.400812",
     "exception": false,
     "start_time": "2024-11-11T01:59:10.381596",
     "status": "completed"
    },
    "tags": []
   },
   "source": [
    "### Start a chat\n",
    "\n",
    "The previous example uses a single-turn, text-in/text-out structure, but you can also set up a multi-turn chat structure too."
   ]
  },
  {
   "cell_type": "code",
   "execution_count": 7,
   "id": "3dd61e54",
   "metadata": {
    "execution": {
     "iopub.execute_input": "2024-11-11T01:59:10.441602Z",
     "iopub.status.busy": "2024-11-11T01:59:10.441140Z",
     "iopub.status.idle": "2024-11-11T01:59:10.774764Z",
     "shell.execute_reply": "2024-11-11T01:59:10.773430Z"
    },
    "id": "lV_S5ZL5MidD",
    "papermill": {
     "duration": 0.357497,
     "end_time": "2024-11-11T01:59:10.777528",
     "exception": false,
     "start_time": "2024-11-11T01:59:10.420031",
     "status": "completed"
    },
    "tags": []
   },
   "outputs": [
    {
     "name": "stdout",
     "output_type": "stream",
     "text": [
      "Hello Zlork! It's nice to meet you. 😊 What can I do for you today? \n",
      "\n"
     ]
    }
   ],
   "source": [
    "chat = flash.start_chat(history=[])\n",
    "response = chat.send_message('Hello! My name is Zlork.')\n",
    "print(response.text)"
   ]
  },
  {
   "cell_type": "code",
   "execution_count": 8,
   "id": "d646d2aa",
   "metadata": {
    "execution": {
     "iopub.execute_input": "2024-11-11T01:59:10.818605Z",
     "iopub.status.busy": "2024-11-11T01:59:10.818179Z",
     "iopub.status.idle": "2024-11-11T01:59:11.646537Z",
     "shell.execute_reply": "2024-11-11T01:59:11.645162Z"
    },
    "id": "7b0372c3c64a",
    "papermill": {
     "duration": 0.852134,
     "end_time": "2024-11-11T01:59:11.649307",
     "exception": false,
     "start_time": "2024-11-11T01:59:10.797173",
     "status": "completed"
    },
    "tags": []
   },
   "outputs": [
    {
     "name": "stdout",
     "output_type": "stream",
     "text": [
      "Alright, Zlork, buckle up!  Here's an interesting fact about dinosaurs:\n",
      "\n",
      "**Did you know that some dinosaurs were actually feathered?** \n",
      "\n",
      "It's true!  While we often picture dinosaurs as scaly beasts, like in the movies, scientists have discovered fossilized feathers on several dinosaur species. These feathers weren't necessarily for flight, but likely for insulation, display, or even brooding eggs. \n",
      "\n",
      "This discovery completely changed our understanding of dinosaurs and their relationship to birds! \n",
      "\n",
      "What do you think about that, Zlork?  Do you have any favorite dinosaurs? \n",
      "\n"
     ]
    }
   ],
   "source": [
    "response = chat.send_message('Can you tell something interesting about dinosaurs?')\n",
    "print(response.text)"
   ]
  },
  {
   "cell_type": "code",
   "execution_count": 9,
   "id": "3e6a6ecf",
   "metadata": {
    "execution": {
     "iopub.execute_input": "2024-11-11T01:59:11.691085Z",
     "iopub.status.busy": "2024-11-11T01:59:11.690630Z",
     "iopub.status.idle": "2024-11-11T01:59:12.144584Z",
     "shell.execute_reply": "2024-11-11T01:59:12.143118Z"
    },
    "id": "d3f9591392a7",
    "papermill": {
     "duration": 0.479217,
     "end_time": "2024-11-11T01:59:12.148135",
     "exception": false,
     "start_time": "2024-11-11T01:59:11.668918",
     "status": "completed"
    },
    "tags": []
   },
   "outputs": [
    {
     "name": "stdout",
     "output_type": "stream",
     "text": [
      "Of course I remember! You're Zlork!  😊 It's nice to be chatting with you. \n",
      "\n",
      "Is there anything else I can help you with, Zlork?  Perhaps you'd like to hear another interesting dinosaur fact? \n",
      "\n"
     ]
    }
   ],
   "source": [
    "# While you have the `chat` object around, the conversation state\n",
    "# persists. Confirm that by asking if it knows my name.\n",
    "response = chat.send_message('Do you remember what my name is?')\n",
    "print(response.text)"
   ]
  },
  {
   "cell_type": "markdown",
   "id": "a3ed56da",
   "metadata": {
    "id": "2KAjpr1200sW",
    "papermill": {
     "duration": 0.019472,
     "end_time": "2024-11-11T01:59:12.187823",
     "exception": false,
     "start_time": "2024-11-11T01:59:12.168351",
     "status": "completed"
    },
    "tags": []
   },
   "source": [
    "### Choose a model\n",
    "\n",
    "The Gemini API provides access to a number of models from the Gemini model family. Read about the available models and their capabilities on the [model overview page](https://ai.google.dev/gemini-api/docs/models/gemini).\n",
    "\n",
    "In this step you'll use the API to list all of the available models."
   ]
  },
  {
   "cell_type": "code",
   "execution_count": 10,
   "id": "5940762d",
   "metadata": {
    "execution": {
     "iopub.execute_input": "2024-11-11T01:59:12.229991Z",
     "iopub.status.busy": "2024-11-11T01:59:12.229499Z",
     "iopub.status.idle": "2024-11-11T01:59:12.294779Z",
     "shell.execute_reply": "2024-11-11T01:59:12.293567Z"
    },
    "id": "uUUZa2uq2jDm",
    "papermill": {
     "duration": 0.089571,
     "end_time": "2024-11-11T01:59:12.297527",
     "exception": false,
     "start_time": "2024-11-11T01:59:12.207956",
     "status": "completed"
    },
    "tags": []
   },
   "outputs": [
    {
     "name": "stdout",
     "output_type": "stream",
     "text": [
      "models/chat-bison-001\n",
      "models/text-bison-001\n",
      "models/embedding-gecko-001\n",
      "models/gemini-1.0-pro-latest\n",
      "models/gemini-1.0-pro\n",
      "models/gemini-pro\n",
      "models/gemini-1.0-pro-001\n",
      "models/gemini-1.0-pro-vision-latest\n",
      "models/gemini-pro-vision\n",
      "models/gemini-1.5-pro-latest\n",
      "models/gemini-1.5-pro-001\n",
      "models/gemini-1.5-pro-002\n",
      "models/gemini-1.5-pro\n",
      "models/gemini-1.5-pro-exp-0801\n",
      "models/gemini-1.5-pro-exp-0827\n",
      "models/gemini-1.5-flash-latest\n",
      "models/gemini-1.5-flash-001\n",
      "models/gemini-1.5-flash-001-tuning\n",
      "models/gemini-1.5-flash\n",
      "models/gemini-1.5-flash-exp-0827\n",
      "models/gemini-1.5-flash-002\n",
      "models/gemini-1.5-flash-8b\n",
      "models/gemini-1.5-flash-8b-001\n",
      "models/gemini-1.5-flash-8b-latest\n",
      "models/gemini-1.5-flash-8b-exp-0827\n",
      "models/gemini-1.5-flash-8b-exp-0924\n",
      "models/embedding-001\n",
      "models/text-embedding-004\n",
      "models/aqa\n"
     ]
    }
   ],
   "source": [
    "for model in genai.list_models():\n",
    "  print(model.name)"
   ]
  },
  {
   "cell_type": "markdown",
   "id": "d1379ef5",
   "metadata": {
    "id": "rN49kSI54R1v",
    "papermill": {
     "duration": 0.019887,
     "end_time": "2024-11-11T01:59:12.337295",
     "exception": false,
     "start_time": "2024-11-11T01:59:12.317408",
     "status": "completed"
    },
    "tags": []
   },
   "source": [
    "The [`models.list`](https://ai.google.dev/api/models#method:-models.list) response also returns additional information about the model's capabilities, like the token limits and supported parameters."
   ]
  },
  {
   "cell_type": "code",
   "execution_count": 11,
   "id": "d6cf51c8",
   "metadata": {
    "execution": {
     "iopub.execute_input": "2024-11-11T01:59:12.380724Z",
     "iopub.status.busy": "2024-11-11T01:59:12.380247Z",
     "iopub.status.idle": "2024-11-11T01:59:12.432359Z",
     "shell.execute_reply": "2024-11-11T01:59:12.431027Z"
    },
    "id": "k7JJ1K6j4Rl8",
    "papermill": {
     "duration": 0.078168,
     "end_time": "2024-11-11T01:59:12.435404",
     "exception": false,
     "start_time": "2024-11-11T01:59:12.357236",
     "status": "completed"
    },
    "tags": []
   },
   "outputs": [
    {
     "name": "stdout",
     "output_type": "stream",
     "text": [
      "Model(name='models/gemini-1.5-flash',\n",
      "      base_model_id='',\n",
      "      version='001',\n",
      "      display_name='Gemini 1.5 Flash',\n",
      "      description='Fast and versatile multimodal model for scaling across diverse tasks',\n",
      "      input_token_limit=1000000,\n",
      "      output_token_limit=8192,\n",
      "      supported_generation_methods=['generateContent', 'countTokens'],\n",
      "      temperature=1.0,\n",
      "      max_temperature=2.0,\n",
      "      top_p=0.95,\n",
      "      top_k=40)\n"
     ]
    }
   ],
   "source": [
    "for model in genai.list_models():\n",
    "  if model.name == 'models/gemini-1.5-flash':\n",
    "    print(model)\n",
    "    break"
   ]
  },
  {
   "cell_type": "markdown",
   "id": "3db0ea53",
   "metadata": {
    "id": "5rU_UBlZdooM",
    "papermill": {
     "duration": 0.020248,
     "end_time": "2024-11-11T01:59:12.476593",
     "exception": false,
     "start_time": "2024-11-11T01:59:12.456345",
     "status": "completed"
    },
    "tags": []
   },
   "source": [
    "## Explore generation parameters\n",
    "\n"
   ]
  },
  {
   "cell_type": "markdown",
   "id": "1f31b6ab",
   "metadata": {
    "id": "G7NfEizeipbW",
    "papermill": {
     "duration": 0.020831,
     "end_time": "2024-11-11T01:59:12.517626",
     "exception": false,
     "start_time": "2024-11-11T01:59:12.496795",
     "status": "completed"
    },
    "tags": []
   },
   "source": [
    "### Output length\n",
    "\n",
    "When generating text with an LLM, the output length affects cost and performance. Generating more tokens increases computation, leading to higher energy consumption, latency, and cost.\n",
    "\n",
    "To stop the model from generating tokens past a limit, you can specify the `max_output_length` parameter when using the Gemini API. Specifying this parameter does not influence the generation of the output tokens, so the output will not become more stylistically or textually succinct, but it will stop generating tokens once the specified length is reached. Prompt engineering may be required to generate a more complete output for your given limit."
   ]
  },
  {
   "cell_type": "code",
   "execution_count": 12,
   "id": "c6118b0c",
   "metadata": {
    "execution": {
     "iopub.execute_input": "2024-11-11T01:59:12.561694Z",
     "iopub.status.busy": "2024-11-11T01:59:12.561231Z",
     "iopub.status.idle": "2024-11-11T01:59:13.715901Z",
     "shell.execute_reply": "2024-11-11T01:59:13.714375Z"
    },
    "id": "qVf23JsIi9ma",
    "papermill": {
     "duration": 1.179122,
     "end_time": "2024-11-11T01:59:13.718763",
     "exception": false,
     "start_time": "2024-11-11T01:59:12.539641",
     "status": "completed"
    },
    "tags": []
   },
   "outputs": [
    {
     "name": "stdout",
     "output_type": "stream",
     "text": [
      "## The Olive: A Timeless Treasure in Modern Society\n",
      "\n",
      "From the sun-drenched groves of the Mediterranean to the bustling kitchens of the modern world, the olive has held a place of honor for millennia. More than just a food source, the olive has woven itself into the fabric of human civilization, leaving its mark on history, culture, and even modern society. Its journey from humble fruit to a symbol of health, sustenance, and tradition speaks volumes about its enduring significance.\n",
      "\n",
      "The olive's story begins with its deep-rooted history. Archaeological evidence suggests that olives were cultivated in the Mediterranean region as early as 6,000 BCE. Their hardiness and versatility allowed them to thrive in arid climates, providing a vital source of nutrition for ancient civilizations. Olive oil, extracted from the fruit, fueled lamps, lubricated machinery, and served as a key ingredient in cooking and medicine. This versatile resource played a crucial role in the development of ancient societies, shaping their economies, cultural practices\n"
     ]
    }
   ],
   "source": [
    "short_model = genai.GenerativeModel(\n",
    "    'gemini-1.5-flash',\n",
    "    generation_config=genai.GenerationConfig(max_output_tokens=200))\n",
    "\n",
    "response = short_model.generate_content('Write a 1000 word essay on the importance of olives in modern society.')\n",
    "print(response.text)"
   ]
  },
  {
   "cell_type": "code",
   "execution_count": 13,
   "id": "356b06f0",
   "metadata": {
    "execution": {
     "iopub.execute_input": "2024-11-11T01:59:13.760951Z",
     "iopub.status.busy": "2024-11-11T01:59:13.760507Z",
     "iopub.status.idle": "2024-11-11T01:59:14.622378Z",
     "shell.execute_reply": "2024-11-11T01:59:14.620904Z"
    },
    "id": "W-3kR2F5kdMR",
    "papermill": {
     "duration": 0.886156,
     "end_time": "2024-11-11T01:59:14.625132",
     "exception": false,
     "start_time": "2024-11-11T01:59:13.738976",
     "status": "completed"
    },
    "tags": []
   },
   "outputs": [
    {
     "name": "stdout",
     "output_type": "stream",
     "text": [
      "From ancient groves to modern plate,\n",
      "The olive, a gift, we celebrate.\n",
      "A tiny fruit, with potent charm,\n",
      "Its oil a treasure, keeping us warm.\n",
      "\n",
      "From salads fresh to savory dips,\n",
      "Its flavor lingers on our lips.\n",
      "A symbol of peace, a taste of grace,\n",
      "The olive enriches our human space.\n",
      "\n",
      "It fuels our bodies, nourishes our soul,\n",
      "A story whispered, making us whole.\n",
      "So raise a glass, let's give a cheer,\n",
      "To the olive, a treasure, year after year. \n",
      "\n"
     ]
    }
   ],
   "source": [
    "response = short_model.generate_content('Write a short poem on the importance of olives in modern society.')\n",
    "print(response.text)"
   ]
  },
  {
   "cell_type": "markdown",
   "id": "d26efcbf",
   "metadata": {
    "id": "3ZhDSLB6lqqB",
    "papermill": {
     "duration": 0.020445,
     "end_time": "2024-11-11T01:59:14.666451",
     "exception": false,
     "start_time": "2024-11-11T01:59:14.646006",
     "status": "completed"
    },
    "tags": []
   },
   "source": [
    "Explore with your own prompts. Try a prompt with a restrictive output limit and then adjust the prompt to work within that limit."
   ]
  },
  {
   "cell_type": "code",
   "execution_count": 14,
   "id": "a351d7a6",
   "metadata": {
    "execution": {
     "iopub.execute_input": "2024-11-11T01:59:14.709807Z",
     "iopub.status.busy": "2024-11-11T01:59:14.709338Z",
     "iopub.status.idle": "2024-11-11T01:59:15.856797Z",
     "shell.execute_reply": "2024-11-11T01:59:15.855634Z"
    },
    "papermill": {
     "duration": 1.172798,
     "end_time": "2024-11-11T01:59:15.859883",
     "exception": false,
     "start_time": "2024-11-11T01:59:14.687085",
     "status": "completed"
    },
    "tags": []
   },
   "outputs": [
    {
     "name": "stdout",
     "output_type": "stream",
     "text": [
      "In sun-drenched fields, where olives thrive,\n",
      "A future grows, a world alive.\n",
      "Their oil, a balm, a potent cure,\n",
      "For ailments old, and future pure.\n",
      "\n",
      "From ancient trees, a bounty flows,\n",
      "To nourish hearts, and ease our woes.\n",
      "A source of strength, a vital fuel,\n",
      "To power lives, both old and new.\n",
      "\n",
      "So let us praise the olive's might,\n",
      "A symbol bright, a guiding light.\n",
      "In future days, its virtues hold,\n",
      "A story told, a tale untold. \n",
      "\n"
     ]
    }
   ],
   "source": [
    "response = short_model.generate_content('Write a short poem on the importance of olives in future society.')\n",
    "print(response.text)"
   ]
  },
  {
   "cell_type": "markdown",
   "id": "3c456b75",
   "metadata": {
    "id": "alx-WaAvir_9",
    "papermill": {
     "duration": 0.02019,
     "end_time": "2024-11-11T01:59:15.900541",
     "exception": false,
     "start_time": "2024-11-11T01:59:15.880351",
     "status": "completed"
    },
    "tags": []
   },
   "source": [
    "### Temperature\n",
    "\n",
    "Temperature controls the degree of randomness in token selection. Higher temperatures result in a higher number of candidate tokens from which the next output token is selected, and can produce more diverse results, while lower temperatures have the opposite effect, such that a temperature of 0 results in greedy decoding, selecting the most probable token at each step.\n",
    "\n",
    "Temperature doesn't provide any guarantees of randomness, but it can be used to \"nudge\" the output somewhat."
   ]
  },
  {
   "cell_type": "code",
   "execution_count": 15,
   "id": "f90a5c7b",
   "metadata": {
    "execution": {
     "iopub.execute_input": "2024-11-11T01:59:15.943412Z",
     "iopub.status.busy": "2024-11-11T01:59:15.942998Z",
     "iopub.status.idle": "2024-11-11T01:59:17.820659Z",
     "shell.execute_reply": "2024-11-11T01:59:17.819232Z"
    },
    "id": "SHraGMzqnZqt",
    "papermill": {
     "duration": 1.902253,
     "end_time": "2024-11-11T01:59:17.823374",
     "exception": false,
     "start_time": "2024-11-11T01:59:15.921121",
     "status": "completed"
    },
    "tags": []
   },
   "outputs": [
    {
     "name": "stdout",
     "output_type": "stream",
     "text": [
      "Purple. \n",
      " -------------------------\n",
      "Teal \n",
      " -------------------------\n",
      "Blue \n",
      " -------------------------\n",
      "Purple. \n",
      " -------------------------\n",
      "Blue \n",
      " -------------------------\n"
     ]
    }
   ],
   "source": [
    "high_temp_model = genai.GenerativeModel(\n",
    "    'gemini-1.5-flash',\n",
    "    generation_config=genai.GenerationConfig(temperature=2.0))\n",
    "\n",
    "for _ in range(5):\n",
    "  response = high_temp_model.generate_content('Pick a random colour... (answer in a single word)')\n",
    "  if response.parts:\n",
    "    print(response.text, '-' * 25)"
   ]
  },
  {
   "cell_type": "markdown",
   "id": "8a012f8c",
   "metadata": {
    "id": "z3J4pCTuof7e",
    "papermill": {
     "duration": 0.02059,
     "end_time": "2024-11-11T01:59:17.865488",
     "exception": false,
     "start_time": "2024-11-11T01:59:17.844898",
     "status": "completed"
    },
    "tags": []
   },
   "source": [
    "Now try the same prompt with temperature set to zero. Note that the output is not completely deterministic, as other parameters affect token selection, but the results will tend to be more stable."
   ]
  },
  {
   "cell_type": "code",
   "execution_count": 16,
   "id": "32523053",
   "metadata": {
    "execution": {
     "iopub.execute_input": "2024-11-11T01:59:17.909773Z",
     "iopub.status.busy": "2024-11-11T01:59:17.909297Z",
     "iopub.status.idle": "2024-11-11T02:00:39.946469Z",
     "shell.execute_reply": "2024-11-11T02:00:39.945101Z"
    },
    "id": "clymkWv-PfUZ",
    "papermill": {
     "duration": 82.062778,
     "end_time": "2024-11-11T02:00:39.949134",
     "exception": false,
     "start_time": "2024-11-11T01:59:17.886356",
     "status": "completed"
    },
    "tags": []
   },
   "outputs": [
    {
     "name": "stdout",
     "output_type": "stream",
     "text": [
      "Purple \n",
      " -------------------------\n",
      "Purple \n",
      " -------------------------\n",
      "Purple \n",
      " -------------------------\n",
      "Purple \n",
      " -------------------------\n",
      "Purple \n",
      " -------------------------\n"
     ]
    }
   ],
   "source": [
    "low_temp_model = genai.GenerativeModel(\n",
    "    'gemini-1.5-flash',\n",
    "    generation_config=genai.GenerationConfig(temperature=0.0))\n",
    "\n",
    "for _ in range(5):\n",
    "  response = low_temp_model.generate_content('Pick a random colour... (answer in a single word)')\n",
    "  if response.parts:\n",
    "    print(response.text, '-' * 25)"
   ]
  },
  {
   "cell_type": "markdown",
   "id": "6ecd2a1e",
   "metadata": {
    "id": "St5nt3vzitsZ",
    "papermill": {
     "duration": 0.021674,
     "end_time": "2024-11-11T02:00:39.991975",
     "exception": false,
     "start_time": "2024-11-11T02:00:39.970301",
     "status": "completed"
    },
    "tags": []
   },
   "source": [
    "### Top-K and top-P\n",
    "\n",
    "Like temperature, top-K and top-P parameters are also used to control the diversity of the model's output.\n",
    "\n",
    "Top-K is a positive integer that defines the number of most probable tokens from which to select the output token. A top-K of 1 selects a single token, performing greedy decoding.\n",
    "\n",
    "Top-P defines the probability threshold that, once cumulatively exceeded, tokens stop being selected as candidates. A top-P of 0 is typically equivalent to greedy decoding, and a top-P of 1 typically selects every token in the model's vocabulary.\n",
    "\n",
    "When both are supplied, the Gemini API will filter top-K tokens first, then top-P and then finally sample from the candidate tokens using the supplied temperature.\n",
    "\n",
    "Run this example a number of times, change the settings and observe the change in output."
   ]
  },
  {
   "cell_type": "code",
   "execution_count": 17,
   "id": "66679e97",
   "metadata": {
    "execution": {
     "iopub.execute_input": "2024-11-11T02:00:40.037381Z",
     "iopub.status.busy": "2024-11-11T02:00:40.036949Z",
     "iopub.status.idle": "2024-11-11T02:00:43.310275Z",
     "shell.execute_reply": "2024-11-11T02:00:43.309238Z"
    },
    "id": "lPlzpEavUV8F",
    "papermill": {
     "duration": 3.299078,
     "end_time": "2024-11-11T02:00:43.313083",
     "exception": false,
     "start_time": "2024-11-11T02:00:40.014005",
     "status": "completed"
    },
    "tags": []
   },
   "outputs": [
    {
     "name": "stdout",
     "output_type": "stream",
     "text": [
      "Bartholomew the tabby had always yearned for adventure. His life was a monotonous cycle of naps, meals, and the occasional chase after a dust bunny. He yearned for something more, something that would set his whiskers a-twitching with excitement.\n",
      "\n",
      "One day, while basking in the sun on the windowsill, Bartholomew noticed a strange bird flitting through the garden. It was unlike any bird he'd seen before, with feathers the color of amethyst and eyes that sparkled like emeralds. It was mesmerizing.\n",
      "\n",
      "Suddenly, the bird landed on the sill, its gaze fixed on Bartholomew. \"Greetings, feline friend,\" it chirped in a surprisingly deep voice. \"I am Zephyr, and I am seeking a brave companion for a journey.\"\n",
      "\n",
      "Bartholomew's heart leaped. This was it! His chance for adventure. \"A journey? Where to?\" he asked, his voice barely a whisper.\n",
      "\n",
      "\"To the Whispering Woods,\" Zephyr replied, \"where the secrets of the world are whispered on the wind.\"\n",
      "\n",
      "Bartholomew, despite his initial fear, couldn't resist the call of the unknown. He hopped onto the window ledge and, with a final glance at his familiar world, leaped onto Zephyr's back.\n",
      "\n",
      "Their journey was fraught with danger. They braved tangled forests, crossed rushing rivers, and even navigated a treacherous mountain pass. Zephyr, with his sharp eyes and strong wings, protected Bartholomew from the dangers. Bartholomew, in turn, used his sharp claws and nimble paws to help them through tight spots.\n",
      "\n",
      "Finally, they reached the Whispering Woods. The air was thick with a magical hum, and the trees seemed to sway in an ancient rhythm. As they walked deeper into the woods, Bartholomew felt a profound sense of peace. The whispers of the wind seemed to speak to him, telling stories of ancient civilizations and forgotten lore.\n",
      "\n",
      "Suddenly, a creature emerged from the shadows, its fur as black as night and its eyes burning with fiery light. It was the guardian of the Whispering Woods, and it seemed angry to have intruders.\n",
      "\n",
      "Zephyr flew into a frenzy, his amethyst feathers ablaze with fury. But Bartholomew, sensing the fear in the guardian's heart, did something unexpected. He gently rubbed against the creature's leg, a gesture of peace and understanding.\n",
      "\n",
      "The guardian's anger subsided. It lowered its head and let out a soft growl, then, with a gentle nudge, led them to a hidden grove. There, beneath the emerald canopy, a waterfall flowed into a shimmering pool. The air was alive with the scent of wildflowers and the music of birdsong.\n",
      "\n",
      "Zephyr, exhausted but exhilarated, settled onto a mossy rock, his amethyst feathers shimmering in the afternoon sun. Bartholomew, feeling a sense of fulfillment he had never known before, curled up beside him.\n",
      "\n",
      "As the sun began to set, casting long shadows across the Whispering Woods, Bartholomew realized that his adventure had not just been a journey to a place, but a journey to himself. He had discovered courage, compassion, and a love for the unknown.\n",
      "\n",
      "And as he drifted off to sleep, the whispers of the wind carried a single message: \"Well done, little one. You have lived.\" \n",
      "\n"
     ]
    }
   ],
   "source": [
    "model = genai.GenerativeModel(\n",
    "    'gemini-1.5-flash-001',\n",
    "    generation_config=genai.GenerationConfig(\n",
    "        # These are the default values for gemini-1.5-flash-001.\n",
    "        temperature=1.0,\n",
    "        top_k=64,\n",
    "        top_p=0.95,\n",
    "    ))\n",
    "\n",
    "story_prompt = \"You are a creative writer. Write a short story about a cat who goes on an adventure.\"\n",
    "response = model.generate_content(story_prompt)\n",
    "print(response.text)"
   ]
  },
  {
   "cell_type": "markdown",
   "id": "ddb8129c",
   "metadata": {
    "id": "rMrYs1koY6DX",
    "papermill": {
     "duration": 0.021134,
     "end_time": "2024-11-11T02:00:43.356147",
     "exception": false,
     "start_time": "2024-11-11T02:00:43.335013",
     "status": "completed"
    },
    "tags": []
   },
   "source": [
    "## Prompting\n",
    "\n",
    "This section contains some prompts from the chapter for you to try out directly in the API. Try changing the text here to see how each prompt performs with different instructions, more examples, or any other changes you can think of."
   ]
  },
  {
   "cell_type": "markdown",
   "id": "e4e5f199",
   "metadata": {
    "id": "hhj_tQidZJP7",
    "papermill": {
     "duration": 0.02103,
     "end_time": "2024-11-11T02:00:43.398500",
     "exception": false,
     "start_time": "2024-11-11T02:00:43.377470",
     "status": "completed"
    },
    "tags": []
   },
   "source": [
    "### Zero-shot\n",
    "\n",
    "Zero-shot prompts are prompts that describe the request for the model directly.\n",
    "\n",
    "<table align=left>\n",
    "  <td>\n",
    "    <a target=\"_blank\" href=\"https://aistudio.google.com/prompts/1gzKKgDHwkAvexG5Up0LMtl1-6jKMKe4g\"><img src=\"https://ai.google.dev/site-assets/images/marketing/home/icon-ais.png\" style=\"height: 24px\" height=24/> Open in AI Studio</a>\n",
    "  </td>\n",
    "</table>"
   ]
  },
  {
   "cell_type": "code",
   "execution_count": 18,
   "id": "3585e02b",
   "metadata": {
    "execution": {
     "iopub.execute_input": "2024-11-11T02:00:43.443655Z",
     "iopub.status.busy": "2024-11-11T02:00:43.443216Z",
     "iopub.status.idle": "2024-11-11T02:01:23.765336Z",
     "shell.execute_reply": "2024-11-11T02:01:23.764030Z"
    },
    "id": "1_t-cwnDZzbH",
    "papermill": {
     "duration": 40.370214,
     "end_time": "2024-11-11T02:01:23.790098",
     "exception": false,
     "start_time": "2024-11-11T02:00:43.419884",
     "status": "completed"
    },
    "tags": []
   },
   "outputs": [
    {
     "name": "stdout",
     "output_type": "stream",
     "text": [
      "POSITIVE \n",
      "\n"
     ]
    }
   ],
   "source": [
    "model = genai.GenerativeModel(\n",
    "    'gemini-1.5-flash-001',\n",
    "    generation_config=genai.GenerationConfig(\n",
    "        temperature=1,\n",
    "        top_p=.1,\n",
    "        max_output_tokens=5,\n",
    "    ))\n",
    "\n",
    "zero_shot_prompt = \"\"\"Classify movie reviews as POSITIVE, NEUTRAL or BADASS.\n",
    "Review: \"Her\" is a disturbing study revealing the direction\n",
    "humanity is headed if AI is allowed to keep evolving,\n",
    "unchecked. I wish there were more movies like this masterpiece.\n",
    "Sentiment: \"\"\"\n",
    "\n",
    "response = model.generate_content(zero_shot_prompt)\n",
    "print(response.text)"
   ]
  },
  {
   "cell_type": "markdown",
   "id": "0f47a67a",
   "metadata": {
    "id": "3b5568bdeb11",
    "papermill": {
     "duration": 0.021263,
     "end_time": "2024-11-11T02:01:23.832933",
     "exception": false,
     "start_time": "2024-11-11T02:01:23.811670",
     "status": "completed"
    },
    "tags": []
   },
   "source": [
    "#### Enum mode\n",
    "\n",
    "The models are trained to generate text, and can sometimes produce more text than you may wish for. In the preceding example, the model will output the label, sometimes it can include a preceding \"Sentiment\" label, and without an output token limit, it may also add explanatory text afterwards.\n",
    "\n",
    "The Gemini API has an [Enum mode](https://github.com/google-gemini/cookbook/blob/main/quickstarts/Enum.ipynb) feature that allows you to constrain the output to a fixed set of values."
   ]
  },
  {
   "cell_type": "code",
   "execution_count": 19,
   "id": "4d10b6ba",
   "metadata": {
    "execution": {
     "iopub.execute_input": "2024-11-11T02:01:23.878949Z",
     "iopub.status.busy": "2024-11-11T02:01:23.878469Z",
     "iopub.status.idle": "2024-11-11T02:01:24.333235Z",
     "shell.execute_reply": "2024-11-11T02:01:24.331484Z"
    },
    "id": "ad118a56c598",
    "papermill": {
     "duration": 0.481585,
     "end_time": "2024-11-11T02:01:24.335975",
     "exception": false,
     "start_time": "2024-11-11T02:01:23.854390",
     "status": "completed"
    },
    "tags": []
   },
   "outputs": [
    {
     "name": "stdout",
     "output_type": "stream",
     "text": [
      "positive\n"
     ]
    }
   ],
   "source": [
    "import enum\n",
    "\n",
    "class Sentiment(enum.Enum):\n",
    "    POSITIVE = \"positive\"\n",
    "    NEUTRAL = \"neutral\"\n",
    "    NEGATIVE = \"negative\"\n",
    "\n",
    "\n",
    "model = genai.GenerativeModel(\n",
    "    'gemini-1.5-flash-001',\n",
    "    generation_config=genai.GenerationConfig(\n",
    "        response_mime_type=\"text/x.enum\",\n",
    "        response_schema=Sentiment\n",
    "    ))\n",
    "\n",
    "response = model.generate_content(zero_shot_prompt)\n",
    "print(response.text)"
   ]
  },
  {
   "cell_type": "markdown",
   "id": "cb5246a3",
   "metadata": {
    "id": "0udiSwNbv45W",
    "papermill": {
     "duration": 0.021162,
     "end_time": "2024-11-11T02:01:24.379861",
     "exception": false,
     "start_time": "2024-11-11T02:01:24.358699",
     "status": "completed"
    },
    "tags": []
   },
   "source": [
    "### One-shot and few-shot\n",
    "\n",
    "Providing an example of the expected response is known as a \"one-shot\" prompt. When you provide multiple examples, it is a \"few-shot\" prompt.\n",
    "\n",
    "<table align=left>\n",
    "  <td>\n",
    "    <a target=\"_blank\" href=\"https://aistudio.google.com/prompts/1jjWkjUSoMXmLvMJ7IzADr_GxHPJVV2bg\"><img src=\"https://ai.google.dev/site-assets/images/marketing/home/icon-ais.png\" style=\"height: 24px\" height=24/> Open in AI Studio</a>\n",
    "  </td>\n",
    "</table>\n"
   ]
  },
  {
   "cell_type": "code",
   "execution_count": 20,
   "id": "e93be115",
   "metadata": {
    "execution": {
     "iopub.execute_input": "2024-11-11T02:01:24.424787Z",
     "iopub.status.busy": "2024-11-11T02:01:24.424301Z",
     "iopub.status.idle": "2024-11-11T02:01:24.786064Z",
     "shell.execute_reply": "2024-11-11T02:01:24.784514Z"
    },
    "id": "hd4mVUukwOKZ",
    "papermill": {
     "duration": 0.387492,
     "end_time": "2024-11-11T02:01:24.788787",
     "exception": false,
     "start_time": "2024-11-11T02:01:24.401295",
     "status": "completed"
    },
    "tags": []
   },
   "outputs": [
    {
     "name": "stdout",
     "output_type": "stream",
     "text": [
      "```json\n",
      "{\n",
      "\"size\": \"large\",\n",
      "\"type\": \"normal\",\n",
      "\"ingredients\": [\"cheese\", \"pineapple\"]\n",
      "}\n",
      "``` \n",
      "\n"
     ]
    }
   ],
   "source": [
    "model = genai.GenerativeModel(\n",
    "    'gemini-1.5-flash-latest',\n",
    "    generation_config=genai.GenerationConfig(\n",
    "        temperature=0.1,\n",
    "        top_p=1,\n",
    "        max_output_tokens=250,\n",
    "    ))\n",
    "\n",
    "few_shot_prompt = \"\"\"Parse a customer's pizza order into valid JSON:\n",
    "\n",
    "EXAMPLE:\n",
    "I want a small pizza with cheese, tomato sauce, and pepperoni.\n",
    "JSON Response:\n",
    "```\n",
    "{\n",
    "\"size\": \"small\",\n",
    "\"type\": \"normal\",\n",
    "\"ingredients\": [\"cheese\", \"tomato sauce\", \"peperoni\"]\n",
    "}\n",
    "```\n",
    "\n",
    "EXAMPLE:\n",
    "Can I get a large pizza with tomato sauce, basil and mozzarella\n",
    "JSON Response:\n",
    "```\n",
    "{\n",
    "\"size\": \"large\",\n",
    "\"type\": \"normal\",\n",
    "\"ingredients\": [\"tomato sauce\", \"basil\", \"mozzarella\"]\n",
    "}\n",
    "\n",
    "ORDER:\n",
    "\"\"\"\n",
    "\n",
    "customer_order = \"Give me a large with cheese & pineapple\"\n",
    "\n",
    "\n",
    "response = model.generate_content([few_shot_prompt, customer_order])\n",
    "print(response.text)"
   ]
  },
  {
   "cell_type": "markdown",
   "id": "1ddefc2f",
   "metadata": {
    "id": "021293096f08",
    "papermill": {
     "duration": 0.021394,
     "end_time": "2024-11-11T02:01:24.832153",
     "exception": false,
     "start_time": "2024-11-11T02:01:24.810759",
     "status": "completed"
    },
    "tags": []
   },
   "source": [
    "#### JSON mode\n",
    "\n",
    "To provide control over the schema, and to ensure that you only receive JSON (with no other text or markdown), you can use the Gemini API's [JSON mode](https://github.com/google-gemini/cookbook/blob/main/quickstarts/JSON_mode.ipynb). This forces the model to constrain decoding, such that token selection is guided by the supplied schema."
   ]
  },
  {
   "cell_type": "code",
   "execution_count": 21,
   "id": "f2287a09",
   "metadata": {
    "execution": {
     "iopub.execute_input": "2024-11-11T02:01:24.877432Z",
     "iopub.status.busy": "2024-11-11T02:01:24.877026Z",
     "iopub.status.idle": "2024-11-11T02:01:25.776281Z",
     "shell.execute_reply": "2024-11-11T02:01:25.774910Z"
    },
    "id": "50fbf0260912",
    "papermill": {
     "duration": 0.925221,
     "end_time": "2024-11-11T02:01:25.779077",
     "exception": false,
     "start_time": "2024-11-11T02:01:24.853856",
     "status": "completed"
    },
    "tags": []
   },
   "outputs": [
    {
     "name": "stdout",
     "output_type": "stream",
     "text": [
      "{\"ingredients\": [\"apple\", \"chocolate\"], \"size\": \"large\", \"type\": \"dessert\"}\n",
      "\n"
     ]
    }
   ],
   "source": [
    "import typing_extensions as typing\n",
    "\n",
    "class PizzaOrder(typing.TypedDict):\n",
    "    size: str\n",
    "    ingredients: list[str]\n",
    "    type: str\n",
    "\n",
    "\n",
    "model = genai.GenerativeModel(\n",
    "    'gemini-1.5-pro-002',\n",
    "    generation_config=genai.GenerationConfig(\n",
    "        temperature=0.1,\n",
    "        response_mime_type=\"application/json\",\n",
    "        response_schema=PizzaOrder,\n",
    "    ))\n",
    "\n",
    "response = model.generate_content(\"Can I have a large dessert pizza with apple and chocolate\")\n",
    "print(response.text)"
   ]
  },
  {
   "cell_type": "markdown",
   "id": "880ef36b",
   "metadata": {
    "id": "4a93e338e57c",
    "papermill": {
     "duration": 0.021558,
     "end_time": "2024-11-11T02:01:25.823146",
     "exception": false,
     "start_time": "2024-11-11T02:01:25.801588",
     "status": "completed"
    },
    "tags": []
   },
   "source": [
    "### Chain of Thought (CoT)\n",
    "\n",
    "Direct prompting on LLMs can return answers quickly and (in terms of output token usage) efficiently, but they can be prone to hallucination. The answer may \"look\" correct (in terms of language and syntax) but is incorrect in terms of factuality and reasoning.\n",
    "\n",
    "Chain-of-Thought prompting is a technique where you instruct the model to output intermediate reasoning steps, and it typically gets better results, especially when combined with few-shot examples. It is worth noting that this technique doesn't completely eliminate hallucinations, and that it tends to cost more to run, due to the increased token count.\n",
    "\n",
    "As models like the Gemini family are trained to be \"chatty\" and provide reasoning steps, you can ask the model to be more direct in the prompt."
   ]
  },
  {
   "cell_type": "code",
   "execution_count": 22,
   "id": "c7ace899",
   "metadata": {
    "execution": {
     "iopub.execute_input": "2024-11-11T02:01:25.869051Z",
     "iopub.status.busy": "2024-11-11T02:01:25.868213Z",
     "iopub.status.idle": "2024-11-11T02:01:26.121430Z",
     "shell.execute_reply": "2024-11-11T02:01:26.120001Z"
    },
    "id": "5715555db1c1",
    "papermill": {
     "duration": 0.279127,
     "end_time": "2024-11-11T02:01:26.124202",
     "exception": false,
     "start_time": "2024-11-11T02:01:25.845075",
     "status": "completed"
    },
    "tags": []
   },
   "outputs": [
    {
     "name": "stdout",
     "output_type": "stream",
     "text": [
      "52 \n",
      "\n"
     ]
    }
   ],
   "source": [
    "prompt = \"\"\"When I was 4 years old, my partner was 3 times my age. Now, I\n",
    "am 20 years old. How old is my partner? Return the answer immediately.\"\"\"\n",
    "\n",
    "model = genai.GenerativeModel('gemini-1.5-flash-latest')\n",
    "response = model.generate_content(prompt)\n",
    "\n",
    "print(response.text)"
   ]
  },
  {
   "cell_type": "markdown",
   "id": "46b99db7",
   "metadata": {
    "id": "e12b19677bfd",
    "papermill": {
     "duration": 0.021879,
     "end_time": "2024-11-11T02:01:26.168218",
     "exception": false,
     "start_time": "2024-11-11T02:01:26.146339",
     "status": "completed"
    },
    "tags": []
   },
   "source": [
    "Now try the same approach, but indicate to the model that it should \"think step by step\"."
   ]
  },
  {
   "cell_type": "code",
   "execution_count": 23,
   "id": "4c5e471d",
   "metadata": {
    "execution": {
     "iopub.execute_input": "2024-11-11T02:01:26.214301Z",
     "iopub.status.busy": "2024-11-11T02:01:26.213861Z",
     "iopub.status.idle": "2024-11-11T02:01:26.892338Z",
     "shell.execute_reply": "2024-11-11T02:01:26.890903Z"
    },
    "id": "ffd7536a481f",
    "papermill": {
     "duration": 0.704715,
     "end_time": "2024-11-11T02:01:26.895224",
     "exception": false,
     "start_time": "2024-11-11T02:01:26.190509",
     "status": "completed"
    },
    "tags": []
   },
   "outputs": [
    {
     "name": "stdout",
     "output_type": "stream",
     "text": [
      "Here's how we can figure out your partner's age:\n",
      "\n",
      "* **When you were 4:** Your partner was 3 times your age, so they were 4 * 3 = 12 years old.\n",
      "* **Age difference:** The age difference between you and your partner is 12 - 4 = 8 years.\n",
      "* **Your current age:** You are now 20 years old.\n",
      "* **Partner's current age:** Since the age difference remains the same, your partner is now 20 + 8 = 28 years old. \n",
      "\n"
     ]
    }
   ],
   "source": [
    "prompt = \"\"\"When I was 4 years old, my partner was 3 times my age. Now,\n",
    "I am 20 years old. How old is my partner? Let's think step by step.\"\"\"\n",
    "\n",
    "response = model.generate_content(prompt)\n",
    "print(response.text)"
   ]
  },
  {
   "cell_type": "markdown",
   "id": "462585d8",
   "metadata": {
    "id": "oiLgBQJj0V53",
    "papermill": {
     "duration": 0.021792,
     "end_time": "2024-11-11T02:01:26.941321",
     "exception": false,
     "start_time": "2024-11-11T02:01:26.919529",
     "status": "completed"
    },
    "tags": []
   },
   "source": [
    "### ReAct: Reason and act\n",
    "\n",
    "In this example you will run a ReAct prompt directly in the Gemini API and perform the searching steps yourself. As this prompt follows a well-defined structure, there are frameworks available that wrap the prompt into easier-to-use APIs that make tool calls automatically, such as the LangChain example from the chapter.\n",
    "\n",
    "To try this out with the Wikipedia search engine, check out the [Searching Wikipedia with ReAct](https://github.com/google-gemini/cookbook/blob/main/examples/Search_Wikipedia_using_ReAct.ipynb) cookbook example.\n",
    "\n",
    "\n",
    "> Note: The prompt and in-context examples used here are from [https://github.com/ysymyth/ReAct](https://github.com/ysymyth/ReAct) which is published under a [MIT license](https://opensource.org/licenses/MIT), Copyright (c) 2023 Shunyu Yao.\n",
    "\n",
    "<table align=left>\n",
    "  <td>\n",
    "    <a target=\"_blank\" href=\"https://aistudio.google.com/prompts/18oo63Lwosd-bQ6Ay51uGogB3Wk3H8XMO\"><img src=\"https://ai.google.dev/site-assets/images/marketing/home/icon-ais.png\" style=\"height: 24px\" height=24/> Open in AI Studio</a>\n",
    "  </td>\n",
    "</table>\n"
   ]
  },
  {
   "cell_type": "code",
   "execution_count": 24,
   "id": "f0c82fbf",
   "metadata": {
    "execution": {
     "iopub.execute_input": "2024-11-11T02:01:26.988166Z",
     "iopub.status.busy": "2024-11-11T02:01:26.987699Z",
     "iopub.status.idle": "2024-11-11T02:01:26.996963Z",
     "shell.execute_reply": "2024-11-11T02:01:26.995745Z"
    },
    "id": "cBgyNJ5z0VSs",
    "papermill": {
     "duration": 0.035726,
     "end_time": "2024-11-11T02:01:26.999551",
     "exception": false,
     "start_time": "2024-11-11T02:01:26.963825",
     "status": "completed"
    },
    "tags": []
   },
   "outputs": [],
   "source": [
    "model_instructions = \"\"\"\n",
    "Solve a question answering task with interleaving Thought, Action, Observation steps. Thought can reason about the current situation,\n",
    "Observation is understanding relevant information from an Action's output and Action can be one of three types:\n",
    " (1) <search>entity</search>, which searches the exact entity on Wikipedia and returns the first paragraph if it exists. If not, it\n",
    "     will return some similar entities to search and you can try to search the information from those topics.\n",
    " (2) <lookup>keyword</lookup>, which returns the next sentence containing keyword in the current context. This only does exact matches,\n",
    "     so keep your searches short.\n",
    " (3) <finish>answer</finish>, which returns the answer and finishes the task.\n",
    "\"\"\"\n",
    "\n",
    "example1 = \"\"\"Question\n",
    "Musician and satirist Allie Goertz wrote a song about the \"The Simpsons\" character Milhouse, who Matt Groening named after who?\n",
    "\n",
    "Thought 1\n",
    "The question simplifies to \"The Simpsons\" character Milhouse is named after who. I only need to search Milhouse and find who it is named after.\n",
    "\n",
    "Action 1\n",
    "<search>Milhouse</search>\n",
    "\n",
    "Observation 1\n",
    "Milhouse Mussolini Van Houten is a recurring character in the Fox animated television series The Simpsons voiced by Pamela Hayden and created by Matt Groening.\n",
    "\n",
    "Thought 2\n",
    "The paragraph does not tell who Milhouse is named after, maybe I can look up \"named after\".\n",
    "\n",
    "Action 2\n",
    "<lookup>named after</lookup>\n",
    "\n",
    "Observation 2\n",
    "Milhouse was named after U.S. president Richard Nixon, whose middle name was Milhous.\n",
    "\n",
    "Thought 3\n",
    "Milhouse was named after U.S. president Richard Nixon, so the answer is Richard Nixon.\n",
    "\n",
    "Action 3\n",
    "<finish>Richard Nixon</finish>\n",
    "\"\"\"\n",
    "\n",
    "example2 = \"\"\"Question\n",
    "What is the elevation range for the area that the eastern sector of the Colorado orogeny extends into?\n",
    "\n",
    "Thought 1\n",
    "I need to search Colorado orogeny, find the area that the eastern sector of the Colorado orogeny extends into, then find the elevation range of the area.\n",
    "\n",
    "Action 1\n",
    "<search>Colorado orogeny</search>\n",
    "\n",
    "Observation 1\n",
    "The Colorado orogeny was an episode of mountain building (an orogeny) in Colorado and surrounding areas.\n",
    "\n",
    "Thought 2\n",
    "It does not mention the eastern sector. So I need to look up eastern sector.\n",
    "\n",
    "Action 2\n",
    "<lookup>eastern sector</lookup>\n",
    "\n",
    "Observation 2\n",
    "The eastern sector extends into the High Plains and is called the Central Plains orogeny.\n",
    "\n",
    "Thought 3\n",
    "The eastern sector of Colorado orogeny extends into the High Plains. So I need to search High Plains and find its elevation range.\n",
    "\n",
    "Action 3\n",
    "<search>High Plains</search>\n",
    "\n",
    "Observation 3\n",
    "High Plains refers to one of two distinct land regions\n",
    "\n",
    "Thought 4\n",
    "I need to instead search High Plains (United States).\n",
    "\n",
    "Action 4\n",
    "<search>High Plains (United States)</search>\n",
    "\n",
    "Observation 4\n",
    "The High Plains are a subregion of the Great Plains. From east to west, the High Plains rise in elevation from around 1,800 to 7,000 ft (550 to 2,130m).\n",
    "\n",
    "Thought 5\n",
    "High Plains rise in elevation from around 1,800 to 7,000 ft, so the answer is 1,800 to 7,000 ft.\n",
    "\n",
    "Action 5\n",
    "<finish>1,800 to 7,000 ft</finish>\n",
    "\"\"\"\n",
    "\n",
    "# Come up with more examples yourself, or take a look through https://github.com/ysymyth/ReAct/"
   ]
  },
  {
   "cell_type": "markdown",
   "id": "fb7e7bdb",
   "metadata": {
    "id": "C3wbfstjTgey",
    "papermill": {
     "duration": 0.021779,
     "end_time": "2024-11-11T02:01:27.043910",
     "exception": false,
     "start_time": "2024-11-11T02:01:27.022131",
     "status": "completed"
    },
    "tags": []
   },
   "source": [
    "To capture a single step at a time, while ignoring any hallucinated Observation steps, you will use `stop_sequences` to end the generation process. The steps are `Thought`, `Action`, `Observation`, in that order."
   ]
  },
  {
   "cell_type": "code",
   "execution_count": 25,
   "id": "dfe7d0f0",
   "metadata": {
    "execution": {
     "iopub.execute_input": "2024-11-11T02:01:27.090971Z",
     "iopub.status.busy": "2024-11-11T02:01:27.090515Z",
     "iopub.status.idle": "2024-11-11T02:01:29.763016Z",
     "shell.execute_reply": "2024-11-11T02:01:29.761579Z"
    },
    "id": "8mxrXRkRTdXm",
    "papermill": {
     "duration": 2.699108,
     "end_time": "2024-11-11T02:01:29.765663",
     "exception": false,
     "start_time": "2024-11-11T02:01:27.066555",
     "status": "completed"
    },
    "tags": []
   },
   "outputs": [
    {
     "name": "stdout",
     "output_type": "stream",
     "text": [
      "Thought 1\n",
      "I need to find the transformers NLP paper and then find the youngest author.\n",
      "\n",
      "Action 1\n",
      "<search>transformers NLP paper</search>\n",
      "\n"
     ]
    }
   ],
   "source": [
    "question = \"\"\"Question\n",
    "Who was the youngest author listed on the transformers NLP paper?\n",
    "\"\"\"\n",
    "\n",
    "model = genai.GenerativeModel('gemini-1.5-flash-latest')\n",
    "react_chat = model.start_chat()\n",
    "\n",
    "# You will perform the Action, so generate up to, but not including, the Observation.\n",
    "config = genai.GenerationConfig(stop_sequences=[\"\\nObservation\"])\n",
    "\n",
    "resp = react_chat.send_message(\n",
    "    [model_instructions, example1, example2, question],\n",
    "    generation_config=config)\n",
    "print(resp.text)"
   ]
  },
  {
   "cell_type": "markdown",
   "id": "27a53cea",
   "metadata": {
    "id": "aW2PIdLbVv3l",
    "papermill": {
     "duration": 0.022781,
     "end_time": "2024-11-11T02:01:29.810762",
     "exception": false,
     "start_time": "2024-11-11T02:01:29.787981",
     "status": "completed"
    },
    "tags": []
   },
   "source": [
    "Now you can perform this research yourself and supply it back to the model."
   ]
  },
  {
   "cell_type": "code",
   "execution_count": 26,
   "id": "f5adf392",
   "metadata": {
    "execution": {
     "iopub.execute_input": "2024-11-11T02:01:29.857864Z",
     "iopub.status.busy": "2024-11-11T02:01:29.857402Z",
     "iopub.status.idle": "2024-11-11T02:01:30.332267Z",
     "shell.execute_reply": "2024-11-11T02:01:30.331011Z"
    },
    "id": "mLMc0DZaV9g2",
    "papermill": {
     "duration": 0.501503,
     "end_time": "2024-11-11T02:01:30.334956",
     "exception": false,
     "start_time": "2024-11-11T02:01:29.833453",
     "status": "completed"
    },
    "tags": []
   },
   "outputs": [
    {
     "name": "stdout",
     "output_type": "stream",
     "text": [
      "Thought 2\n",
      "The observation shows the authors of the paper, but not their ages. So I need to search for each author and find their age.\n",
      "\n",
      "Action 2\n",
      "<search>Ashish Vaswani</search> \n",
      "\n"
     ]
    }
   ],
   "source": [
    "observation = \"\"\"Observation 1\n",
    "[1706.03762] Attention Is All You Need\n",
    "Ashish Vaswani, Noam Shazeer, Niki Parmar, Jakob Uszkoreit, Llion Jones, Aidan N. Gomez, Lukasz Kaiser, Illia Polosukhin\n",
    "We propose a new simple network architecture, the Transformer, based solely on attention mechanisms, dispensing with recurrence and convolutions entirely.\n",
    "\"\"\"\n",
    "resp = react_chat.send_message(observation, generation_config=config)\n",
    "print(resp.text)"
   ]
  },
  {
   "cell_type": "markdown",
   "id": "6d5c034b",
   "metadata": {
    "id": "bo0tzf4nX6dA",
    "papermill": {
     "duration": 0.021974,
     "end_time": "2024-11-11T02:01:30.379129",
     "exception": false,
     "start_time": "2024-11-11T02:01:30.357155",
     "status": "completed"
    },
    "tags": []
   },
   "source": [
    "This process repeats until the `<finish>` action is reached. You can continue running this yourself if you like, or try the [Wikipedia example](https://github.com/google-gemini/cookbook/blob/main/examples/Search_Wikipedia_using_ReAct.ipynb) to see a fully automated ReAct system at work."
   ]
  },
  {
   "cell_type": "markdown",
   "id": "f2b1c03f",
   "metadata": {
    "id": "jPiZ_eIIaVPt",
    "papermill": {
     "duration": 0.021778,
     "end_time": "2024-11-11T02:01:30.423063",
     "exception": false,
     "start_time": "2024-11-11T02:01:30.401285",
     "status": "completed"
    },
    "tags": []
   },
   "source": [
    "## Code prompting"
   ]
  },
  {
   "cell_type": "markdown",
   "id": "5a388ffb",
   "metadata": {
    "id": "ZinKamwXeR6C",
    "papermill": {
     "duration": 0.02194,
     "end_time": "2024-11-11T02:01:30.467353",
     "exception": false,
     "start_time": "2024-11-11T02:01:30.445413",
     "status": "completed"
    },
    "tags": []
   },
   "source": [
    "### Generating code\n",
    "\n",
    "The Gemini family of models can be used to generate code, configuration and scripts. Generating code can be helpful when learning to code, learning a new language or for rapidly generating a first draft.\n",
    "\n",
    "It's important to be aware that since LLMs can't reason, and can repeat training data, it's essential to read and test your code first, and comply with any relevant licenses.\n",
    "\n",
    "<table align=left>\n",
    "  <td>\n",
    "    <a target=\"_blank\" href=\"https://aistudio.google.com/prompts/1YX71JGtzDjXQkgdes8bP6i3oH5lCRKxv\"><img src=\"https://ai.google.dev/site-assets/images/marketing/home/icon-ais.png\" style=\"height: 24px\" height=24/> Open in AI Studio</a>\n",
    "  </td>\n",
    "</table>"
   ]
  },
  {
   "cell_type": "code",
   "execution_count": 27,
   "id": "1571f9ff",
   "metadata": {
    "execution": {
     "iopub.execute_input": "2024-11-11T02:01:30.513809Z",
     "iopub.status.busy": "2024-11-11T02:01:30.512856Z",
     "iopub.status.idle": "2024-11-11T02:01:30.853879Z",
     "shell.execute_reply": "2024-11-11T02:01:30.852747Z"
    },
    "id": "fOQP9pqmeUO1",
    "papermill": {
     "duration": 0.367126,
     "end_time": "2024-11-11T02:01:30.856474",
     "exception": false,
     "start_time": "2024-11-11T02:01:30.489348",
     "status": "completed"
    },
    "tags": []
   },
   "outputs": [
    {
     "data": {
      "text/markdown": [
       "```python\n",
       "def factorial(n):\n",
       "  if n == 0:\n",
       "    return 1\n",
       "  else:\n",
       "    return n * factorial(n-1)\n",
       "```"
      ],
      "text/plain": [
       "<IPython.core.display.Markdown object>"
      ]
     },
     "execution_count": 27,
     "metadata": {},
     "output_type": "execute_result"
    }
   ],
   "source": [
    "model = genai.GenerativeModel(\n",
    "    'gemini-1.5-flash-latest',\n",
    "    generation_config=genai.GenerationConfig(\n",
    "        temperature=1,\n",
    "        top_p=1,\n",
    "        max_output_tokens=1024,\n",
    "    ))\n",
    "\n",
    "# Gemini 1.5 models are very chatty, so it helps to specify they stick to the code.\n",
    "code_prompt = \"\"\"\n",
    "Write a Python function to calculate the factorial of a number. No explanation, provide only the code.\n",
    "\"\"\"\n",
    "\n",
    "response = model.generate_content(code_prompt)\n",
    "Markdown(response.text)"
   ]
  },
  {
   "cell_type": "markdown",
   "id": "ae9a1476",
   "metadata": {
    "id": "wlBMWSFhgVRQ",
    "papermill": {
     "duration": 0.022069,
     "end_time": "2024-11-11T02:01:30.901188",
     "exception": false,
     "start_time": "2024-11-11T02:01:30.879119",
     "status": "completed"
    },
    "tags": []
   },
   "source": [
    "### Code execution\n",
    "\n",
    "The Gemini API can automatically run generated code too, and will return the output.\n",
    "\n",
    "<table align=left>\n",
    "  <td>\n",
    "    <a target=\"_blank\" href=\"https://aistudio.google.com/prompts/11veFr_VYEwBWcLkhNLr-maCG0G8sS_7Z\"><img src=\"https://ai.google.dev/site-assets/images/marketing/home/icon-ais.png\" style=\"height: 24px\" height=24/> Open in AI Studio</a>\n",
    "  </td>\n",
    "</table>"
   ]
  },
  {
   "cell_type": "code",
   "execution_count": 28,
   "id": "b952a948",
   "metadata": {
    "execution": {
     "iopub.execute_input": "2024-11-11T02:01:30.949926Z",
     "iopub.status.busy": "2024-11-11T02:01:30.949455Z",
     "iopub.status.idle": "2024-11-11T02:01:31.547287Z",
     "shell.execute_reply": "2024-11-11T02:01:31.545939Z"
    },
    "id": "jT3OfWYfhjRL",
    "papermill": {
     "duration": 0.626612,
     "end_time": "2024-11-11T02:01:31.550146",
     "exception": false,
     "start_time": "2024-11-11T02:01:30.923534",
     "status": "completed"
    },
    "tags": []
   },
   "outputs": [
    {
     "data": {
      "text/markdown": [
       "There is only one even prime number: 2. \n",
       "\n",
       "All other even numbers are divisible by 2, and thus not prime. \n",
       "\n",
       "Therefore, the sum of the first 14 even primes is simply: 2. \n",
       "\n",
       "Let me know if you'd like to calculate the sum of the first 14 prime numbers, regardless of evenness! \n"
      ],
      "text/plain": [
       "<IPython.core.display.Markdown object>"
      ]
     },
     "execution_count": 28,
     "metadata": {},
     "output_type": "execute_result"
    }
   ],
   "source": [
    "model = genai.GenerativeModel(\n",
    "    'gemini-1.5-flash-latest',\n",
    "    tools='code_execution')\n",
    "\n",
    "code_exec_prompt = \"\"\"\n",
    "Calculate the sum of the first 14 prime numbers. Only consider the even primes, and make sure you get them all.\n",
    "\"\"\"\n",
    "\n",
    "response = model.generate_content(code_exec_prompt)\n",
    "Markdown(response.text)"
   ]
  },
  {
   "cell_type": "markdown",
   "id": "abd630d5",
   "metadata": {
    "id": "ZspT1GSkjG6d",
    "papermill": {
     "duration": 0.02343,
     "end_time": "2024-11-11T02:01:31.596551",
     "exception": false,
     "start_time": "2024-11-11T02:01:31.573121",
     "status": "completed"
    },
    "tags": []
   },
   "source": [
    "While this looks like a single-part response, you can inspect the response to see the each of the steps: initial text, code generation, execution results, and final text summary."
   ]
  },
  {
   "cell_type": "code",
   "execution_count": 29,
   "id": "ee8d8910",
   "metadata": {
    "execution": {
     "iopub.execute_input": "2024-11-11T02:01:31.644452Z",
     "iopub.status.busy": "2024-11-11T02:01:31.644008Z",
     "iopub.status.idle": "2024-11-11T02:01:31.650798Z",
     "shell.execute_reply": "2024-11-11T02:01:31.649617Z"
    },
    "id": "j4gQVzcRjRX-",
    "papermill": {
     "duration": 0.033937,
     "end_time": "2024-11-11T02:01:31.653437",
     "exception": false,
     "start_time": "2024-11-11T02:01:31.619500",
     "status": "completed"
    },
    "tags": []
   },
   "outputs": [
    {
     "name": "stdout",
     "output_type": "stream",
     "text": [
      "text: \"There is only one even prime number: 2. \\n\\nAll other even numbers are divisible by 2, and thus not prime. \\n\\nTherefore, the sum of the first 14 even primes is simply: 2. \\n\\nLet me know if you\\'d like to calculate the sum of the first 14 prime numbers, regardless of evenness! \\n\"\n",
      "\n",
      "-----\n"
     ]
    }
   ],
   "source": [
    "for part in response.candidates[0].content.parts:\n",
    "  print(part)\n",
    "  print(\"-----\")"
   ]
  },
  {
   "cell_type": "markdown",
   "id": "02f6eb98",
   "metadata": {
    "id": "1gUX8QzCj4d5",
    "papermill": {
     "duration": 0.022446,
     "end_time": "2024-11-11T02:01:31.698826",
     "exception": false,
     "start_time": "2024-11-11T02:01:31.676380",
     "status": "completed"
    },
    "tags": []
   },
   "source": [
    "### Explaining code\n",
    "\n",
    "The Gemini family of models can explain code to you too.\n",
    "\n",
    "<table align=left>\n",
    "  <td>\n",
    "    <a target=\"_blank\" href=\"https://aistudio.google.com/prompts/1N7LGzWzCYieyOf_7bAG4plrmkpDNmUyb\"><img src=\"https://ai.google.dev/site-assets/images/marketing/home/icon-ais.png\" style=\"height: 24px\" height=24/> Open in AI Studio</a>\n",
    "  </td>\n",
    "</table>"
   ]
  },
  {
   "cell_type": "code",
   "execution_count": 30,
   "id": "93e3ea2a",
   "metadata": {
    "execution": {
     "iopub.execute_input": "2024-11-11T02:01:31.746087Z",
     "iopub.status.busy": "2024-11-11T02:01:31.745600Z",
     "iopub.status.idle": "2024-11-11T02:01:34.369316Z",
     "shell.execute_reply": "2024-11-11T02:01:34.368004Z"
    },
    "id": "7_jPMMoxkIEb",
    "papermill": {
     "duration": 2.650521,
     "end_time": "2024-11-11T02:01:34.371974",
     "exception": false,
     "start_time": "2024-11-11T02:01:31.721453",
     "status": "completed"
    },
    "tags": []
   },
   "outputs": [
    {
     "data": {
      "text/markdown": [
       "This file is a Bash script that enhances your shell prompt to display information about the current Git repository. \n",
       "\n",
       "Here's a high-level explanation of its purpose and why you might use it:\n",
       "\n",
       "**What it is:**\n",
       "\n",
       "* **Git Prompt Configuration:** This script sets up a sophisticated Git prompt, providing details about the current repository's branch, status, remote tracking, and other relevant information.\n",
       "* **Bash and Zsh Compatibility:** It aims to work with both Bash and Zsh shells, with checks for specific shell features and syntax variations.\n",
       "* **Customizable Theme:** The script allows you to select and customize the color theme used in your prompt, using a simple configuration system.\n",
       "* **Virtual Environment Integration:** It can display your current virtual environment (e.g., virtualenv, conda) within the prompt, making it easier to identify which environment you're working in.\n",
       "* **Remote Status Tracking:** It periodically checks for updates from remote repositories and displays the status (ahead, behind, etc.) within the prompt. \n",
       "\n",
       "**Why you might use it:**\n",
       "\n",
       "* **Enhanced Git Awareness:**  Instead of constantly running `git status` or similar commands, you'll have immediate visual clues about your repository's state within the prompt.\n",
       "* **Improved Workflow:** It helps you quickly understand where you are in your Git workflow and what changes need to be addressed.\n",
       "* **Simplified Development:** You can see which branch you're on, whether your local copy is up-to-date, and if there are conflicts without needing to type commands.\n",
       "* **Customizable Prompt:** The script provides flexibility to customize the information displayed and the visual style of your prompt. \n",
       "\n",
       "**In essence, this script enhances your shell experience by tightly integrating Git information into your prompt, making it a more efficient and visually informative environment for Git-based development.**\n"
      ],
      "text/plain": [
       "<IPython.core.display.Markdown object>"
      ]
     },
     "execution_count": 30,
     "metadata": {},
     "output_type": "execute_result"
    }
   ],
   "source": [
    "file_contents = !curl https://raw.githubusercontent.com/magicmonty/bash-git-prompt/refs/heads/master/gitprompt.sh\n",
    "\n",
    "explain_prompt = f\"\"\"\n",
    "Please explain what this file does at a very high level. What is it, and why would I use it?\n",
    "\n",
    "```\n",
    "{file_contents}\n",
    "```\n",
    "\"\"\"\n",
    "\n",
    "model = genai.GenerativeModel('gemini-1.5-flash-latest')\n",
    "\n",
    "response = model.generate_content(explain_prompt)\n",
    "Markdown(response.text)"
   ]
  },
  {
   "cell_type": "markdown",
   "id": "f1494ffe",
   "metadata": {
    "id": "2a8266d97ce5",
    "papermill": {
     "duration": 0.0228,
     "end_time": "2024-11-11T02:01:34.418272",
     "exception": false,
     "start_time": "2024-11-11T02:01:34.395472",
     "status": "completed"
    },
    "tags": []
   },
   "source": [
    "## Learn more\n",
    "\n",
    "To learn more about prompting in depth:\n",
    "\n",
    "* Check out the whitepaper issued with today's content,\n",
    "* Try out the apps listed at the top of this notebook ([TextFX](https://textfx.withgoogle.com/), [SQL Talk](https://sql-talk-r5gdynozbq-uc.a.run.app/) and [NotebookLM](https://notebooklm.google/)),\n",
    "* Read the [Introduction to Prompting](https://ai.google.dev/gemini-api/docs/prompting-intro) from the Gemini API docs,\n",
    "* Explore the Gemini API's [prompt gallery](https://ai.google.dev/gemini-api/prompts) and try them out in AI Studio,\n",
    "* Check out the Gemini API cookbook for [inspirational examples](https://github.com/google-gemini/cookbook/blob/main/examples/) and [educational quickstarts](https://github.com/google-gemini/cookbook/blob/main/quickstarts/).\n",
    "\n",
    "And please share anything exciting you have tried in the Discord!"
   ]
  }
 ],
 "metadata": {
  "colab": {
   "name": "day-1-prompting.ipynb",
   "toc_visible": true
  },
  "kaggle": {
   "accelerator": "none",
   "dataSources": [],
   "dockerImageVersionId": 30786,
   "isGpuEnabled": false,
   "isInternetEnabled": true,
   "language": "python",
   "sourceType": "notebook"
  },
  "kernelspec": {
   "display_name": "Python 3",
   "language": "python",
   "name": "python3"
  },
  "language_info": {
   "codemirror_mode": {
    "name": "ipython",
    "version": 3
   },
   "file_extension": ".py",
   "mimetype": "text/x-python",
   "name": "python",
   "nbconvert_exporter": "python",
   "pygments_lexer": "ipython3",
   "version": "3.10.14"
  },
  "papermill": {
   "default_parameters": {},
   "duration": 188.136535,
   "end_time": "2024-11-11T02:01:35.064039",
   "environment_variables": {},
   "exception": null,
   "input_path": "__notebook__.ipynb",
   "output_path": "__notebook__.ipynb",
   "parameters": {},
   "start_time": "2024-11-11T01:58:26.927504",
   "version": "2.6.0"
  }
 },
 "nbformat": 4,
 "nbformat_minor": 5
}

{
 "cells": [
  {
   "cell_type": "markdown",
   "id": "bd13a2f3",
   "metadata": {
    "id": "v0WeWbFNkUSz",
    "papermill": {
     "duration": 0.012613,
     "end_time": "2024-11-12T06:01:20.484293",
     "exception": false,
     "start_time": "2024-11-12T06:01:20.471680",
     "status": "completed"
    },
    "tags": []
   },
   "source": [
    "##### Copyright 2024 Google LLC."
   ]
  },
  {
   "cell_type": "code",
   "execution_count": 1,
   "id": "25acd522",
   "metadata": {
    "cellView": "form",
    "execution": {
     "iopub.execute_input": "2024-11-12T06:01:20.510362Z",
     "iopub.status.busy": "2024-11-12T06:01:20.509904Z",
     "iopub.status.idle": "2024-11-12T06:01:20.517293Z",
     "shell.execute_reply": "2024-11-12T06:01:20.516016Z"
    },
    "id": "Aqwsgz9lkUst",
    "papermill": {
     "duration": 0.023817,
     "end_time": "2024-11-12T06:01:20.520236",
     "exception": false,
     "start_time": "2024-11-12T06:01:20.496419",
     "status": "completed"
    },
    "tags": []
   },
   "outputs": [],
   "source": [
    "# @title Licensed under the Apache License, Version 2.0 (the \"License\");\n",
    "# you may not use this file except in compliance with the License.\n",
    "# You may obtain a copy of the License at\n",
    "#\n",
    "# https://www.apache.org/licenses/LICENSE-2.0\n",
    "#\n",
    "# Unless required by applicable law or agreed to in writing, software\n",
    "# distributed under the License is distributed on an \"AS IS\" BASIS,\n",
    "# WITHOUT WARRANTIES OR CONDITIONS OF ANY KIND, either express or implied.\n",
    "# See the License for the specific language governing permissions and\n",
    "# limitations under the License."
   ]
  },
  {
   "cell_type": "markdown",
   "id": "8a5e8ce9",
   "metadata": {
    "id": "bhT1u-Pof10V",
    "papermill": {
     "duration": 0.011632,
     "end_time": "2024-11-12T06:01:20.543896",
     "exception": false,
     "start_time": "2024-11-12T06:01:20.532264",
     "status": "completed"
    },
    "tags": []
   },
   "source": [
    "# Day 2 - Classifying embeddings with Keras and the Gemini API\n",
    "\n",
    "## Overview\n",
    "\n",
    "Welcome back to the Kaggle 5-day Generative AI course. In this notebook, you'll learn to use the embeddings produced by the Gemini API to train a model that can classify newsgroup posts into the categories (the newsgroup itself) from the post contents.\n",
    "\n",
    "This technique uses the Gemini API's embeddings as input, avoiding the need to train on text input directly, and as a result it is able to perform quite well using relatively few examples compared to training a text model from scratch.\n",
    "\n",
    "## For help\n",
    "\n",
    "**Common issues are covered in the [FAQ and troubleshooting guide](https://www.kaggle.com/code/markishere/day-0-troubleshooting-and-faqs).**\n"
   ]
  },
  {
   "cell_type": "code",
   "execution_count": 2,
   "id": "c7ac0d56",
   "metadata": {
    "execution": {
     "iopub.execute_input": "2024-11-12T06:01:20.569600Z",
     "iopub.status.busy": "2024-11-12T06:01:20.569146Z",
     "iopub.status.idle": "2024-11-12T06:01:52.039874Z",
     "shell.execute_reply": "2024-11-12T06:01:52.038336Z"
    },
    "id": "FXq0ygI3BCdQ",
    "papermill": {
     "duration": 31.500066,
     "end_time": "2024-11-12T06:01:52.056033",
     "exception": false,
     "start_time": "2024-11-12T06:01:20.555967",
     "status": "completed"
    },
    "tags": []
   },
   "outputs": [
    {
     "name": "stdout",
     "output_type": "stream",
     "text": [
      "Note: you may need to restart the kernel to use updated packages.\n"
     ]
    }
   ],
   "source": [
    "%pip install -U -q \"google-generativeai>=0.8.3\""
   ]
  },
  {
   "cell_type": "code",
   "execution_count": 3,
   "id": "dfaf56c4",
   "metadata": {
    "execution": {
     "iopub.execute_input": "2024-11-12T06:01:52.082594Z",
     "iopub.status.busy": "2024-11-12T06:01:52.082118Z",
     "iopub.status.idle": "2024-11-12T06:01:53.272989Z",
     "shell.execute_reply": "2024-11-12T06:01:53.271529Z"
    },
    "id": "XiJjB2vWCQJP",
    "papermill": {
     "duration": 1.207876,
     "end_time": "2024-11-12T06:01:53.276079",
     "exception": false,
     "start_time": "2024-11-12T06:01:52.068203",
     "status": "completed"
    },
    "tags": []
   },
   "outputs": [],
   "source": [
    "import google.generativeai as genai"
   ]
  },
  {
   "cell_type": "markdown",
   "id": "e0a79a2e",
   "metadata": {
    "id": "_mwJYXpElYJc",
    "papermill": {
     "duration": 0.011875,
     "end_time": "2024-11-12T06:01:53.300139",
     "exception": false,
     "start_time": "2024-11-12T06:01:53.288264",
     "status": "completed"
    },
    "tags": []
   },
   "source": [
    "### Set up your API key\n",
    "\n",
    "To run the following cell, your API key must be stored it in a [Kaggle secret](https://www.kaggle.com/discussions/product-feedback/114053) named `GOOGLE_API_KEY`.\n",
    "\n",
    "If you don't already have an API key, you can grab one from [AI Studio](https://aistudio.google.com/app/apikey). You can find [detailed instructions in the docs](https://ai.google.dev/gemini-api/docs/api-key).\n",
    "\n",
    "To make the key available through Kaggle secrets, choose `Secrets` from the `Add-ons` menu and follow the instructions to add your key or enable it for this notebook."
   ]
  },
  {
   "cell_type": "code",
   "execution_count": 4,
   "id": "70e897b3",
   "metadata": {
    "execution": {
     "iopub.execute_input": "2024-11-12T06:01:53.327378Z",
     "iopub.status.busy": "2024-11-12T06:01:53.326437Z",
     "iopub.status.idle": "2024-11-12T06:01:53.480541Z",
     "shell.execute_reply": "2024-11-12T06:01:53.479285Z"
    },
    "id": "tayrk_A2lZ7A",
    "papermill": {
     "duration": 0.170672,
     "end_time": "2024-11-12T06:01:53.483473",
     "exception": false,
     "start_time": "2024-11-12T06:01:53.312801",
     "status": "completed"
    },
    "tags": []
   },
   "outputs": [],
   "source": [
    "from kaggle_secrets import UserSecretsClient\n",
    "\n",
    "GOOGLE_API_KEY = UserSecretsClient().get_secret(\"GOOGLE_API_KEY\")\n",
    "genai.configure(api_key=GOOGLE_API_KEY)"
   ]
  },
  {
   "attachments": {
    "d3939d80-b913-4db1-bd49-77f6183bf86e.png": {
     "image/png": "[encoded data removed]"
    }
   },
   "cell_type": "markdown",
   "id": "a115b105",
   "metadata": {
    "id": "c79728739642",
    "papermill": {
     "duration": 0.011508,
     "end_time": "2024-11-12T06:01:53.506935",
     "exception": false,
     "start_time": "2024-11-12T06:01:53.495427",
     "status": "completed"
    },
    "tags": []
   },
   "source": [
    "If you received an error response along the lines of `No user secrets exist for kernel id ...`, then you need to add your API key via `Add-ons`, `Secrets` **and** enable it.\n",
    "\n",
    "![Screenshot of the checkbox to enable GOOGLE_API_KEY secret](https://storage.googleapis.com/kaggle-media/Images/5gdai_sc_3.png)"
   ]
  },
  {
   "cell_type": "markdown",
   "id": "17c136da",
   "metadata": {
    "id": "C5B9sWq0hNEV",
    "papermill": {
     "duration": 0.011468,
     "end_time": "2024-11-12T06:01:53.530271",
     "exception": false,
     "start_time": "2024-11-12T06:01:53.518803",
     "status": "completed"
    },
    "tags": []
   },
   "source": [
    "## Dataset\n",
    "\n",
    "The [20 Newsgroups Text Dataset](https://scikit-learn.org/0.19/datasets/twenty_newsgroups.html) contains 18,000 newsgroups posts on 20 topics divided into training and test sets. The split between the training and test datasets are based on messages posted before and after a specific date. For this tutorial, you will use sampled subsets of the training and test sets, and perform some processing using Pandas."
   ]
  },
  {
   "cell_type": "code",
   "execution_count": 5,
   "id": "8fa5a21c",
   "metadata": {
    "execution": {
     "iopub.execute_input": "2024-11-12T06:01:53.555883Z",
     "iopub.status.busy": "2024-11-12T06:01:53.555400Z",
     "iopub.status.idle": "2024-11-12T06:02:07.690273Z",
     "shell.execute_reply": "2024-11-12T06:02:07.689112Z"
    },
    "id": "jDoKis4om-Ea",
    "papermill": {
     "duration": 14.151037,
     "end_time": "2024-11-12T06:02:07.693039",
     "exception": false,
     "start_time": "2024-11-12T06:01:53.542002",
     "status": "completed"
    },
    "tags": []
   },
   "outputs": [
    {
     "data": {
      "text/plain": [
       "['alt.atheism',\n",
       " 'comp.graphics',\n",
       " 'comp.os.ms-windows.misc',\n",
       " 'comp.sys.ibm.pc.hardware',\n",
       " 'comp.sys.mac.hardware',\n",
       " 'comp.windows.x',\n",
       " 'misc.forsale',\n",
       " 'rec.autos',\n",
       " 'rec.motorcycles',\n",
       " 'rec.sport.baseball',\n",
       " 'rec.sport.hockey',\n",
       " 'sci.crypt',\n",
       " 'sci.electronics',\n",
       " 'sci.med',\n",
       " 'sci.space',\n",
       " 'soc.religion.christian',\n",
       " 'talk.politics.guns',\n",
       " 'talk.politics.mideast',\n",
       " 'talk.politics.misc',\n",
       " 'talk.religion.misc']"
      ]
     },
     "execution_count": 5,
     "metadata": {},
     "output_type": "execute_result"
    }
   ],
   "source": [
    "from sklearn.datasets import fetch_20newsgroups\n",
    "\n",
    "newsgroups_train = fetch_20newsgroups(subset=\"train\")\n",
    "newsgroups_test = fetch_20newsgroups(subset=\"test\")\n",
    "\n",
    "# View list of class names for dataset\n",
    "newsgroups_train.target_names"
   ]
  },
  {
   "cell_type": "markdown",
   "id": "7cb17c56",
   "metadata": {
    "id": "hDz9MjkNl_FD",
    "papermill": {
     "duration": 0.01173,
     "end_time": "2024-11-12T06:02:07.717508",
     "exception": false,
     "start_time": "2024-11-12T06:02:07.705778",
     "status": "completed"
    },
    "tags": []
   },
   "source": [
    "Here is an example of what a record from the training set looks like."
   ]
  },
  {
   "cell_type": "code",
   "execution_count": 6,
   "id": "3a3076c2",
   "metadata": {
    "execution": {
     "iopub.execute_input": "2024-11-12T06:02:07.743967Z",
     "iopub.status.busy": "2024-11-12T06:02:07.743471Z",
     "iopub.status.idle": "2024-11-12T06:02:07.749671Z",
     "shell.execute_reply": "2024-11-12T06:02:07.748495Z"
    },
    "id": "FPq-56AimOPX",
    "papermill": {
     "duration": 0.022299,
     "end_time": "2024-11-12T06:02:07.752322",
     "exception": false,
     "start_time": "2024-11-12T06:02:07.730023",
     "status": "completed"
    },
    "tags": []
   },
   "outputs": [
    {
     "name": "stdout",
     "output_type": "stream",
     "text": [
      "From: lerxst@wam.umd.edu (where's my thing)\n",
      "Subject: WHAT car is this!?\n",
      "Nntp-Posting-Host: rac3.wam.umd.edu\n",
      "Organization: University of Maryland, College Park\n",
      "Lines: 15\n",
      "\n",
      " I was wondering if anyone out there could enlighten me on this car I saw\n",
      "the other day. It was a 2-door sports car, looked to be from the late 60s/\n",
      "early 70s. It was called a Bricklin. The doors were really small. In addition,\n",
      "the front bumper was separate from the rest of the body. This is \n",
      "all I know. If anyone can tellme a model name, engine specs, years\n",
      "of production, where this car is made, history, or whatever info you\n",
      "have on this funky looking car, please e-mail.\n",
      "\n",
      "Thanks,\n",
      "- IL\n",
      "   ---- brought to you by your neighborhood Lerxst ----\n",
      "\n",
      "\n",
      "\n",
      "\n",
      "\n"
     ]
    }
   ],
   "source": [
    "print(newsgroups_train.data[0])"
   ]
  },
  {
   "cell_type": "markdown",
   "id": "20dc2494",
   "metadata": {
    "id": "A9-DD7wgCx8j",
    "papermill": {
     "duration": 0.012253,
     "end_time": "2024-11-12T06:02:07.776976",
     "exception": false,
     "start_time": "2024-11-12T06:02:07.764723",
     "status": "completed"
    },
    "tags": []
   },
   "source": [
    "Start by preprocessing the data for this tutorial in a Pandas dataframe. To remove any sensitive information like names and email addresses, you will take only the subject and body of each message. This is an optional step that transforms the input data into more generic text, rather than email posts, so that it will work in other contexts."
   ]
  },
  {
   "cell_type": "code",
   "execution_count": 7,
   "id": "78390f95",
   "metadata": {
    "execution": {
     "iopub.execute_input": "2024-11-12T06:02:07.805185Z",
     "iopub.status.busy": "2024-11-12T06:02:07.804713Z",
     "iopub.status.idle": "2024-11-12T06:02:08.752985Z",
     "shell.execute_reply": "2024-11-12T06:02:08.751709Z"
    },
    "id": "urpLwp3UmPF3",
    "papermill": {
     "duration": 0.967114,
     "end_time": "2024-11-12T06:02:08.756205",
     "exception": false,
     "start_time": "2024-11-12T06:02:07.789091",
     "status": "completed"
    },
    "tags": []
   },
   "outputs": [],
   "source": [
    "import email\n",
    "import re\n",
    "\n",
    "import pandas as pd\n",
    "\n",
    "\n",
    "def preprocess_newsgroup_row(data):\n",
    "    # Extract only the subject and body\n",
    "    msg = email.message_from_string(data)\n",
    "    text = f\"{msg['Subject']}\\n\\n{msg.get_payload()}\"\n",
    "    # Strip any remaining email addresses\n",
    "    text = re.sub(r\"[\\w\\.-]+@[\\w\\.-]+\", \"\", text)\n",
    "    # Truncate each entry to 5,000 characters\n",
    "    text = text[:5000]\n",
    "\n",
    "    return text\n",
    "\n",
    "\n",
    "def preprocess_newsgroup_data(newsgroup_dataset):\n",
    "    # Put data points into dataframe\n",
    "    df = pd.DataFrame(\n",
    "        {\"Text\": newsgroup_dataset.data, \"Label\": newsgroup_dataset.target}\n",
    "    )\n",
    "    # Clean up the text\n",
    "    df[\"Text\"] = df[\"Text\"].apply(preprocess_newsgroup_row)\n",
    "    # Match label to target name index\n",
    "    df[\"Class Name\"] = df[\"Label\"].map(lambda l: newsgroup_dataset.target_names[l])\n",
    "\n",
    "    return df"
   ]
  },
  {
   "cell_type": "code",
   "execution_count": 8,
   "id": "9d3f0de5",
   "metadata": {
    "execution": {
     "iopub.execute_input": "2024-11-12T06:02:08.784275Z",
     "iopub.status.busy": "2024-11-12T06:02:08.783555Z",
     "iopub.status.idle": "2024-11-12T06:02:15.427344Z",
     "shell.execute_reply": "2024-11-12T06:02:15.426243Z"
    },
    "id": "JMKddQdNnAOV",
    "papermill": {
     "duration": 6.660928,
     "end_time": "2024-11-12T06:02:15.430025",
     "exception": false,
     "start_time": "2024-11-12T06:02:08.769097",
     "status": "completed"
    },
    "tags": []
   },
   "outputs": [
    {
     "data": {
      "text/html": [
       "<div>\n",
       "<style scoped>\n",
       "    .dataframe tbody tr th:only-of-type {\n",
       "        vertical-align: middle;\n",
       "    }\n",
       "\n",
       "    .dataframe tbody tr th {\n",
       "        vertical-align: top;\n",
       "    }\n",
       "\n",
       "    .dataframe thead th {\n",
       "        text-align: right;\n",
       "    }\n",
       "</style>\n",
       "<table border=\"1\" class=\"dataframe\">\n",
       "  <thead>\n",
       "    <tr style=\"text-align: right;\">\n",
       "      <th></th>\n",
       "      <th>Text</th>\n",
       "      <th>Label</th>\n",
       "      <th>Class Name</th>\n",
       "    </tr>\n",
       "  </thead>\n",
       "  <tbody>\n",
       "    <tr>\n",
       "      <th>0</th>\n",
       "      <td>WHAT car is this!?\\n\\n I was wondering if anyo...</td>\n",
       "      <td>7</td>\n",
       "      <td>rec.autos</td>\n",
       "    </tr>\n",
       "    <tr>\n",
       "      <th>1</th>\n",
       "      <td>SI Clock Poll - Final Call\\n\\nA fair number of...</td>\n",
       "      <td>4</td>\n",
       "      <td>comp.sys.mac.hardware</td>\n",
       "    </tr>\n",
       "    <tr>\n",
       "      <th>2</th>\n",
       "      <td>PB questions...\\n\\nwell folks, my mac plus fin...</td>\n",
       "      <td>4</td>\n",
       "      <td>comp.sys.mac.hardware</td>\n",
       "    </tr>\n",
       "    <tr>\n",
       "      <th>3</th>\n",
       "      <td>Re: Weitek P9000 ?\\n\\nRobert J.C. Kyanko () wr...</td>\n",
       "      <td>1</td>\n",
       "      <td>comp.graphics</td>\n",
       "    </tr>\n",
       "    <tr>\n",
       "      <th>4</th>\n",
       "      <td>Re: Shuttle Launch Question\\n\\nFrom article &lt;&gt;...</td>\n",
       "      <td>14</td>\n",
       "      <td>sci.space</td>\n",
       "    </tr>\n",
       "  </tbody>\n",
       "</table>\n",
       "</div>"
      ],
      "text/plain": [
       "                                                Text  Label  \\\n",
       "0  WHAT car is this!?\\n\\n I was wondering if anyo...      7   \n",
       "1  SI Clock Poll - Final Call\\n\\nA fair number of...      4   \n",
       "2  PB questions...\\n\\nwell folks, my mac plus fin...      4   \n",
       "3  Re: Weitek P9000 ?\\n\\nRobert J.C. Kyanko () wr...      1   \n",
       "4  Re: Shuttle Launch Question\\n\\nFrom article <>...     14   \n",
       "\n",
       "              Class Name  \n",
       "0              rec.autos  \n",
       "1  comp.sys.mac.hardware  \n",
       "2  comp.sys.mac.hardware  \n",
       "3          comp.graphics  \n",
       "4              sci.space  "
      ]
     },
     "execution_count": 8,
     "metadata": {},
     "output_type": "execute_result"
    }
   ],
   "source": [
    "# Apply preprocessing function to training and test datasets\n",
    "df_train = preprocess_newsgroup_data(newsgroups_train)\n",
    "df_test = preprocess_newsgroup_data(newsgroups_test)\n",
    "\n",
    "df_train.head()"
   ]
  },
  {
   "cell_type": "markdown",
   "id": "33a8d5e1",
   "metadata": {
    "id": "ogEGbg5XDv-T",
    "papermill": {
     "duration": 0.012084,
     "end_time": "2024-11-12T06:02:15.454997",
     "exception": false,
     "start_time": "2024-11-12T06:02:15.442913",
     "status": "completed"
    },
    "tags": []
   },
   "source": [
    "Next, you will sample some of the data by taking 100 data points in the training dataset, and dropping a few of the categories to run through this tutorial. Choose the science categories to compare."
   ]
  },
  {
   "cell_type": "code",
   "execution_count": 9,
   "id": "0308ee35",
   "metadata": {
    "execution": {
     "iopub.execute_input": "2024-11-12T06:02:15.482208Z",
     "iopub.status.busy": "2024-11-12T06:02:15.481727Z",
     "iopub.status.idle": "2024-11-12T06:02:15.489722Z",
     "shell.execute_reply": "2024-11-12T06:02:15.488667Z"
    },
    "id": "C2N7xXhJohLR",
    "papermill": {
     "duration": 0.024661,
     "end_time": "2024-11-12T06:02:15.492237",
     "exception": false,
     "start_time": "2024-11-12T06:02:15.467576",
     "status": "completed"
    },
    "tags": []
   },
   "outputs": [],
   "source": [
    "def sample_data(df, num_samples, classes_to_keep):\n",
    "    # Sample rows, selecting num_samples of each Label.\n",
    "    df = (\n",
    "        df.groupby(\"Label\")[df.columns]\n",
    "        .apply(lambda x: x.sample(num_samples))\n",
    "        .reset_index(drop=True)\n",
    "    )\n",
    "\n",
    "    df = df[df[\"Class Name\"].str.contains(classes_to_keep)]\n",
    "\n",
    "    # We have fewer categories now, so re-calibrate the label encoding.\n",
    "    df[\"Class Name\"] = df[\"Class Name\"].astype(\"category\")\n",
    "    df[\"Encoded Label\"] = df[\"Class Name\"].cat.codes\n",
    "\n",
    "    return df"
   ]
  },
  {
   "cell_type": "code",
   "execution_count": 10,
   "id": "83fb5078",
   "metadata": {
    "execution": {
     "iopub.execute_input": "2024-11-12T06:02:15.519309Z",
     "iopub.status.busy": "2024-11-12T06:02:15.518815Z",
     "iopub.status.idle": "2024-11-12T06:02:15.572901Z",
     "shell.execute_reply": "2024-11-12T06:02:15.571346Z"
    },
    "id": "jS2g_ZGupBUb",
    "papermill": {
     "duration": 0.072119,
     "end_time": "2024-11-12T06:02:15.576952",
     "exception": false,
     "start_time": "2024-11-12T06:02:15.504833",
     "status": "completed"
    },
    "tags": []
   },
   "outputs": [],
   "source": [
    "TRAIN_NUM_SAMPLES = 100\n",
    "TEST_NUM_SAMPLES = 25\n",
    "CLASSES_TO_KEEP = \"sci\"  # Class name should contain 'sci' to keep science categories\n",
    "\n",
    "df_train = sample_data(df_train, TRAIN_NUM_SAMPLES, CLASSES_TO_KEEP)\n",
    "df_test = sample_data(df_test, TEST_NUM_SAMPLES, CLASSES_TO_KEEP)"
   ]
  },
  {
   "cell_type": "code",
   "execution_count": 11,
   "id": "a88b6bf5",
   "metadata": {
    "execution": {
     "iopub.execute_input": "2024-11-12T06:02:15.606890Z",
     "iopub.status.busy": "2024-11-12T06:02:15.606396Z",
     "iopub.status.idle": "2024-11-12T06:02:15.621287Z",
     "shell.execute_reply": "2024-11-12T06:02:15.619865Z"
    },
    "id": "j04TMPY8rV5q",
    "papermill": {
     "duration": 0.031376,
     "end_time": "2024-11-12T06:02:15.623910",
     "exception": false,
     "start_time": "2024-11-12T06:02:15.592534",
     "status": "completed"
    },
    "tags": []
   },
   "outputs": [
    {
     "data": {
      "text/plain": [
       "Class Name\n",
       "sci.crypt          100\n",
       "sci.electronics    100\n",
       "sci.med            100\n",
       "sci.space          100\n",
       "Name: count, dtype: int64"
      ]
     },
     "execution_count": 11,
     "metadata": {},
     "output_type": "execute_result"
    }
   ],
   "source": [
    "df_train.value_counts(\"Class Name\")"
   ]
  },
  {
   "cell_type": "code",
   "execution_count": 12,
   "id": "4b6546ff",
   "metadata": {
    "execution": {
     "iopub.execute_input": "2024-11-12T06:02:15.651292Z",
     "iopub.status.busy": "2024-11-12T06:02:15.650831Z",
     "iopub.status.idle": "2024-11-12T06:02:15.662462Z",
     "shell.execute_reply": "2024-11-12T06:02:15.660864Z"
    },
    "id": "qMsnfkVDsJlU",
    "papermill": {
     "duration": 0.02849,
     "end_time": "2024-11-12T06:02:15.665185",
     "exception": false,
     "start_time": "2024-11-12T06:02:15.636695",
     "status": "completed"
    },
    "tags": []
   },
   "outputs": [
    {
     "data": {
      "text/plain": [
       "Class Name\n",
       "sci.crypt          25\n",
       "sci.electronics    25\n",
       "sci.med            25\n",
       "sci.space          25\n",
       "Name: count, dtype: int64"
      ]
     },
     "execution_count": 12,
     "metadata": {},
     "output_type": "execute_result"
    }
   ],
   "source": [
    "df_test.value_counts(\"Class Name\")"
   ]
  },
  {
   "cell_type": "markdown",
   "id": "9a39c14c",
   "metadata": {
    "id": "Kr-WlKzXjYWn",
    "papermill": {
     "duration": 0.012543,
     "end_time": "2024-11-12T06:02:15.690902",
     "exception": false,
     "start_time": "2024-11-12T06:02:15.678359",
     "status": "completed"
    },
    "tags": []
   },
   "source": [
    "## Create the embeddings\n",
    "\n",
    "In this section, you will generate embeddings for each piece of text using the Gemini API embeddings endpoint. To learn more about embeddings, visit the [embeddings guide](https://ai.google.dev/docs/embeddings_guide).\n",
    "\n",
    "**NOTE**: Embeddings are computed one at a time, so large sample sizes can take a long time!"
   ]
  },
  {
   "cell_type": "markdown",
   "id": "e267cb82",
   "metadata": {
    "id": "yPECMeE2xYA_",
    "papermill": {
     "duration": 0.012365,
     "end_time": "2024-11-12T06:02:15.716202",
     "exception": false,
     "start_time": "2024-11-12T06:02:15.703837",
     "status": "completed"
    },
    "tags": []
   },
   "source": [
    "### Task types\n",
    "\n",
    "The `text-embedding-004` model supports a task type parameter that generates embeddings tailored for the specific task.\n",
    "\n",
    "Task Type | Description\n",
    "---       | ---\n",
    "RETRIEVAL_QUERY\t| Specifies the given text is a query in a search/retrieval setting.\n",
    "RETRIEVAL_DOCUMENT | Specifies the given text is a document in a search/retrieval setting.\n",
    "SEMANTIC_SIMILARITY\t| Specifies the given text will be used for Semantic Textual Similarity (STS).\n",
    "CLASSIFICATION\t| Specifies that the embeddings will be used for classification.\n",
    "CLUSTERING\t| Specifies that the embeddings will be used for clustering.\n",
    "FACT_VERIFICATION | Specifies that the given text will be used for fact verification.\n",
    "\n",
    "For this example you will be performing classification."
   ]
  },
  {
   "cell_type": "code",
   "execution_count": 13,
   "id": "c3f1f92f",
   "metadata": {
    "execution": {
     "iopub.execute_input": "2024-11-12T06:02:15.744670Z",
     "iopub.status.busy": "2024-11-12T06:02:15.743401Z",
     "iopub.status.idle": "2024-11-12T06:02:15.754770Z",
     "shell.execute_reply": "2024-11-12T06:02:15.753155Z"
    },
    "id": "MTBGKkPQsotz",
    "papermill": {
     "duration": 0.030131,
     "end_time": "2024-11-12T06:02:15.759298",
     "exception": false,
     "start_time": "2024-11-12T06:02:15.729167",
     "status": "completed"
    },
    "tags": []
   },
   "outputs": [],
   "source": [
    "from tqdm.auto import tqdm\n",
    "\n",
    "tqdm.pandas()\n",
    "\n",
    "from google.api_core import retry\n",
    "\n",
    "\n",
    "@retry.Retry(timeout=300.0)\n",
    "def embed_fn(text: str) -> list[float]:\n",
    "    # You will be performing classification, so set task_type accordingly.\n",
    "    response = genai.embed_content(\n",
    "        model=\"models/text-embedding-004\", content=text, task_type=\"classification\"\n",
    "    )\n",
    "\n",
    "    return response[\"embedding\"]\n",
    "\n",
    "\n",
    "def create_embeddings(df):\n",
    "    df[\"Embeddings\"] = df[\"Text\"].progress_apply(embed_fn)\n",
    "    return df"
   ]
  },
  {
   "cell_type": "markdown",
   "id": "85e4d2d9",
   "metadata": {
    "id": "HVDwY8F2kW2O",
    "papermill": {
     "duration": 0.020118,
     "end_time": "2024-11-12T06:02:15.795276",
     "exception": false,
     "start_time": "2024-11-12T06:02:15.775158",
     "status": "completed"
    },
    "tags": []
   },
   "source": [
    "This code is optimised for clarity, and is not particularly fast. It is left as an exercise for the reader to implement [batch](https://ai.google.dev/api/embeddings#method:-models.batchembedcontents) or parallel/asynchronous embedding generation. Running this step will take some time."
   ]
  },
  {
   "cell_type": "code",
   "execution_count": 14,
   "id": "ac0a5fc5",
   "metadata": {
    "execution": {
     "iopub.execute_input": "2024-11-12T06:02:15.832694Z",
     "iopub.status.busy": "2024-11-12T06:02:15.832104Z",
     "iopub.status.idle": "2024-11-12T06:02:15.838280Z",
     "shell.execute_reply": "2024-11-12T06:02:15.836933Z"
    },
    "id": "AH0yrHUHtHtw",
    "papermill": {
     "duration": 0.029211,
     "end_time": "2024-11-12T06:02:15.841675",
     "exception": false,
     "start_time": "2024-11-12T06:02:15.812464",
     "status": "completed"
    },
    "tags": []
   },
   "outputs": [],
   "source": [
    "#df_train = create_embeddings(df_train)\n",
    "#df_test = create_embeddings(df_test)"
   ]
  },
  {
   "cell_type": "code",
   "execution_count": 15,
   "id": "10ce42ed",
   "metadata": {
    "execution": {
     "iopub.execute_input": "2024-11-12T06:02:15.871404Z",
     "iopub.status.busy": "2024-11-12T06:02:15.870938Z",
     "iopub.status.idle": "2024-11-12T06:04:00.773720Z",
     "shell.execute_reply": "2024-11-12T06:04:00.772042Z"
    },
    "papermill": {
     "duration": 104.920563,
     "end_time": "2024-11-12T06:04:00.777065",
     "exception": false,
     "start_time": "2024-11-12T06:02:15.856502",
     "status": "completed"
    },
    "tags": []
   },
   "outputs": [],
   "source": [
    "from concurrent.futures import ProcessPoolExecutor\n",
    "\n",
    "# Assuming create_embeddings is a function that generates embeddings.\n",
    "def create_embeddings_parallel(df):\n",
    "    return create_embeddings(df)\n",
    "\n",
    "# Using ProcessPoolExecutor to run the tasks concurrently\n",
    "with ProcessPoolExecutor() as executor:\n",
    "    # Run both embedding creation tasks concurrently\n",
    "    future_train = executor.submit(create_embeddings_parallel, df_train)\n",
    "    future_test = executor.submit(create_embeddings_parallel, df_test)\n",
    "    \n",
    "    # Wait for both tasks to finish\n",
    "    df_train = future_train.result()\n",
    "    df_test = future_test.result()\n"
   ]
  },
  {
   "cell_type": "code",
   "execution_count": 16,
   "id": "a0831b64",
   "metadata": {
    "execution": {
     "iopub.execute_input": "2024-11-12T06:04:00.806169Z",
     "iopub.status.busy": "2024-11-12T06:04:00.804857Z",
     "iopub.status.idle": "2024-11-12T06:04:00.829880Z",
     "shell.execute_reply": "2024-11-12T06:04:00.828583Z"
    },
    "id": "6G5TvLlmRjHc",
    "papermill": {
     "duration": 0.042273,
     "end_time": "2024-11-12T06:04:00.832483",
     "exception": false,
     "start_time": "2024-11-12T06:04:00.790210",
     "status": "completed"
    },
    "tags": []
   },
   "outputs": [
    {
     "data": {
      "text/html": [
       "<div>\n",
       "<style scoped>\n",
       "    .dataframe tbody tr th:only-of-type {\n",
       "        vertical-align: middle;\n",
       "    }\n",
       "\n",
       "    .dataframe tbody tr th {\n",
       "        vertical-align: top;\n",
       "    }\n",
       "\n",
       "    .dataframe thead th {\n",
       "        text-align: right;\n",
       "    }\n",
       "</style>\n",
       "<table border=\"1\" class=\"dataframe\">\n",
       "  <thead>\n",
       "    <tr style=\"text-align: right;\">\n",
       "      <th></th>\n",
       "      <th>Text</th>\n",
       "      <th>Label</th>\n",
       "      <th>Class Name</th>\n",
       "      <th>Encoded Label</th>\n",
       "      <th>Embeddings</th>\n",
       "    </tr>\n",
       "  </thead>\n",
       "  <tbody>\n",
       "    <tr>\n",
       "      <th>1100</th>\n",
       "      <td>Some Questions (was: REVISED SUMMARY)\\n\\n\\n\\n&gt;...</td>\n",
       "      <td>11</td>\n",
       "      <td>sci.crypt</td>\n",
       "      <td>0</td>\n",
       "      <td>[0.0022372338, 0.020462593, -0.05321156, 0.013...</td>\n",
       "    </tr>\n",
       "    <tr>\n",
       "      <th>1101</th>\n",
       "      <td>Some questions regarding Big Brother (Clipper)...</td>\n",
       "      <td>11</td>\n",
       "      <td>sci.crypt</td>\n",
       "      <td>0</td>\n",
       "      <td>[-0.0014039333, 0.023846978, -0.04958037, 0.02...</td>\n",
       "    </tr>\n",
       "    <tr>\n",
       "      <th>1102</th>\n",
       "      <td>Re: disk safety measure?\\n\\n (Tim Cuffel) writ...</td>\n",
       "      <td>11</td>\n",
       "      <td>sci.crypt</td>\n",
       "      <td>0</td>\n",
       "      <td>[0.0013202615, 0.025487913, -0.04431163, 0.013...</td>\n",
       "    </tr>\n",
       "    <tr>\n",
       "      <th>1103</th>\n",
       "      <td>Re: White House Public Encryption Management F...</td>\n",
       "      <td>11</td>\n",
       "      <td>sci.crypt</td>\n",
       "      <td>0</td>\n",
       "      <td>[-0.008736922, 0.026280187, -0.028252782, 0.03...</td>\n",
       "    </tr>\n",
       "    <tr>\n",
       "      <th>1104</th>\n",
       "      <td>Re: Re-inventing Crypto Policy?  An EFF Statem...</td>\n",
       "      <td>11</td>\n",
       "      <td>sci.crypt</td>\n",
       "      <td>0</td>\n",
       "      <td>[0.0104635, 0.019819029, -0.03724185, 0.035628...</td>\n",
       "    </tr>\n",
       "  </tbody>\n",
       "</table>\n",
       "</div>"
      ],
      "text/plain": [
       "                                                   Text  Label Class Name  \\\n",
       "1100  Some Questions (was: REVISED SUMMARY)\\n\\n\\n\\n>...     11  sci.crypt   \n",
       "1101  Some questions regarding Big Brother (Clipper)...     11  sci.crypt   \n",
       "1102  Re: disk safety measure?\\n\\n (Tim Cuffel) writ...     11  sci.crypt   \n",
       "1103  Re: White House Public Encryption Management F...     11  sci.crypt   \n",
       "1104  Re: Re-inventing Crypto Policy?  An EFF Statem...     11  sci.crypt   \n",
       "\n",
       "      Encoded Label                                         Embeddings  \n",
       "1100              0  [0.0022372338, 0.020462593, -0.05321156, 0.013...  \n",
       "1101              0  [-0.0014039333, 0.023846978, -0.04958037, 0.02...  \n",
       "1102              0  [0.0013202615, 0.025487913, -0.04431163, 0.013...  \n",
       "1103              0  [-0.008736922, 0.026280187, -0.028252782, 0.03...  \n",
       "1104              0  [0.0104635, 0.019819029, -0.03724185, 0.035628...  "
      ]
     },
     "execution_count": 16,
     "metadata": {},
     "output_type": "execute_result"
    }
   ],
   "source": [
    "df_train.head()"
   ]
  },
  {
   "cell_type": "markdown",
   "id": "b8b4e26f",
   "metadata": {
    "id": "QPYEYkIsWt_5",
    "papermill": {
     "duration": 0.012745,
     "end_time": "2024-11-12T06:04:00.858302",
     "exception": false,
     "start_time": "2024-11-12T06:04:00.845557",
     "status": "completed"
    },
    "tags": []
   },
   "source": [
    "## Build a simple classification model\n",
    "\n",
    "Here you will define a simple model that accepts the raw embedding data as input, has one hidden layer, and an output layer specifying the class probabilities. The prediction will correspond to the probability of a piece of text being a particular class of news.\n",
    "\n",
    "When you run the model, Keras will take care of details like shuffling the data points, calculating metrics and other ML boilerplate."
   ]
  },
  {
   "cell_type": "code",
   "execution_count": 17,
   "id": "b833c96a",
   "metadata": {
    "execution": {
     "iopub.execute_input": "2024-11-12T06:04:00.886211Z",
     "iopub.status.busy": "2024-11-12T06:04:00.885752Z",
     "iopub.status.idle": "2024-11-12T06:04:14.991204Z",
     "shell.execute_reply": "2024-11-12T06:04:14.989797Z"
    },
    "id": "3oLGi4w5JsQR",
    "papermill": {
     "duration": 14.122705,
     "end_time": "2024-11-12T06:04:14.994160",
     "exception": false,
     "start_time": "2024-11-12T06:04:00.871455",
     "status": "completed"
    },
    "tags": []
   },
   "outputs": [],
   "source": [
    "import keras\n",
    "from keras import layers\n",
    "\n",
    "\n",
    "def build_classification_model(input_size: int, num_classes: int) -> keras.Model:\n",
    "    return keras.Sequential(\n",
    "        [\n",
    "            layers.Input([input_size], name=\"embedding_inputs\"),\n",
    "            layers.Dense(input_size, activation=\"relu\", name=\"hidden\"),\n",
    "            layers.Dense(num_classes, activation=\"softmax\", name=\"output_probs\"),\n",
    "        ]\n",
    "    )"
   ]
  },
  {
   "cell_type": "code",
   "execution_count": 18,
   "id": "110f16b2",
   "metadata": {
    "execution": {
     "iopub.execute_input": "2024-11-12T06:04:15.026290Z",
     "iopub.status.busy": "2024-11-12T06:04:15.025394Z",
     "iopub.status.idle": "2024-11-12T06:04:15.162187Z",
     "shell.execute_reply": "2024-11-12T06:04:15.160739Z"
    },
    "id": "kORA1Akl5GsG",
    "papermill": {
     "duration": 0.155664,
     "end_time": "2024-11-12T06:04:15.165134",
     "exception": false,
     "start_time": "2024-11-12T06:04:15.009470",
     "status": "completed"
    },
    "tags": []
   },
   "outputs": [
    {
     "data": {
      "text/html": [
       "<pre style=\"white-space:pre;overflow-x:auto;line-height:normal;font-family:Menlo,'DejaVu Sans Mono',consolas,'Courier New',monospace\"><span style=\"font-weight: bold\">Model: \"sequential\"</span>\n",
       "</pre>\n"
      ],
      "text/plain": [
       "\u001b[1mModel: \"sequential\"\u001b[0m\n"
      ]
     },
     "metadata": {},
     "output_type": "display_data"
    },
    {
     "data": {
      "text/html": [
       "<pre style=\"white-space:pre;overflow-x:auto;line-height:normal;font-family:Menlo,'DejaVu Sans Mono',consolas,'Courier New',monospace\">┏━━━━━━━━━━━━━━━━━━━━━━━━━━━━━━━━━┳━━━━━━━━━━━━━━━━━━━━━━━━┳━━━━━━━━━━━━━━━┓\n",
       "┃<span style=\"font-weight: bold\"> Layer (type)                    </span>┃<span style=\"font-weight: bold\"> Output Shape           </span>┃<span style=\"font-weight: bold\">       Param # </span>┃\n",
       "┡━━━━━━━━━━━━━━━━━━━━━━━━━━━━━━━━━╇━━━━━━━━━━━━━━━━━━━━━━━━╇━━━━━━━━━━━━━━━┩\n",
       "│ hidden (<span style=\"color: #0087ff; text-decoration-color: #0087ff\">Dense</span>)                  │ (<span style=\"color: #00d7ff; text-decoration-color: #00d7ff\">None</span>, <span style=\"color: #00af00; text-decoration-color: #00af00\">768</span>)            │       <span style=\"color: #00af00; text-decoration-color: #00af00\">590,592</span> │\n",
       "├─────────────────────────────────┼────────────────────────┼───────────────┤\n",
       "│ output_probs (<span style=\"color: #0087ff; text-decoration-color: #0087ff\">Dense</span>)            │ (<span style=\"color: #00d7ff; text-decoration-color: #00d7ff\">None</span>, <span style=\"color: #00af00; text-decoration-color: #00af00\">4</span>)              │         <span style=\"color: #00af00; text-decoration-color: #00af00\">3,076</span> │\n",
       "└─────────────────────────────────┴────────────────────────┴───────────────┘\n",
       "</pre>\n"
      ],
      "text/plain": [
       "┏━━━━━━━━━━━━━━━━━━━━━━━━━━━━━━━━━┳━━━━━━━━━━━━━━━━━━━━━━━━┳━━━━━━━━━━━━━━━┓\n",
       "┃\u001b[1m \u001b[0m\u001b[1mLayer (type)                   \u001b[0m\u001b[1m \u001b[0m┃\u001b[1m \u001b[0m\u001b[1mOutput Shape          \u001b[0m\u001b[1m \u001b[0m┃\u001b[1m \u001b[0m\u001b[1m      Param #\u001b[0m\u001b[1m \u001b[0m┃\n",
       "┡━━━━━━━━━━━━━━━━━━━━━━━━━━━━━━━━━╇━━━━━━━━━━━━━━━━━━━━━━━━╇━━━━━━━━━━━━━━━┩\n",
       "│ hidden (\u001b[38;5;33mDense\u001b[0m)                  │ (\u001b[38;5;45mNone\u001b[0m, \u001b[38;5;34m768\u001b[0m)            │       \u001b[38;5;34m590,592\u001b[0m │\n",
       "├─────────────────────────────────┼────────────────────────┼───────────────┤\n",
       "│ output_probs (\u001b[38;5;33mDense\u001b[0m)            │ (\u001b[38;5;45mNone\u001b[0m, \u001b[38;5;34m4\u001b[0m)              │         \u001b[38;5;34m3,076\u001b[0m │\n",
       "└─────────────────────────────────┴────────────────────────┴───────────────┘\n"
      ]
     },
     "metadata": {},
     "output_type": "display_data"
    },
    {
     "data": {
      "text/html": [
       "<pre style=\"white-space:pre;overflow-x:auto;line-height:normal;font-family:Menlo,'DejaVu Sans Mono',consolas,'Courier New',monospace\"><span style=\"font-weight: bold\"> Total params: </span><span style=\"color: #00af00; text-decoration-color: #00af00\">593,668</span> (2.26 MB)\n",
       "</pre>\n"
      ],
      "text/plain": [
       "\u001b[1m Total params: \u001b[0m\u001b[38;5;34m593,668\u001b[0m (2.26 MB)\n"
      ]
     },
     "metadata": {},
     "output_type": "display_data"
    },
    {
     "data": {
      "text/html": [
       "<pre style=\"white-space:pre;overflow-x:auto;line-height:normal;font-family:Menlo,'DejaVu Sans Mono',consolas,'Courier New',monospace\"><span style=\"font-weight: bold\"> Trainable params: </span><span style=\"color: #00af00; text-decoration-color: #00af00\">593,668</span> (2.26 MB)\n",
       "</pre>\n"
      ],
      "text/plain": [
       "\u001b[1m Trainable params: \u001b[0m\u001b[38;5;34m593,668\u001b[0m (2.26 MB)\n"
      ]
     },
     "metadata": {},
     "output_type": "display_data"
    },
    {
     "data": {
      "text/html": [
       "<pre style=\"white-space:pre;overflow-x:auto;line-height:normal;font-family:Menlo,'DejaVu Sans Mono',consolas,'Courier New',monospace\"><span style=\"font-weight: bold\"> Non-trainable params: </span><span style=\"color: #00af00; text-decoration-color: #00af00\">0</span> (0.00 B)\n",
       "</pre>\n"
      ],
      "text/plain": [
       "\u001b[1m Non-trainable params: \u001b[0m\u001b[38;5;34m0\u001b[0m (0.00 B)\n"
      ]
     },
     "metadata": {},
     "output_type": "display_data"
    }
   ],
   "source": [
    "# Derive the embedding size from observing the data. The embedding size can also be specified\n",
    "# with the `output_dimensionality` parameter to `embed_content` if you need to reduce it.\n",
    "embedding_size = len(df_train[\"Embeddings\"].iloc[0])\n",
    "\n",
    "classifier = build_classification_model(\n",
    "    embedding_size, len(df_train[\"Class Name\"].unique())\n",
    ")\n",
    "classifier.summary()\n",
    "\n",
    "classifier.compile(\n",
    "    loss=keras.losses.SparseCategoricalCrossentropy(),\n",
    "    optimizer=keras.optimizers.Adam(learning_rate=0.001),\n",
    "    metrics=[\"accuracy\"],\n",
    ")"
   ]
  },
  {
   "cell_type": "markdown",
   "id": "07ee47fc",
   "metadata": {
    "id": "kbpTGGiMXDxl",
    "papermill": {
     "duration": 0.014001,
     "end_time": "2024-11-12T06:04:15.193589",
     "exception": false,
     "start_time": "2024-11-12T06:04:15.179588",
     "status": "completed"
    },
    "tags": []
   },
   "source": [
    "## Train the model\n",
    "\n",
    "Finally, you can train your model. This code uses early stopping to exit the training loop once the loss value stabilises, so the number of epoch loops executed may differ from the specified value."
   ]
  },
  {
   "cell_type": "code",
   "execution_count": 19,
   "id": "31780812",
   "metadata": {
    "execution": {
     "iopub.execute_input": "2024-11-12T06:04:15.225252Z",
     "iopub.status.busy": "2024-11-12T06:04:15.224774Z",
     "iopub.status.idle": "2024-11-12T06:04:19.221125Z",
     "shell.execute_reply": "2024-11-12T06:04:19.219818Z"
    },
    "id": "bGgvMZGfJ1A4",
    "papermill": {
     "duration": 4.0156,
     "end_time": "2024-11-12T06:04:19.224111",
     "exception": false,
     "start_time": "2024-11-12T06:04:15.208511",
     "status": "completed"
    },
    "tags": []
   },
   "outputs": [
    {
     "name": "stdout",
     "output_type": "stream",
     "text": [
      "Epoch 1/20\n",
      "\u001b[1m13/13\u001b[0m \u001b[32m━━━━━━━━━━━━━━━━━━━━\u001b[0m\u001b[37m\u001b[0m \u001b[1m1s\u001b[0m 28ms/step - accuracy: 0.2872 - loss: 1.3769 - val_accuracy: 0.4900 - val_loss: 1.3111\n",
      "Epoch 2/20\n",
      "\u001b[1m13/13\u001b[0m \u001b[32m━━━━━━━━━━━━━━━━━━━━\u001b[0m\u001b[37m\u001b[0m \u001b[1m0s\u001b[0m 10ms/step - accuracy: 0.6134 - loss: 1.2557 - val_accuracy: 0.5200 - val_loss: 1.1715\n",
      "Epoch 3/20\n",
      "\u001b[1m13/13\u001b[0m \u001b[32m━━━━━━━━━━━━━━━━━━━━\u001b[0m\u001b[37m\u001b[0m \u001b[1m0s\u001b[0m 10ms/step - accuracy: 0.7395 - loss: 1.0911 - val_accuracy: 0.7900 - val_loss: 1.0258\n",
      "Epoch 4/20\n",
      "\u001b[1m13/13\u001b[0m \u001b[32m━━━━━━━━━━━━━━━━━━━━\u001b[0m\u001b[37m\u001b[0m \u001b[1m0s\u001b[0m 10ms/step - accuracy: 0.8366 - loss: 0.9272 - val_accuracy: 0.8600 - val_loss: 0.8681\n",
      "Epoch 5/20\n",
      "\u001b[1m13/13\u001b[0m \u001b[32m━━━━━━━━━━━━━━━━━━━━\u001b[0m\u001b[37m\u001b[0m \u001b[1m0s\u001b[0m 10ms/step - accuracy: 0.8740 - loss: 0.7438 - val_accuracy: 0.9200 - val_loss: 0.7151\n",
      "Epoch 6/20\n",
      "\u001b[1m13/13\u001b[0m \u001b[32m━━━━━━━━━━━━━━━━━━━━\u001b[0m\u001b[37m\u001b[0m \u001b[1m0s\u001b[0m 10ms/step - accuracy: 0.9063 - loss: 0.5946 - val_accuracy: 0.8700 - val_loss: 0.6248\n",
      "Epoch 7/20\n",
      "\u001b[1m13/13\u001b[0m \u001b[32m━━━━━━━━━━━━━━━━━━━━\u001b[0m\u001b[37m\u001b[0m \u001b[1m0s\u001b[0m 10ms/step - accuracy: 0.9342 - loss: 0.4505 - val_accuracy: 0.9600 - val_loss: 0.5073\n",
      "Epoch 8/20\n",
      "\u001b[1m13/13\u001b[0m \u001b[32m━━━━━━━━━━━━━━━━━━━━\u001b[0m\u001b[37m\u001b[0m \u001b[1m0s\u001b[0m 10ms/step - accuracy: 0.9722 - loss: 0.3739 - val_accuracy: 0.9300 - val_loss: 0.4199\n",
      "Epoch 9/20\n",
      "\u001b[1m13/13\u001b[0m \u001b[32m━━━━━━━━━━━━━━━━━━━━\u001b[0m\u001b[37m\u001b[0m \u001b[1m0s\u001b[0m 9ms/step - accuracy: 0.9760 - loss: 0.2942 - val_accuracy: 0.9300 - val_loss: 0.3853\n",
      "Epoch 10/20\n",
      "\u001b[1m13/13\u001b[0m \u001b[32m━━━━━━━━━━━━━━━━━━━━\u001b[0m\u001b[37m\u001b[0m \u001b[1m0s\u001b[0m 10ms/step - accuracy: 0.9879 - loss: 0.2334 - val_accuracy: 0.9400 - val_loss: 0.3496\n",
      "Epoch 11/20\n",
      "\u001b[1m13/13\u001b[0m \u001b[32m━━━━━━━━━━━━━━━━━━━━\u001b[0m\u001b[37m\u001b[0m \u001b[1m0s\u001b[0m 10ms/step - accuracy: 0.9854 - loss: 0.1936 - val_accuracy: 0.9500 - val_loss: 0.3069\n",
      "Epoch 12/20\n",
      "\u001b[1m13/13\u001b[0m \u001b[32m━━━━━━━━━━━━━━━━━━━━\u001b[0m\u001b[37m\u001b[0m \u001b[1m0s\u001b[0m 9ms/step - accuracy: 0.9895 - loss: 0.1670 - val_accuracy: 0.9400 - val_loss: 0.2781\n",
      "Epoch 13/20\n",
      "\u001b[1m13/13\u001b[0m \u001b[32m━━━━━━━━━━━━━━━━━━━━\u001b[0m\u001b[37m\u001b[0m \u001b[1m0s\u001b[0m 9ms/step - accuracy: 0.9866 - loss: 0.1496 - val_accuracy: 0.9200 - val_loss: 0.2839\n",
      "Epoch 14/20\n",
      "\u001b[1m13/13\u001b[0m \u001b[32m━━━━━━━━━━━━━━━━━━━━\u001b[0m\u001b[37m\u001b[0m \u001b[1m0s\u001b[0m 10ms/step - accuracy: 0.9938 - loss: 0.1318 - val_accuracy: 0.9400 - val_loss: 0.2690\n",
      "Epoch 15/20\n",
      "\u001b[1m13/13\u001b[0m \u001b[32m━━━━━━━━━━━━━━━━━━━━\u001b[0m\u001b[37m\u001b[0m \u001b[1m0s\u001b[0m 10ms/step - accuracy: 0.9944 - loss: 0.1172 - val_accuracy: 0.9400 - val_loss: 0.2324\n",
      "Epoch 16/20\n",
      "\u001b[1m13/13\u001b[0m \u001b[32m━━━━━━━━━━━━━━━━━━━━\u001b[0m\u001b[37m\u001b[0m \u001b[1m0s\u001b[0m 10ms/step - accuracy: 0.9804 - loss: 0.1179 - val_accuracy: 0.9500 - val_loss: 0.2319\n",
      "Epoch 17/20\n",
      "\u001b[1m13/13\u001b[0m \u001b[32m━━━━━━━━━━━━━━━━━━━━\u001b[0m\u001b[37m\u001b[0m \u001b[1m0s\u001b[0m 10ms/step - accuracy: 0.9890 - loss: 0.0932 - val_accuracy: 0.9200 - val_loss: 0.2337\n"
     ]
    }
   ],
   "source": [
    "import numpy as np\n",
    "\n",
    "\n",
    "NUM_EPOCHS = 20\n",
    "BATCH_SIZE = 32\n",
    "\n",
    "# Split the x and y components of the train and validation subsets.\n",
    "y_train = df_train[\"Encoded Label\"]\n",
    "x_train = np.stack(df_train[\"Embeddings\"])\n",
    "y_val = df_test[\"Encoded Label\"]\n",
    "x_val = np.stack(df_test[\"Embeddings\"])\n",
    "\n",
    "# Specify that it's OK to stop early if accuracy stabilises.\n",
    "early_stop = keras.callbacks.EarlyStopping(monitor=\"accuracy\", patience=3)\n",
    "\n",
    "# Train the model for the desired number of epochs.\n",
    "history = classifier.fit(\n",
    "    x=x_train,\n",
    "    y=y_train,\n",
    "    validation_data=(x_val, y_val),\n",
    "    callbacks=[early_stop],\n",
    "    batch_size=BATCH_SIZE,\n",
    "    epochs=NUM_EPOCHS,\n",
    ")"
   ]
  },
  {
   "cell_type": "markdown",
   "id": "c10b3ec5",
   "metadata": {
    "id": "xGBaDHZUPdJO",
    "papermill": {
     "duration": 0.020715,
     "end_time": "2024-11-12T06:04:19.265935",
     "exception": false,
     "start_time": "2024-11-12T06:04:19.245220",
     "status": "completed"
    },
    "tags": []
   },
   "source": [
    "## Evaluate model performance\n",
    "\n",
    "Use Keras <a href=\"https://www.tensorflow.org/api_docs/python/tf/keras/Model#evaluate\"><code>Model.evaluate</code></a> to calculate the loss and accuracy on the test dataset."
   ]
  },
  {
   "cell_type": "code",
   "execution_count": 20,
   "id": "3f00c26d",
   "metadata": {
    "execution": {
     "iopub.execute_input": "2024-11-12T06:04:19.309701Z",
     "iopub.status.busy": "2024-11-12T06:04:19.309220Z",
     "iopub.status.idle": "2024-11-12T06:04:19.418241Z",
     "shell.execute_reply": "2024-11-12T06:04:19.416973Z"
    },
    "id": "d2kOeiqqQIB8",
    "papermill": {
     "duration": 0.134054,
     "end_time": "2024-11-12T06:04:19.420802",
     "exception": false,
     "start_time": "2024-11-12T06:04:19.286748",
     "status": "completed"
    },
    "tags": []
   },
   "outputs": [
    {
     "name": "stdout",
     "output_type": "stream",
     "text": [
      "\u001b[1m4/4\u001b[0m \u001b[32m━━━━━━━━━━━━━━━━━━━━\u001b[0m\u001b[37m\u001b[0m \u001b[1m0s\u001b[0m 4ms/step - accuracy: 0.9388 - loss: 0.1969 \n"
     ]
    },
    {
     "data": {
      "text/plain": [
       "{'accuracy': 0.9200000166893005, 'loss': 0.2337217926979065}"
      ]
     },
     "execution_count": 20,
     "metadata": {},
     "output_type": "execute_result"
    }
   ],
   "source": [
    "classifier.evaluate(x=x_val, y=y_val, return_dict=True)"
   ]
  },
  {
   "cell_type": "markdown",
   "id": "7c94b1a6",
   "metadata": {
    "id": "UyxMhiLYQXAN",
    "papermill": {
     "duration": 0.020829,
     "end_time": "2024-11-12T06:04:19.462741",
     "exception": false,
     "start_time": "2024-11-12T06:04:19.441912",
     "status": "completed"
    },
    "tags": []
   },
   "source": [
    "To learn more about training models with Keras, including how to visualise the model training metrics, read [Training & evaluation with built-in methods](https://www.tensorflow.org/guide/keras/training_with_built_in_methods)."
   ]
  },
  {
   "cell_type": "markdown",
   "id": "bd420ecc",
   "metadata": {
    "id": "XHyP-_torwsm",
    "papermill": {
     "duration": 0.021103,
     "end_time": "2024-11-12T06:04:19.504908",
     "exception": false,
     "start_time": "2024-11-12T06:04:19.483805",
     "status": "completed"
    },
    "tags": []
   },
   "source": [
    "## Try a custom prediction\n",
    "\n",
    "Now that you have a trained model with good evaluation metrics, you can try to make a prediction with new, hand-written data. Use the provided example or try your own data to see how the model performs."
   ]
  },
  {
   "cell_type": "code",
   "execution_count": 21,
   "id": "ad588d09",
   "metadata": {
    "execution": {
     "iopub.execute_input": "2024-11-12T06:04:19.550918Z",
     "iopub.status.busy": "2024-11-12T06:04:19.549544Z",
     "iopub.status.idle": "2024-11-12T06:04:20.043183Z",
     "shell.execute_reply": "2024-11-12T06:04:20.041930Z"
    },
    "id": "Lj4gR0Mdr2rb",
    "papermill": {
     "duration": 0.520102,
     "end_time": "2024-11-12T06:04:20.046350",
     "exception": false,
     "start_time": "2024-11-12T06:04:19.526248",
     "status": "completed"
    },
    "tags": []
   },
   "outputs": [],
   "source": [
    "# This example avoids any space-specific terminology to see if the model avoids\n",
    "# biases towards specific jargon.\n",
    "new_text = \"\"\"\n",
    "First-timer looking to get out of here.\n",
    "\n",
    "Hi, I'm writing about my interest in travelling to the outer limits!\n",
    "\n",
    "What kind of craft can I buy? What is easiest to access from this 3rd rock?\n",
    "\n",
    "Let me know how to do that please.\n",
    "\"\"\"\n",
    "embedded = embed_fn(new_text)"
   ]
  },
  {
   "cell_type": "code",
   "execution_count": 22,
   "id": "abc3ee23",
   "metadata": {
    "execution": {
     "iopub.execute_input": "2024-11-12T06:04:20.093544Z",
     "iopub.status.busy": "2024-11-12T06:04:20.091576Z",
     "iopub.status.idle": "2024-11-12T06:04:20.212309Z",
     "shell.execute_reply": "2024-11-12T06:04:20.210760Z"
    },
    "id": "CKTHEMrRsbcu",
    "papermill": {
     "duration": 0.147606,
     "end_time": "2024-11-12T06:04:20.215662",
     "exception": false,
     "start_time": "2024-11-12T06:04:20.068056",
     "status": "completed"
    },
    "tags": []
   },
   "outputs": [
    {
     "name": "stdout",
     "output_type": "stream",
     "text": [
      "\u001b[1m1/1\u001b[0m \u001b[32m━━━━━━━━━━━━━━━━━━━━\u001b[0m\u001b[37m\u001b[0m \u001b[1m0s\u001b[0m 54ms/step\n",
      "sci.crypt: 0.03%\n",
      "sci.electronics: 0.33%\n",
      "sci.med: 0.04%\n",
      "sci.space: 99.59%\n"
     ]
    }
   ],
   "source": [
    "# Remember that the model takes embeddings as input, and the input must be batched,\n",
    "# so here they are passed as a list to provide a batch of 1.\n",
    "inp = np.array([embedded])\n",
    "[result] = classifier.predict(inp)\n",
    "\n",
    "for idx, category in enumerate(df_test[\"Class Name\"].cat.categories):\n",
    "    print(f\"{category}: {result[idx] * 100:0.2f}%\")"
   ]
  }
 ],
 "metadata": {
  "colab": {
   "name": "day-2-classifying-embeddings-with-keras.ipynb",
   "toc_visible": true
  },
  "google": {
   "image_path": "/examples/train_text_classifier_embeddings_files/output_3ae76701e178_0.png",
   "keywords": [
    "examples",
    "googleai",
    "samplecode",
    "python",
    "embed"
   ]
  },
  "kaggle": {
   "accelerator": "none",
   "dataSources": [],
   "dockerImageVersionId": 30786,
   "isGpuEnabled": false,
   "isInternetEnabled": true,
   "language": "python",
   "sourceType": "notebook"
  },
  "kernelspec": {
   "display_name": "Python 3",
   "language": "python",
   "name": "python3"
  },
  "language_info": {
   "codemirror_mode": {
    "name": "ipython",
    "version": 3
   },
   "file_extension": ".py",
   "mimetype": "text/x-python",
   "name": "python",
   "nbconvert_exporter": "python",
   "pygments_lexer": "ipython3",
   "version": "3.10.14"
  },
  "papermill": {
   "default_parameters": {},
   "duration": 185.61534,
   "end_time": "2024-11-12T06:04:22.995208",
   "environment_variables": {},
   "exception": null,
   "input_path": "__notebook__.ipynb",
   "output_path": "__notebook__.ipynb",
   "parameters": {},
   "start_time": "2024-11-12T06:01:17.379868",
   "version": "2.6.0"
  }
 },
 "nbformat": 4,
 "nbformat_minor": 5
}

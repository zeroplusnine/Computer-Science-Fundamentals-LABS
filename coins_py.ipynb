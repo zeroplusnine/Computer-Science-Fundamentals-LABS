{
  "nbformat": 4,
  "nbformat_minor": 0,
  "metadata": {
    "colab": {
      "provenance": [],
      "authorship_tag": "ABX9TyOc71wbTiotEihpoVf41Q5V",
      "include_colab_link": true
    },
    "kernelspec": {
      "name": "python3",
      "display_name": "Python 3"
    },
    "language_info": {
      "name": "python"
    }
  },
  "cells": [
    {
      "cell_type": "markdown",
      "metadata": {
        "id": "view-in-github",
        "colab_type": "text"
      },
      "source": [
        "<a href=\"https://colab.research.google.com/github/zeroplusnine/Computer-Science-Fundamentals-LABS/blob/Week-3-Lab/coins_py.ipynb\" target=\"_parent\"><img src=\"https://colab.research.google.com/assets/colab-badge.svg\" alt=\"Open In Colab\"/></a>"
      ]
    },
    {
      "cell_type": "code",
      "execution_count": 33,
      "metadata": {
        "colab": {
          "base_uri": "https://localhost:8080/"
        },
        "id": "yZgqPEymPKcO",
        "outputId": "34d8fe3b-adcf-42db-faa8-5413910f3e44"
      },
      "outputs": [
        {
          "output_type": "stream",
          "name": "stdout",
          "text": [
            "Please enter the amount of money to convert:\n",
            "# of dollars:\n",
            "2\n",
            "# of cents:\n",
            "37\n",
            "The coins are 12 quarters, 1 dimes, 0 nickels and 2 pennies\n"
          ]
        }
      ],
      "source": [
        "#g2g\n",
        "print(\"Please enter the amount of money to convert:\")\n",
        "\n",
        "#g2g\n",
        "print(\"# of dollars:\")\n",
        "dollars = int(input()) * 100\n",
        "\n",
        "#g2g\n",
        "print(\"# of cents:\")\n",
        "cents = int(input())\n",
        "\n",
        "#needs work\n",
        "total = dollars + cents\n",
        "maxquarters = total // 25\n",
        "afterquarters = total % 25\n",
        "dimes = afterquarters // 10\n",
        "afterdimes = afterquarters % 10\n",
        "nickels = afterdimes // 5\n",
        "afternickels = afterdimes % 5\n",
        "pennies = afternickels // 1\n",
        "\n",
        "###final output\n",
        "print(\"The coins are\", quarters,\"quarters,\", dimes, \"dimes,\", nickels,\"nickels and\", pennies, \"pennies\")"
      ]
    }
  ]
}